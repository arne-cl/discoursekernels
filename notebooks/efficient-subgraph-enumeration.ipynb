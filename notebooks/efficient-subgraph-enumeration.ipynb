{
 "metadata": {
  "name": "",
  "signature": "sha256:79f776518551330e94e57f75357bdb24ebde1248eaf241ca2c7f81f38f60dc5f"
 },
 "nbformat": 3,
 "nbformat_minor": 0,
 "worksheets": [
  {
   "cells": [
    {
     "cell_type": "markdown",
     "metadata": {},
     "source": [
      "# Efficient Subgraph enumeration\n",
      "\n",
      "* paper: Wernicke (2006). Efficient Detection of Network Motifs.\n",
      "\n",
      "## Notation\n",
      "\n",
      "* graph G = (V, E)\n",
      "* all vertices in V are uniquely labeled with integers $1,...,n$ with $n = |V|$\n",
      "* $u > v$: the label of vertex $u$ is larger than that of vertex $v$\n",
      "* edges in G (**directed or undirected**) are identified using set notation\n",
      "* if $G$ is directed and contains both $(u,v)$ and $(v,u)$, these edges are represented\n",
      "  by a *bidirectional edge* $\\{u,v\\}$\n",
      "\n",
      "\n",
      "* relative complement set: $B \\backslash A = \\{ x \\in B | x \\notin A \\}$ (often called difference)\n",
      "* *size-k subgraph*: a connected subgraph that is induced from a node set of cardinality $k$\n",
      "\n",
      "### neighborhoods\n",
      "\n",
      "* for a set $V' \\subseteq V$, its *open neighborhood* $N(V')$ is the\n",
      "  set of all vertices $V \\backslash V'$ that are adjacent to at least one vertex in $V'$"
     ]
    },
    {
     "cell_type": "code",
     "collapsed": false,
     "input": [
      "from discoursekernels.util import print_source\n",
      "from discoursekernels.subgraph_enumeration import (\n",
      "    open_neighborhood, exclusive_neighborhood, enumerate_all_size_k_subgraphs,\n",
      "    enumerate_all_size_k_subgraphs_parellel,\n",
      "    extend_subgraph,\n",
      "    enumerate_all_subgraphs_upto_size_k,\n",
      "    enumerate_all_subgraphs_upto_size_k_parallel)\n",
      "\n",
      "print_source(open_neighborhood)"
     ],
     "language": "python",
     "metadata": {},
     "outputs": [
      {
       "output_type": "stream",
       "stream": "stdout",
       "text": [
        "Couldn't import _dotparser, loading of dot files will not be possible.\n"
       ]
      },
      {
       "html": [
        "<!DOCTYPE html PUBLIC \"-//W3C//DTD HTML 4.01//EN\"\n",
        "   \"http://www.w3.org/TR/html4/strict.dtd\">\n",
        "\n",
        "<html>\n",
        "<head>\n",
        "  <title></title>\n",
        "  <meta http-equiv=\"content-type\" content=\"text/html; charset=None\">\n",
        "  <style type=\"text/css\">\n",
        "td.linenos { background-color: #f0f0f0; padding-right: 10px; }\n",
        "span.lineno { background-color: #f0f0f0; padding: 0 5px 0 5px; }\n",
        "pre { line-height: 125%; }\n",
        "body .hll { background-color: #ffffcc }\n",
        "body .c { color: #408080; font-style: italic } /* Comment */\n",
        "body .err { border: 1px solid #FF0000 } /* Error */\n",
        "body .k { color: #008000; font-weight: bold } /* Keyword */\n",
        "body .o { color: #666666 } /* Operator */\n",
        "body .cm { color: #408080; font-style: italic } /* Comment.Multiline */\n",
        "body .cp { color: #BC7A00 } /* Comment.Preproc */\n",
        "body .c1 { color: #408080; font-style: italic } /* Comment.Single */\n",
        "body .cs { color: #408080; font-style: italic } /* Comment.Special */\n",
        "body .gd { color: #A00000 } /* Generic.Deleted */\n",
        "body .ge { font-style: italic } /* Generic.Emph */\n",
        "body .gr { color: #FF0000 } /* Generic.Error */\n",
        "body .gh { color: #000080; font-weight: bold } /* Generic.Heading */\n",
        "body .gi { color: #00A000 } /* Generic.Inserted */\n",
        "body .go { color: #888888 } /* Generic.Output */\n",
        "body .gp { color: #000080; font-weight: bold } /* Generic.Prompt */\n",
        "body .gs { font-weight: bold } /* Generic.Strong */\n",
        "body .gu { color: #800080; font-weight: bold } /* Generic.Subheading */\n",
        "body .gt { color: #0044DD } /* Generic.Traceback */\n",
        "body .kc { color: #008000; font-weight: bold } /* Keyword.Constant */\n",
        "body .kd { color: #008000; font-weight: bold } /* Keyword.Declaration */\n",
        "body .kn { color: #008000; font-weight: bold } /* Keyword.Namespace */\n",
        "body .kp { color: #008000 } /* Keyword.Pseudo */\n",
        "body .kr { color: #008000; font-weight: bold } /* Keyword.Reserved */\n",
        "body .kt { color: #B00040 } /* Keyword.Type */\n",
        "body .m { color: #666666 } /* Literal.Number */\n",
        "body .s { color: #BA2121 } /* Literal.String */\n",
        "body .na { color: #7D9029 } /* Name.Attribute */\n",
        "body .nb { color: #008000 } /* Name.Builtin */\n",
        "body .nc { color: #0000FF; font-weight: bold } /* Name.Class */\n",
        "body .no { color: #880000 } /* Name.Constant */\n",
        "body .nd { color: #AA22FF } /* Name.Decorator */\n",
        "body .ni { color: #999999; font-weight: bold } /* Name.Entity */\n",
        "body .ne { color: #D2413A; font-weight: bold } /* Name.Exception */\n",
        "body .nf { color: #0000FF } /* Name.Function */\n",
        "body .nl { color: #A0A000 } /* Name.Label */\n",
        "body .nn { color: #0000FF; font-weight: bold } /* Name.Namespace */\n",
        "body .nt { color: #008000; font-weight: bold } /* Name.Tag */\n",
        "body .nv { color: #19177C } /* Name.Variable */\n",
        "body .ow { color: #AA22FF; font-weight: bold } /* Operator.Word */\n",
        "body .w { color: #bbbbbb } /* Text.Whitespace */\n",
        "body .mf { color: #666666 } /* Literal.Number.Float */\n",
        "body .mh { color: #666666 } /* Literal.Number.Hex */\n",
        "body .mi { color: #666666 } /* Literal.Number.Integer */\n",
        "body .mo { color: #666666 } /* Literal.Number.Oct */\n",
        "body .sb { color: #BA2121 } /* Literal.String.Backtick */\n",
        "body .sc { color: #BA2121 } /* Literal.String.Char */\n",
        "body .sd { color: #BA2121; font-style: italic } /* Literal.String.Doc */\n",
        "body .s2 { color: #BA2121 } /* Literal.String.Double */\n",
        "body .se { color: #BB6622; font-weight: bold } /* Literal.String.Escape */\n",
        "body .sh { color: #BA2121 } /* Literal.String.Heredoc */\n",
        "body .si { color: #BB6688; font-weight: bold } /* Literal.String.Interpol */\n",
        "body .sx { color: #008000 } /* Literal.String.Other */\n",
        "body .sr { color: #BB6688 } /* Literal.String.Regex */\n",
        "body .s1 { color: #BA2121 } /* Literal.String.Single */\n",
        "body .ss { color: #19177C } /* Literal.String.Symbol */\n",
        "body .bp { color: #008000 } /* Name.Builtin.Pseudo */\n",
        "body .vc { color: #19177C } /* Name.Variable.Class */\n",
        "body .vg { color: #19177C } /* Name.Variable.Global */\n",
        "body .vi { color: #19177C } /* Name.Variable.Instance */\n",
        "body .il { color: #666666 } /* Literal.Number.Integer.Long */\n",
        "\n",
        "  </style>\n",
        "</head>\n",
        "<body>\n",
        "<h2></h2>\n",
        "\n",
        "<div class=\"highlight\"><pre><span class=\"k\">def</span> <span class=\"nf\">open_neighborhood</span><span class=\"p\">(</span><span class=\"n\">graph</span><span class=\"p\">,</span> <span class=\"n\">node_subset</span><span class=\"p\">):</span>\n",
        "    <span class=\"sd\">&quot;&quot;&quot;</span>\n",
        "<span class=\"sd\">    $N(V&#39;)$: returns the set of all nodes that are in the graph&#39;s node set</span>\n",
        "<span class=\"sd\">    (but not in the given subset) and are adjacent to at least one node</span>\n",
        "<span class=\"sd\">    in the subset. Based on Wernicke (2006).</span>\n",
        "\n",
        "<span class=\"sd\">    WARNING: different results for directed vs. undirected graphs</span>\n",
        "<span class=\"sd\">    &quot;&quot;&quot;</span>\n",
        "    <span class=\"n\">open_nbh</span> <span class=\"o\">=</span> <span class=\"nb\">set</span><span class=\"p\">()</span>\n",
        "    <span class=\"n\">node_set</span> <span class=\"o\">=</span> <span class=\"nb\">set</span><span class=\"p\">(</span><span class=\"n\">graph</span><span class=\"o\">.</span><span class=\"n\">nodes</span><span class=\"p\">())</span>\n",
        "    <span class=\"n\">nodes_not_in_subset</span> <span class=\"o\">=</span> <span class=\"n\">node_set</span> <span class=\"o\">-</span> <span class=\"n\">node_subset</span>\n",
        "    <span class=\"k\">for</span> <span class=\"n\">node_not_in_subset</span> <span class=\"ow\">in</span> <span class=\"n\">nodes_not_in_subset</span><span class=\"p\">:</span>\n",
        "        <span class=\"k\">if</span> <span class=\"nb\">any</span><span class=\"p\">(</span><span class=\"n\">neighbor</span> <span class=\"ow\">in</span> <span class=\"n\">node_subset</span>\n",
        "               <span class=\"k\">for</span> <span class=\"n\">neighbor</span> <span class=\"ow\">in</span> <span class=\"n\">graph</span><span class=\"o\">.</span><span class=\"n\">neighbors</span><span class=\"p\">(</span><span class=\"n\">node_not_in_subset</span><span class=\"p\">)):</span>\n",
        "            <span class=\"n\">open_nbh</span><span class=\"o\">.</span><span class=\"n\">add</span><span class=\"p\">(</span><span class=\"n\">node_not_in_subset</span><span class=\"p\">)</span>\n",
        "    <span class=\"k\">return</span> <span class=\"n\">open_nbh</span>\n",
        "</pre></div>\n",
        "</body>\n",
        "</html>\n"
       ],
       "metadata": {},
       "output_type": "pyout",
       "prompt_number": 1,
       "text": [
        "<IPython.core.display.HTML at 0x36c3550>"
       ]
      }
     ],
     "prompt_number": 1
    },
    {
     "cell_type": "markdown",
     "metadata": {},
     "source": [
      "* $N_{excl}(v, V')$: for a vertex $v \\in V \\backslash V'$ its *exclusive neighborhood* w.r.t. $V'$\n",
      "  consists of all vertices neighboring $v$ that don't belong to $V' \\cup N(V')$"
     ]
    },
    {
     "cell_type": "code",
     "collapsed": false,
     "input": [
      "print_source(exclusive_neighborhood)"
     ],
     "language": "python",
     "metadata": {},
     "outputs": [
      {
       "html": [
        "<!DOCTYPE html PUBLIC \"-//W3C//DTD HTML 4.01//EN\"\n",
        "   \"http://www.w3.org/TR/html4/strict.dtd\">\n",
        "\n",
        "<html>\n",
        "<head>\n",
        "  <title></title>\n",
        "  <meta http-equiv=\"content-type\" content=\"text/html; charset=None\">\n",
        "  <style type=\"text/css\">\n",
        "td.linenos { background-color: #f0f0f0; padding-right: 10px; }\n",
        "span.lineno { background-color: #f0f0f0; padding: 0 5px 0 5px; }\n",
        "pre { line-height: 125%; }\n",
        "body .hll { background-color: #ffffcc }\n",
        "body .c { color: #408080; font-style: italic } /* Comment */\n",
        "body .err { border: 1px solid #FF0000 } /* Error */\n",
        "body .k { color: #008000; font-weight: bold } /* Keyword */\n",
        "body .o { color: #666666 } /* Operator */\n",
        "body .cm { color: #408080; font-style: italic } /* Comment.Multiline */\n",
        "body .cp { color: #BC7A00 } /* Comment.Preproc */\n",
        "body .c1 { color: #408080; font-style: italic } /* Comment.Single */\n",
        "body .cs { color: #408080; font-style: italic } /* Comment.Special */\n",
        "body .gd { color: #A00000 } /* Generic.Deleted */\n",
        "body .ge { font-style: italic } /* Generic.Emph */\n",
        "body .gr { color: #FF0000 } /* Generic.Error */\n",
        "body .gh { color: #000080; font-weight: bold } /* Generic.Heading */\n",
        "body .gi { color: #00A000 } /* Generic.Inserted */\n",
        "body .go { color: #888888 } /* Generic.Output */\n",
        "body .gp { color: #000080; font-weight: bold } /* Generic.Prompt */\n",
        "body .gs { font-weight: bold } /* Generic.Strong */\n",
        "body .gu { color: #800080; font-weight: bold } /* Generic.Subheading */\n",
        "body .gt { color: #0044DD } /* Generic.Traceback */\n",
        "body .kc { color: #008000; font-weight: bold } /* Keyword.Constant */\n",
        "body .kd { color: #008000; font-weight: bold } /* Keyword.Declaration */\n",
        "body .kn { color: #008000; font-weight: bold } /* Keyword.Namespace */\n",
        "body .kp { color: #008000 } /* Keyword.Pseudo */\n",
        "body .kr { color: #008000; font-weight: bold } /* Keyword.Reserved */\n",
        "body .kt { color: #B00040 } /* Keyword.Type */\n",
        "body .m { color: #666666 } /* Literal.Number */\n",
        "body .s { color: #BA2121 } /* Literal.String */\n",
        "body .na { color: #7D9029 } /* Name.Attribute */\n",
        "body .nb { color: #008000 } /* Name.Builtin */\n",
        "body .nc { color: #0000FF; font-weight: bold } /* Name.Class */\n",
        "body .no { color: #880000 } /* Name.Constant */\n",
        "body .nd { color: #AA22FF } /* Name.Decorator */\n",
        "body .ni { color: #999999; font-weight: bold } /* Name.Entity */\n",
        "body .ne { color: #D2413A; font-weight: bold } /* Name.Exception */\n",
        "body .nf { color: #0000FF } /* Name.Function */\n",
        "body .nl { color: #A0A000 } /* Name.Label */\n",
        "body .nn { color: #0000FF; font-weight: bold } /* Name.Namespace */\n",
        "body .nt { color: #008000; font-weight: bold } /* Name.Tag */\n",
        "body .nv { color: #19177C } /* Name.Variable */\n",
        "body .ow { color: #AA22FF; font-weight: bold } /* Operator.Word */\n",
        "body .w { color: #bbbbbb } /* Text.Whitespace */\n",
        "body .mf { color: #666666 } /* Literal.Number.Float */\n",
        "body .mh { color: #666666 } /* Literal.Number.Hex */\n",
        "body .mi { color: #666666 } /* Literal.Number.Integer */\n",
        "body .mo { color: #666666 } /* Literal.Number.Oct */\n",
        "body .sb { color: #BA2121 } /* Literal.String.Backtick */\n",
        "body .sc { color: #BA2121 } /* Literal.String.Char */\n",
        "body .sd { color: #BA2121; font-style: italic } /* Literal.String.Doc */\n",
        "body .s2 { color: #BA2121 } /* Literal.String.Double */\n",
        "body .se { color: #BB6622; font-weight: bold } /* Literal.String.Escape */\n",
        "body .sh { color: #BA2121 } /* Literal.String.Heredoc */\n",
        "body .si { color: #BB6688; font-weight: bold } /* Literal.String.Interpol */\n",
        "body .sx { color: #008000 } /* Literal.String.Other */\n",
        "body .sr { color: #BB6688 } /* Literal.String.Regex */\n",
        "body .s1 { color: #BA2121 } /* Literal.String.Single */\n",
        "body .ss { color: #19177C } /* Literal.String.Symbol */\n",
        "body .bp { color: #008000 } /* Name.Builtin.Pseudo */\n",
        "body .vc { color: #19177C } /* Name.Variable.Class */\n",
        "body .vg { color: #19177C } /* Name.Variable.Global */\n",
        "body .vi { color: #19177C } /* Name.Variable.Instance */\n",
        "body .il { color: #666666 } /* Literal.Number.Integer.Long */\n",
        "\n",
        "  </style>\n",
        "</head>\n",
        "<body>\n",
        "<h2></h2>\n",
        "\n",
        "<div class=\"highlight\"><pre><span class=\"k\">def</span> <span class=\"nf\">exclusive_neighborhood</span><span class=\"p\">(</span><span class=\"n\">graph</span><span class=\"p\">,</span> <span class=\"n\">node</span><span class=\"p\">,</span> <span class=\"n\">node_subset</span><span class=\"p\">):</span>\n",
        "    <span class=\"sd\">&quot;&quot;&quot;</span>\n",
        "<span class=\"sd\">    given a node v that doesn&#39;t belong to the given node subset V&#39;,</span>\n",
        "<span class=\"sd\">    returns all nodes that are neighbors of v, but don&#39;t belong to</span>\n",
        "<span class=\"sd\">    the node subset V&#39; or its open neighborhood N(V&#39;).</span>\n",
        "<span class=\"sd\">    Based on Wernicke (2006).</span>\n",
        "\n",
        "<span class=\"sd\">    WARNING: different results for directed vs. undirected graphs</span>\n",
        "<span class=\"sd\">    &quot;&quot;&quot;</span>\n",
        "    <span class=\"k\">assert</span> <span class=\"n\">node</span> <span class=\"ow\">not</span> <span class=\"ow\">in</span> <span class=\"n\">node_subset</span>\n",
        "    <span class=\"n\">open_nbh</span> <span class=\"o\">=</span> <span class=\"n\">open_neighborhood</span><span class=\"p\">(</span><span class=\"n\">graph</span><span class=\"p\">,</span> <span class=\"n\">node_subset</span><span class=\"p\">)</span>\n",
        "\n",
        "    <span class=\"n\">exclusive_nbh</span> <span class=\"o\">=</span> <span class=\"nb\">set</span><span class=\"p\">()</span>\n",
        "    <span class=\"k\">for</span> <span class=\"n\">neighbor</span> <span class=\"ow\">in</span> <span class=\"n\">graph</span><span class=\"o\">.</span><span class=\"n\">neighbors</span><span class=\"p\">(</span><span class=\"n\">node</span><span class=\"p\">):</span>\n",
        "        <span class=\"k\">if</span> <span class=\"n\">neighbor</span> <span class=\"ow\">not</span> <span class=\"ow\">in</span> <span class=\"n\">node_subset</span> <span class=\"ow\">and</span> <span class=\"n\">neighbor</span> <span class=\"ow\">not</span> <span class=\"ow\">in</span> <span class=\"n\">open_nbh</span><span class=\"p\">:</span>\n",
        "            <span class=\"n\">exclusive_nbh</span><span class=\"o\">.</span><span class=\"n\">add</span><span class=\"p\">(</span><span class=\"n\">neighbor</span><span class=\"p\">)</span>\n",
        "    <span class=\"k\">return</span> <span class=\"n\">exclusive_nbh</span>\n",
        "</pre></div>\n",
        "</body>\n",
        "</html>\n"
       ],
       "metadata": {},
       "output_type": "pyout",
       "prompt_number": 2,
       "text": [
        "<IPython.core.display.HTML at 0x278f090>"
       ]
      }
     ],
     "prompt_number": 2
    },
    {
     "cell_type": "code",
     "collapsed": false,
     "input": [
      "from nxpd import draw\n",
      "from discoursekernels.test_dependency_graph import the_man_saw_the_woman_with_the_telescope\n",
      "\n",
      "draw(the_man_saw_the_woman_with_the_telescope, show='ipynb')"
     ],
     "language": "python",
     "metadata": {},
     "outputs": [
      {
       "metadata": {},
       "output_type": "pyout",
       "png": "[encoded data removed]",
       "prompt_number": 3,
       "text": [
        "<IPython.core.display.Image at 0x37b0450>"
       ]
      }
     ],
     "prompt_number": 3
    },
    {
     "cell_type": "code",
     "collapsed": false,
     "input": [
      "for n, attrs in the_man_saw_the_woman_with_the_telescope.nodes(data=True):\n",
      "    print n, attrs['label']"
     ],
     "language": "python",
     "metadata": {},
     "outputs": [
      {
       "output_type": "stream",
       "stream": "stdout",
       "text": [
        "1 *\n",
        "2 saw\n",
        "3 man\n",
        "4 the\n",
        "5 woman\n",
        "6 the\n",
        "7 with\n",
        "8 telescope\n",
        "9 the\n"
       ]
      }
     ],
     "prompt_number": 4
    },
    {
     "cell_type": "code",
     "collapsed": false,
     "input": [
      "open_neighborhood(the_man_saw_the_woman_with_the_telescope, set([5]))"
     ],
     "language": "python",
     "metadata": {},
     "outputs": [
      {
       "metadata": {},
       "output_type": "pyout",
       "prompt_number": 5,
       "text": [
        "{2}"
       ]
      }
     ],
     "prompt_number": 5
    },
    {
     "cell_type": "code",
     "collapsed": false,
     "input": [
      "open_neighborhood(the_man_saw_the_woman_with_the_telescope.to_undirected(), set([5]))"
     ],
     "language": "python",
     "metadata": {},
     "outputs": [
      {
       "metadata": {},
       "output_type": "pyout",
       "prompt_number": 6,
       "text": [
        "{2, 6}"
       ]
      }
     ],
     "prompt_number": 6
    },
    {
     "cell_type": "code",
     "collapsed": false,
     "input": [
      "exclusive_neighborhood(the_man_saw_the_woman_with_the_telescope.to_undirected(), 2, set([5, 6]))"
     ],
     "language": "python",
     "metadata": {},
     "outputs": [
      {
       "metadata": {},
       "output_type": "pyout",
       "prompt_number": 7,
       "text": [
        "{1, 3, 7}"
       ]
      }
     ],
     "prompt_number": 7
    },
    {
     "cell_type": "markdown",
     "metadata": {},
     "source": [
      "## Enumerating all *size-k* subgraphs\n",
      "\n",
      "* starting with a node $v$ from the input graph, we only add\n",
      "  those nodes to the $V_{Extension}$ set that have these properties:\n",
      "  \n",
      "  * their label must be larger than that of $v$\n",
      "  * they may be neighbored to the newly added node $w$, but not to\n",
      "    a node already in $V_{Subgraph}$\n",
      "  * i.e. they must be in the exclusive neighborhood of $w$\n",
      "    with respect to $V_{Subgraph}$"
     ]
    },
    {
     "cell_type": "code",
     "collapsed": false,
     "input": [
      "print_source(enumerate_all_size_k_subgraphs)"
     ],
     "language": "python",
     "metadata": {},
     "outputs": [
      {
       "html": [
        "<!DOCTYPE html PUBLIC \"-//W3C//DTD HTML 4.01//EN\"\n",
        "   \"http://www.w3.org/TR/html4/strict.dtd\">\n",
        "\n",
        "<html>\n",
        "<head>\n",
        "  <title></title>\n",
        "  <meta http-equiv=\"content-type\" content=\"text/html; charset=None\">\n",
        "  <style type=\"text/css\">\n",
        "td.linenos { background-color: #f0f0f0; padding-right: 10px; }\n",
        "span.lineno { background-color: #f0f0f0; padding: 0 5px 0 5px; }\n",
        "pre { line-height: 125%; }\n",
        "body .hll { background-color: #ffffcc }\n",
        "body .c { color: #408080; font-style: italic } /* Comment */\n",
        "body .err { border: 1px solid #FF0000 } /* Error */\n",
        "body .k { color: #008000; font-weight: bold } /* Keyword */\n",
        "body .o { color: #666666 } /* Operator */\n",
        "body .cm { color: #408080; font-style: italic } /* Comment.Multiline */\n",
        "body .cp { color: #BC7A00 } /* Comment.Preproc */\n",
        "body .c1 { color: #408080; font-style: italic } /* Comment.Single */\n",
        "body .cs { color: #408080; font-style: italic } /* Comment.Special */\n",
        "body .gd { color: #A00000 } /* Generic.Deleted */\n",
        "body .ge { font-style: italic } /* Generic.Emph */\n",
        "body .gr { color: #FF0000 } /* Generic.Error */\n",
        "body .gh { color: #000080; font-weight: bold } /* Generic.Heading */\n",
        "body .gi { color: #00A000 } /* Generic.Inserted */\n",
        "body .go { color: #888888 } /* Generic.Output */\n",
        "body .gp { color: #000080; font-weight: bold } /* Generic.Prompt */\n",
        "body .gs { font-weight: bold } /* Generic.Strong */\n",
        "body .gu { color: #800080; font-weight: bold } /* Generic.Subheading */\n",
        "body .gt { color: #0044DD } /* Generic.Traceback */\n",
        "body .kc { color: #008000; font-weight: bold } /* Keyword.Constant */\n",
        "body .kd { color: #008000; font-weight: bold } /* Keyword.Declaration */\n",
        "body .kn { color: #008000; font-weight: bold } /* Keyword.Namespace */\n",
        "body .kp { color: #008000 } /* Keyword.Pseudo */\n",
        "body .kr { color: #008000; font-weight: bold } /* Keyword.Reserved */\n",
        "body .kt { color: #B00040 } /* Keyword.Type */\n",
        "body .m { color: #666666 } /* Literal.Number */\n",
        "body .s { color: #BA2121 } /* Literal.String */\n",
        "body .na { color: #7D9029 } /* Name.Attribute */\n",
        "body .nb { color: #008000 } /* Name.Builtin */\n",
        "body .nc { color: #0000FF; font-weight: bold } /* Name.Class */\n",
        "body .no { color: #880000 } /* Name.Constant */\n",
        "body .nd { color: #AA22FF } /* Name.Decorator */\n",
        "body .ni { color: #999999; font-weight: bold } /* Name.Entity */\n",
        "body .ne { color: #D2413A; font-weight: bold } /* Name.Exception */\n",
        "body .nf { color: #0000FF } /* Name.Function */\n",
        "body .nl { color: #A0A000 } /* Name.Label */\n",
        "body .nn { color: #0000FF; font-weight: bold } /* Name.Namespace */\n",
        "body .nt { color: #008000; font-weight: bold } /* Name.Tag */\n",
        "body .nv { color: #19177C } /* Name.Variable */\n",
        "body .ow { color: #AA22FF; font-weight: bold } /* Operator.Word */\n",
        "body .w { color: #bbbbbb } /* Text.Whitespace */\n",
        "body .mf { color: #666666 } /* Literal.Number.Float */\n",
        "body .mh { color: #666666 } /* Literal.Number.Hex */\n",
        "body .mi { color: #666666 } /* Literal.Number.Integer */\n",
        "body .mo { color: #666666 } /* Literal.Number.Oct */\n",
        "body .sb { color: #BA2121 } /* Literal.String.Backtick */\n",
        "body .sc { color: #BA2121 } /* Literal.String.Char */\n",
        "body .sd { color: #BA2121; font-style: italic } /* Literal.String.Doc */\n",
        "body .s2 { color: #BA2121 } /* Literal.String.Double */\n",
        "body .se { color: #BB6622; font-weight: bold } /* Literal.String.Escape */\n",
        "body .sh { color: #BA2121 } /* Literal.String.Heredoc */\n",
        "body .si { color: #BB6688; font-weight: bold } /* Literal.String.Interpol */\n",
        "body .sx { color: #008000 } /* Literal.String.Other */\n",
        "body .sr { color: #BB6688 } /* Literal.String.Regex */\n",
        "body .s1 { color: #BA2121 } /* Literal.String.Single */\n",
        "body .ss { color: #19177C } /* Literal.String.Symbol */\n",
        "body .bp { color: #008000 } /* Name.Builtin.Pseudo */\n",
        "body .vc { color: #19177C } /* Name.Variable.Class */\n",
        "body .vg { color: #19177C } /* Name.Variable.Global */\n",
        "body .vi { color: #19177C } /* Name.Variable.Instance */\n",
        "body .il { color: #666666 } /* Literal.Number.Integer.Long */\n",
        "\n",
        "  </style>\n",
        "</head>\n",
        "<body>\n",
        "<h2></h2>\n",
        "\n",
        "<div class=\"highlight\"><pre><span class=\"k\">def</span> <span class=\"nf\">enumerate_all_size_k_subgraphs</span><span class=\"p\">(</span><span class=\"n\">graph</span><span class=\"p\">,</span> <span class=\"n\">k</span><span class=\"p\">):</span>\n",
        "    <span class=\"sd\">&quot;&quot;&quot;</span>\n",
        "<span class=\"sd\">    returns all subgraphs of the given graph that have k nodes.</span>\n",
        "<span class=\"sd\">    The algorith is called ``ESU`` in Wernicke (2006).</span>\n",
        "<span class=\"sd\">    &quot;&quot;&quot;</span>\n",
        "    <span class=\"k\">assert</span> <span class=\"nb\">all</span><span class=\"p\">(</span><span class=\"nb\">isinstance</span><span class=\"p\">(</span><span class=\"n\">node</span><span class=\"p\">,</span> <span class=\"nb\">int</span><span class=\"p\">)</span> <span class=\"k\">for</span> <span class=\"n\">node</span> <span class=\"ow\">in</span> <span class=\"n\">graph</span><span class=\"o\">.</span><span class=\"n\">nodes_iter</span><span class=\"p\">())</span>\n",
        "    <span class=\"k\">if</span> <span class=\"ow\">not</span> <span class=\"mi\">1</span> <span class=\"o\">&lt;=</span> <span class=\"n\">k</span> <span class=\"o\">&lt;=</span> <span class=\"nb\">len</span><span class=\"p\">(</span><span class=\"n\">graph</span><span class=\"p\">):</span>\n",
        "        <span class=\"k\">return</span> <span class=\"p\">[]</span>\n",
        "\n",
        "    <span class=\"n\">all_subgraphs</span> <span class=\"o\">=</span> <span class=\"p\">[]</span>\n",
        "    <span class=\"k\">for</span> <span class=\"n\">node</span> <span class=\"ow\">in</span> <span class=\"n\">graph</span><span class=\"o\">.</span><span class=\"n\">nodes_iter</span><span class=\"p\">():</span>\n",
        "        <span class=\"n\">extension</span> <span class=\"o\">=</span> <span class=\"p\">{</span><span class=\"n\">neighbor</span> <span class=\"k\">for</span> <span class=\"n\">neighbor</span> <span class=\"ow\">in</span> <span class=\"n\">graph</span><span class=\"o\">.</span><span class=\"n\">neighbors</span><span class=\"p\">(</span><span class=\"n\">node</span><span class=\"p\">)</span>\n",
        "                     <span class=\"k\">if</span> <span class=\"n\">neighbor</span> <span class=\"o\">&gt;</span> <span class=\"n\">node</span><span class=\"p\">}</span>\n",
        "        <span class=\"n\">subgraphs</span> <span class=\"o\">=</span> <span class=\"n\">extend_subgraph</span><span class=\"p\">(</span><span class=\"n\">graph</span><span class=\"p\">,</span> <span class=\"n\">k</span><span class=\"p\">,</span> <span class=\"p\">{</span><span class=\"n\">node</span><span class=\"p\">},</span> <span class=\"n\">extension</span><span class=\"p\">,</span> <span class=\"n\">node</span><span class=\"p\">)</span>\n",
        "        <span class=\"k\">if</span> <span class=\"nb\">isinstance</span><span class=\"p\">(</span><span class=\"n\">subgraphs</span><span class=\"p\">,</span> <span class=\"nb\">list</span><span class=\"p\">):</span>\n",
        "            <span class=\"n\">all_subgraphs</span><span class=\"o\">.</span><span class=\"n\">extend</span><span class=\"p\">(</span><span class=\"n\">subgraphs</span><span class=\"p\">)</span>\n",
        "        <span class=\"k\">else</span><span class=\"p\">:</span> <span class=\"c\"># isinstance(subgraphs, nx.Graph)</span>\n",
        "            <span class=\"n\">all_subgraphs</span><span class=\"o\">.</span><span class=\"n\">append</span><span class=\"p\">(</span><span class=\"n\">subgraphs</span><span class=\"p\">)</span>\n",
        "    <span class=\"k\">return</span> <span class=\"n\">all_subgraphs</span>\n",
        "</pre></div>\n",
        "</body>\n",
        "</html>\n"
       ],
       "metadata": {},
       "output_type": "pyout",
       "prompt_number": 8,
       "text": [
        "<IPython.core.display.HTML at 0x278f250>"
       ]
      }
     ],
     "prompt_number": 8
    },
    {
     "cell_type": "code",
     "collapsed": false,
     "input": [
      "print_source(extend_subgraph)"
     ],
     "language": "python",
     "metadata": {},
     "outputs": [
      {
       "html": [
        "<!DOCTYPE html PUBLIC \"-//W3C//DTD HTML 4.01//EN\"\n",
        "   \"http://www.w3.org/TR/html4/strict.dtd\">\n",
        "\n",
        "<html>\n",
        "<head>\n",
        "  <title></title>\n",
        "  <meta http-equiv=\"content-type\" content=\"text/html; charset=None\">\n",
        "  <style type=\"text/css\">\n",
        "td.linenos { background-color: #f0f0f0; padding-right: 10px; }\n",
        "span.lineno { background-color: #f0f0f0; padding: 0 5px 0 5px; }\n",
        "pre { line-height: 125%; }\n",
        "body .hll { background-color: #ffffcc }\n",
        "body .c { color: #408080; font-style: italic } /* Comment */\n",
        "body .err { border: 1px solid #FF0000 } /* Error */\n",
        "body .k { color: #008000; font-weight: bold } /* Keyword */\n",
        "body .o { color: #666666 } /* Operator */\n",
        "body .cm { color: #408080; font-style: italic } /* Comment.Multiline */\n",
        "body .cp { color: #BC7A00 } /* Comment.Preproc */\n",
        "body .c1 { color: #408080; font-style: italic } /* Comment.Single */\n",
        "body .cs { color: #408080; font-style: italic } /* Comment.Special */\n",
        "body .gd { color: #A00000 } /* Generic.Deleted */\n",
        "body .ge { font-style: italic } /* Generic.Emph */\n",
        "body .gr { color: #FF0000 } /* Generic.Error */\n",
        "body .gh { color: #000080; font-weight: bold } /* Generic.Heading */\n",
        "body .gi { color: #00A000 } /* Generic.Inserted */\n",
        "body .go { color: #888888 } /* Generic.Output */\n",
        "body .gp { color: #000080; font-weight: bold } /* Generic.Prompt */\n",
        "body .gs { font-weight: bold } /* Generic.Strong */\n",
        "body .gu { color: #800080; font-weight: bold } /* Generic.Subheading */\n",
        "body .gt { color: #0044DD } /* Generic.Traceback */\n",
        "body .kc { color: #008000; font-weight: bold } /* Keyword.Constant */\n",
        "body .kd { color: #008000; font-weight: bold } /* Keyword.Declaration */\n",
        "body .kn { color: #008000; font-weight: bold } /* Keyword.Namespace */\n",
        "body .kp { color: #008000 } /* Keyword.Pseudo */\n",
        "body .kr { color: #008000; font-weight: bold } /* Keyword.Reserved */\n",
        "body .kt { color: #B00040 } /* Keyword.Type */\n",
        "body .m { color: #666666 } /* Literal.Number */\n",
        "body .s { color: #BA2121 } /* Literal.String */\n",
        "body .na { color: #7D9029 } /* Name.Attribute */\n",
        "body .nb { color: #008000 } /* Name.Builtin */\n",
        "body .nc { color: #0000FF; font-weight: bold } /* Name.Class */\n",
        "body .no { color: #880000 } /* Name.Constant */\n",
        "body .nd { color: #AA22FF } /* Name.Decorator */\n",
        "body .ni { color: #999999; font-weight: bold } /* Name.Entity */\n",
        "body .ne { color: #D2413A; font-weight: bold } /* Name.Exception */\n",
        "body .nf { color: #0000FF } /* Name.Function */\n",
        "body .nl { color: #A0A000 } /* Name.Label */\n",
        "body .nn { color: #0000FF; font-weight: bold } /* Name.Namespace */\n",
        "body .nt { color: #008000; font-weight: bold } /* Name.Tag */\n",
        "body .nv { color: #19177C } /* Name.Variable */\n",
        "body .ow { color: #AA22FF; font-weight: bold } /* Operator.Word */\n",
        "body .w { color: #bbbbbb } /* Text.Whitespace */\n",
        "body .mf { color: #666666 } /* Literal.Number.Float */\n",
        "body .mh { color: #666666 } /* Literal.Number.Hex */\n",
        "body .mi { color: #666666 } /* Literal.Number.Integer */\n",
        "body .mo { color: #666666 } /* Literal.Number.Oct */\n",
        "body .sb { color: #BA2121 } /* Literal.String.Backtick */\n",
        "body .sc { color: #BA2121 } /* Literal.String.Char */\n",
        "body .sd { color: #BA2121; font-style: italic } /* Literal.String.Doc */\n",
        "body .s2 { color: #BA2121 } /* Literal.String.Double */\n",
        "body .se { color: #BB6622; font-weight: bold } /* Literal.String.Escape */\n",
        "body .sh { color: #BA2121 } /* Literal.String.Heredoc */\n",
        "body .si { color: #BB6688; font-weight: bold } /* Literal.String.Interpol */\n",
        "body .sx { color: #008000 } /* Literal.String.Other */\n",
        "body .sr { color: #BB6688 } /* Literal.String.Regex */\n",
        "body .s1 { color: #BA2121 } /* Literal.String.Single */\n",
        "body .ss { color: #19177C } /* Literal.String.Symbol */\n",
        "body .bp { color: #008000 } /* Name.Builtin.Pseudo */\n",
        "body .vc { color: #19177C } /* Name.Variable.Class */\n",
        "body .vg { color: #19177C } /* Name.Variable.Global */\n",
        "body .vi { color: #19177C } /* Name.Variable.Instance */\n",
        "body .il { color: #666666 } /* Literal.Number.Integer.Long */\n",
        "\n",
        "  </style>\n",
        "</head>\n",
        "<body>\n",
        "<h2></h2>\n",
        "\n",
        "<div class=\"highlight\"><pre><span class=\"k\">def</span> <span class=\"nf\">extend_subgraph</span><span class=\"p\">(</span><span class=\"n\">graph</span><span class=\"p\">,</span> <span class=\"n\">k</span><span class=\"p\">,</span> <span class=\"n\">subgraph_nodes</span><span class=\"p\">,</span> <span class=\"n\">extension_nodes</span><span class=\"p\">,</span> <span class=\"n\">node</span><span class=\"p\">):</span>\n",
        "    <span class=\"sd\">&quot;&quot;&quot;</span>\n",
        "<span class=\"sd\">    This function is the recursively called part of the ``ESU`` algorithm</span>\n",
        "<span class=\"sd\">    in Wernicke (2006).</span>\n",
        "<span class=\"sd\">    &quot;&quot;&quot;</span>\n",
        "    <span class=\"k\">if</span> <span class=\"nb\">len</span><span class=\"p\">(</span><span class=\"n\">subgraph_nodes</span><span class=\"p\">)</span> <span class=\"o\">==</span> <span class=\"n\">k</span><span class=\"p\">:</span>\n",
        "        <span class=\"k\">return</span> <span class=\"n\">graph</span><span class=\"o\">.</span><span class=\"n\">subgraph</span><span class=\"p\">(</span><span class=\"n\">subgraph_nodes</span><span class=\"p\">)</span>\n",
        "\n",
        "    <span class=\"n\">all_subgraphs</span> <span class=\"o\">=</span> <span class=\"p\">[]</span>\n",
        "    <span class=\"k\">while</span> <span class=\"n\">extension_nodes</span><span class=\"p\">:</span>\n",
        "        <span class=\"c\"># remove random node w from extension_nodes</span>\n",
        "        <span class=\"n\">random_extension_node</span> <span class=\"o\">=</span> <span class=\"n\">random</span><span class=\"o\">.</span><span class=\"n\">choice</span><span class=\"p\">(</span><span class=\"nb\">list</span><span class=\"p\">(</span><span class=\"n\">extension_nodes</span><span class=\"p\">))</span>\n",
        "        <span class=\"n\">extension_nodes</span><span class=\"o\">.</span><span class=\"n\">remove</span><span class=\"p\">(</span><span class=\"n\">random_extension_node</span><span class=\"p\">)</span>\n",
        "        <span class=\"n\">exclusive_neighbors</span> <span class=\"o\">=</span> <span class=\"p\">{</span><span class=\"n\">neighbor</span> <span class=\"k\">for</span> <span class=\"n\">neighbor</span> <span class=\"ow\">in</span> <span class=\"n\">exclusive_neighborhood</span><span class=\"p\">(</span><span class=\"n\">graph</span><span class=\"p\">,</span>\n",
        "                                                                               <span class=\"n\">random_extension_node</span><span class=\"p\">,</span>\n",
        "                                                                               <span class=\"n\">subgraph_nodes</span><span class=\"p\">)</span>\n",
        "                               <span class=\"k\">if</span> <span class=\"n\">neighbor</span> <span class=\"o\">&gt;</span> <span class=\"n\">node</span><span class=\"p\">}</span>\n",
        "        <span class=\"n\">vbar_extension</span> <span class=\"o\">=</span> <span class=\"n\">extension_nodes</span> <span class=\"o\">|</span> <span class=\"n\">exclusive_neighbors</span> <span class=\"c\"># union</span>\n",
        "        <span class=\"n\">extended_subgraph_nodes</span> <span class=\"o\">=</span> <span class=\"n\">subgraph_nodes</span> <span class=\"o\">|</span> <span class=\"p\">{</span><span class=\"n\">random_extension_node</span><span class=\"p\">}</span>\n",
        "        <span class=\"n\">subgraphs</span> <span class=\"o\">=</span> <span class=\"n\">extend_subgraph</span><span class=\"p\">(</span><span class=\"n\">graph</span><span class=\"p\">,</span> <span class=\"n\">k</span><span class=\"p\">,</span> <span class=\"n\">extended_subgraph_nodes</span><span class=\"p\">,</span> <span class=\"n\">vbar_extension</span><span class=\"p\">,</span> <span class=\"n\">node</span><span class=\"p\">)</span>\n",
        "\n",
        "        <span class=\"k\">if</span> <span class=\"nb\">isinstance</span><span class=\"p\">(</span><span class=\"n\">subgraphs</span><span class=\"p\">,</span> <span class=\"nb\">list</span><span class=\"p\">):</span>\n",
        "            <span class=\"n\">all_subgraphs</span><span class=\"o\">.</span><span class=\"n\">extend</span><span class=\"p\">(</span><span class=\"n\">subgraphs</span><span class=\"p\">)</span>\n",
        "        <span class=\"k\">else</span><span class=\"p\">:</span> <span class=\"c\"># isinstance(subgraphs, nx.Graph)</span>\n",
        "            <span class=\"n\">all_subgraphs</span><span class=\"o\">.</span><span class=\"n\">append</span><span class=\"p\">(</span><span class=\"n\">subgraphs</span><span class=\"p\">)</span>\n",
        "    <span class=\"k\">return</span> <span class=\"n\">all_subgraphs</span>\n",
        "</pre></div>\n",
        "</body>\n",
        "</html>\n"
       ],
       "metadata": {},
       "output_type": "pyout",
       "prompt_number": 9,
       "text": [
        "<IPython.core.display.HTML at 0x278f190>"
       ]
      }
     ],
     "prompt_number": 9
    },
    {
     "cell_type": "code",
     "collapsed": false,
     "input": [
      "import os\n",
      "import networkx as nx\n",
      "from discoursegraphs.readwrite import TigerDocumentGraph\n",
      "\n",
      "TIGER_FILE = os.path.expanduser('~/corpora/potsdam-commentary-corpus-2.0.0/syntax/maz-1423.xml')\n",
      "tdg = TigerDocumentGraph(TIGER_FILE)"
     ],
     "language": "python",
     "metadata": {},
     "outputs": [],
     "prompt_number": 10
    },
    {
     "cell_type": "code",
     "collapsed": false,
     "input": [
      "tdg_digraph = nx.DiGraph(tdg)\n",
      "# nx.convert_node_labels_to_integers(tdg, first_label=1, label_attribute='node_id')\n",
      "tdg_with_in_labels = nx.convert_node_labels_to_integers(tdg_digraph, first_label=1, label_attribute='node_id')\n",
      "# enumerate_all_size_k_subgraphs(tdg_with_in_labels, 10)"
     ],
     "language": "python",
     "metadata": {},
     "outputs": [],
     "prompt_number": 11
    },
    {
     "cell_type": "code",
     "collapsed": false,
     "input": [
      "print_source(enumerate_all_subgraphs_upto_size_k)"
     ],
     "language": "python",
     "metadata": {},
     "outputs": [
      {
       "html": [
        "<!DOCTYPE html PUBLIC \"-//W3C//DTD HTML 4.01//EN\"\n",
        "   \"http://www.w3.org/TR/html4/strict.dtd\">\n",
        "\n",
        "<html>\n",
        "<head>\n",
        "  <title></title>\n",
        "  <meta http-equiv=\"content-type\" content=\"text/html; charset=None\">\n",
        "  <style type=\"text/css\">\n",
        "td.linenos { background-color: #f0f0f0; padding-right: 10px; }\n",
        "span.lineno { background-color: #f0f0f0; padding: 0 5px 0 5px; }\n",
        "pre { line-height: 125%; }\n",
        "body .hll { background-color: #ffffcc }\n",
        "body .c { color: #408080; font-style: italic } /* Comment */\n",
        "body .err { border: 1px solid #FF0000 } /* Error */\n",
        "body .k { color: #008000; font-weight: bold } /* Keyword */\n",
        "body .o { color: #666666 } /* Operator */\n",
        "body .cm { color: #408080; font-style: italic } /* Comment.Multiline */\n",
        "body .cp { color: #BC7A00 } /* Comment.Preproc */\n",
        "body .c1 { color: #408080; font-style: italic } /* Comment.Single */\n",
        "body .cs { color: #408080; font-style: italic } /* Comment.Special */\n",
        "body .gd { color: #A00000 } /* Generic.Deleted */\n",
        "body .ge { font-style: italic } /* Generic.Emph */\n",
        "body .gr { color: #FF0000 } /* Generic.Error */\n",
        "body .gh { color: #000080; font-weight: bold } /* Generic.Heading */\n",
        "body .gi { color: #00A000 } /* Generic.Inserted */\n",
        "body .go { color: #888888 } /* Generic.Output */\n",
        "body .gp { color: #000080; font-weight: bold } /* Generic.Prompt */\n",
        "body .gs { font-weight: bold } /* Generic.Strong */\n",
        "body .gu { color: #800080; font-weight: bold } /* Generic.Subheading */\n",
        "body .gt { color: #0044DD } /* Generic.Traceback */\n",
        "body .kc { color: #008000; font-weight: bold } /* Keyword.Constant */\n",
        "body .kd { color: #008000; font-weight: bold } /* Keyword.Declaration */\n",
        "body .kn { color: #008000; font-weight: bold } /* Keyword.Namespace */\n",
        "body .kp { color: #008000 } /* Keyword.Pseudo */\n",
        "body .kr { color: #008000; font-weight: bold } /* Keyword.Reserved */\n",
        "body .kt { color: #B00040 } /* Keyword.Type */\n",
        "body .m { color: #666666 } /* Literal.Number */\n",
        "body .s { color: #BA2121 } /* Literal.String */\n",
        "body .na { color: #7D9029 } /* Name.Attribute */\n",
        "body .nb { color: #008000 } /* Name.Builtin */\n",
        "body .nc { color: #0000FF; font-weight: bold } /* Name.Class */\n",
        "body .no { color: #880000 } /* Name.Constant */\n",
        "body .nd { color: #AA22FF } /* Name.Decorator */\n",
        "body .ni { color: #999999; font-weight: bold } /* Name.Entity */\n",
        "body .ne { color: #D2413A; font-weight: bold } /* Name.Exception */\n",
        "body .nf { color: #0000FF } /* Name.Function */\n",
        "body .nl { color: #A0A000 } /* Name.Label */\n",
        "body .nn { color: #0000FF; font-weight: bold } /* Name.Namespace */\n",
        "body .nt { color: #008000; font-weight: bold } /* Name.Tag */\n",
        "body .nv { color: #19177C } /* Name.Variable */\n",
        "body .ow { color: #AA22FF; font-weight: bold } /* Operator.Word */\n",
        "body .w { color: #bbbbbb } /* Text.Whitespace */\n",
        "body .mf { color: #666666 } /* Literal.Number.Float */\n",
        "body .mh { color: #666666 } /* Literal.Number.Hex */\n",
        "body .mi { color: #666666 } /* Literal.Number.Integer */\n",
        "body .mo { color: #666666 } /* Literal.Number.Oct */\n",
        "body .sb { color: #BA2121 } /* Literal.String.Backtick */\n",
        "body .sc { color: #BA2121 } /* Literal.String.Char */\n",
        "body .sd { color: #BA2121; font-style: italic } /* Literal.String.Doc */\n",
        "body .s2 { color: #BA2121 } /* Literal.String.Double */\n",
        "body .se { color: #BB6622; font-weight: bold } /* Literal.String.Escape */\n",
        "body .sh { color: #BA2121 } /* Literal.String.Heredoc */\n",
        "body .si { color: #BB6688; font-weight: bold } /* Literal.String.Interpol */\n",
        "body .sx { color: #008000 } /* Literal.String.Other */\n",
        "body .sr { color: #BB6688 } /* Literal.String.Regex */\n",
        "body .s1 { color: #BA2121 } /* Literal.String.Single */\n",
        "body .ss { color: #19177C } /* Literal.String.Symbol */\n",
        "body .bp { color: #008000 } /* Name.Builtin.Pseudo */\n",
        "body .vc { color: #19177C } /* Name.Variable.Class */\n",
        "body .vg { color: #19177C } /* Name.Variable.Global */\n",
        "body .vi { color: #19177C } /* Name.Variable.Instance */\n",
        "body .il { color: #666666 } /* Literal.Number.Integer.Long */\n",
        "\n",
        "  </style>\n",
        "</head>\n",
        "<body>\n",
        "<h2></h2>\n",
        "\n",
        "<div class=\"highlight\"><pre><span class=\"k\">def</span> <span class=\"nf\">enumerate_all_subgraphs_upto_size_k</span><span class=\"p\">(</span><span class=\"n\">document_graph</span><span class=\"p\">,</span> <span class=\"n\">k</span><span class=\"p\">):</span>\n",
        "    <span class=\"sd\">&quot;&quot;&quot;</span>\n",
        "<span class=\"sd\">    returns all subgraphs of a DiscourseDocumentGraph (i.e. a MultiDiGraph)</span>\n",
        "<span class=\"sd\">    with up to k nodes.</span>\n",
        "\n",
        "<span class=\"sd\">    WARNING: This just calls ESU / enumerate_all_size_k_subgraphs() for</span>\n",
        "<span class=\"sd\">    1 ... k.</span>\n",
        "\n",
        "<span class=\"sd\">    TODO: optimize the algorithm to use the results of ESU(k-1) to calculate</span>\n",
        "<span class=\"sd\">    ESU(k).</span>\n",
        "<span class=\"sd\">    &quot;&quot;&quot;</span>\n",
        "    <span class=\"n\">document_nodes</span> <span class=\"o\">=</span> <span class=\"nb\">len</span><span class=\"p\">(</span><span class=\"n\">document_graph</span><span class=\"p\">)</span>\n",
        "    <span class=\"k\">if</span> <span class=\"n\">k</span> <span class=\"o\">&gt;</span> <span class=\"n\">document_nodes</span><span class=\"p\">:</span>\n",
        "        <span class=\"n\">k</span> <span class=\"o\">=</span> <span class=\"n\">document_nodes</span>\n",
        "\n",
        "    <span class=\"n\">all_subgraphs</span> <span class=\"o\">=</span> <span class=\"p\">[]</span>\n",
        "    <span class=\"n\">int_graph</span> <span class=\"o\">=</span> <span class=\"n\">nx</span><span class=\"o\">.</span><span class=\"n\">convert_node_labels_to_integers</span><span class=\"p\">(</span><span class=\"n\">nx</span><span class=\"o\">.</span><span class=\"n\">DiGraph</span><span class=\"p\">(</span><span class=\"n\">document_graph</span><span class=\"p\">),</span>\n",
        "                                                   <span class=\"n\">first_label</span><span class=\"o\">=</span><span class=\"mi\">1</span><span class=\"p\">,</span>\n",
        "                                                   <span class=\"n\">label_attribute</span><span class=\"o\">=</span><span class=\"s\">&#39;node_id&#39;</span><span class=\"p\">)</span>\n",
        "    <span class=\"k\">for</span> <span class=\"n\">i</span> <span class=\"ow\">in</span> <span class=\"nb\">xrange</span><span class=\"p\">(</span><span class=\"mi\">1</span><span class=\"p\">,</span> <span class=\"n\">k</span><span class=\"o\">+</span><span class=\"mi\">1</span><span class=\"p\">):</span>\n",
        "        <span class=\"n\">size_k_subgraphs</span> <span class=\"o\">=</span> <span class=\"n\">enumerate_all_size_k_subgraphs</span><span class=\"p\">(</span><span class=\"n\">int_graph</span><span class=\"p\">,</span> <span class=\"n\">i</span><span class=\"p\">)</span>\n",
        "        <span class=\"n\">all_subgraphs</span><span class=\"o\">.</span><span class=\"n\">extend</span><span class=\"p\">(</span><span class=\"n\">size_k_subgraphs</span><span class=\"p\">)</span>\n",
        "    <span class=\"k\">return</span> <span class=\"n\">all_subgraphs</span>\n",
        "</pre></div>\n",
        "</body>\n",
        "</html>\n"
       ],
       "metadata": {},
       "output_type": "pyout",
       "prompt_number": 12,
       "text": [
        "<IPython.core.display.HTML at 0x37d3e10>"
       ]
      }
     ],
     "prompt_number": 12
    },
    {
     "cell_type": "code",
     "collapsed": false,
     "input": [
      "%timeit len(enumerate_all_subgraphs_upto_size_k(tdg_with_in_labels, 5))"
     ],
     "language": "python",
     "metadata": {},
     "outputs": [
      {
       "output_type": "stream",
       "stream": "stdout",
       "text": [
        "1 loops, best of 3: 862 ms per loop\n"
       ]
      }
     ],
     "prompt_number": 13
    },
    {
     "cell_type": "code",
     "collapsed": false,
     "input": [
      "# %timeit len(enumerate_all_subgraphs_upto_size_k(tdg_with_in_labels, 10))  # 20s per loop"
     ],
     "language": "python",
     "metadata": {},
     "outputs": [],
     "prompt_number": 14
    },
    {
     "cell_type": "code",
     "collapsed": false,
     "input": [
      "from discoursegraphs import DiscourseDocumentGraph, print_dot\n",
      "from discoursegraphs.readwrite import RSTGraph, MMAXDocumentGraph"
     ],
     "language": "python",
     "metadata": {},
     "outputs": [],
     "prompt_number": 15
    },
    {
     "cell_type": "code",
     "collapsed": false,
     "input": [
      "rdg = RSTGraph(os.path.expanduser('~/corpora/potsdam-commentary-corpus-2.0.0/rst/maz-1423.rs3'))\n",
      "mdg = MMAXDocumentGraph(os.path.expanduser('~/corpora/potsdam-commentary-corpus-2.0.0/coreference/maz-1423.mmax'))"
     ],
     "language": "python",
     "metadata": {},
     "outputs": [],
     "prompt_number": 16
    },
    {
     "cell_type": "code",
     "collapsed": false,
     "input": [
      "merged_graph = DiscourseDocumentGraph()\n",
      "merged_graph.merge_graphs(tdg.copy())\n",
      "merged_graph.merge_graphs(rdg.copy())\n",
      "merged_graph.merge_graphs(mdg.copy())"
     ],
     "language": "python",
     "metadata": {},
     "outputs": [],
     "prompt_number": 17
    },
    {
     "cell_type": "markdown",
     "metadata": {},
     "source": [
      "# Speed test: enumerate all subgraphs up to size k\n",
      "\n",
      "* graph: MAZ-1423 with Syntax, RST and coreference\n",
      "* 356 nodes"
     ]
    },
    {
     "cell_type": "code",
     "collapsed": false,
     "input": [
      "%load_ext gvmagic"
     ],
     "language": "python",
     "metadata": {},
     "outputs": [],
     "prompt_number": 18
    },
    {
     "cell_type": "code",
     "collapsed": false,
     "input": [
      "# %dotstr print_dot(merged_graph)"
     ],
     "language": "python",
     "metadata": {},
     "outputs": [],
     "prompt_number": 19
    },
    {
     "cell_type": "code",
     "collapsed": false,
     "input": [
      "len(merged_graph)"
     ],
     "language": "python",
     "metadata": {},
     "outputs": [
      {
       "metadata": {},
       "output_type": "pyout",
       "prompt_number": 20,
       "text": [
        "356"
       ]
      }
     ],
     "prompt_number": 20
    },
    {
     "cell_type": "code",
     "collapsed": false,
     "input": [
      "%time len(enumerate_all_subgraphs_upto_size_k(merged_graph, 5))"
     ],
     "language": "python",
     "metadata": {},
     "outputs": [
      {
       "output_type": "stream",
       "stream": "stdout",
       "text": [
        "CPU times: user 4.22 s, sys: 64 ms, total: 4.28 s\n",
        "Wall time: 4.22 s\n"
       ]
      },
      {
       "metadata": {},
       "output_type": "pyout",
       "prompt_number": 21,
       "text": [
        "5142"
       ]
      }
     ],
     "prompt_number": 21
    },
    {
     "cell_type": "code",
     "collapsed": false,
     "input": [
      "%time len(enumerate_all_subgraphs_upto_size_k(merged_graph, 6))"
     ],
     "language": "python",
     "metadata": {},
     "outputs": [
      {
       "output_type": "stream",
       "stream": "stdout",
       "text": [
        "CPU times: user 10.7 s, sys: 60 ms, total: 10.8 s\n",
        "Wall time: 10.8 s\n"
       ]
      },
      {
       "metadata": {},
       "output_type": "pyout",
       "prompt_number": 22,
       "text": [
        "12587"
       ]
      }
     ],
     "prompt_number": 22
    },
    {
     "cell_type": "code",
     "collapsed": false,
     "input": [
      "%time len(enumerate_all_subgraphs_upto_size_k(merged_graph, 7))"
     ],
     "language": "python",
     "metadata": {},
     "outputs": [
      {
       "output_type": "stream",
       "stream": "stdout",
       "text": [
        "CPU times: user 29.6 s, sys: 144 ms, total: 29.8 s\n",
        "Wall time: 29.6 s\n"
       ]
      },
      {
       "metadata": {},
       "output_type": "pyout",
       "prompt_number": 23,
       "text": [
        "33942"
       ]
      }
     ],
     "prompt_number": 23
    },
    {
     "cell_type": "code",
     "collapsed": false,
     "input": [
      "%time len(enumerate_all_subgraphs_upto_size_k(merged_graph, 8))"
     ],
     "language": "python",
     "metadata": {},
     "outputs": [
      {
       "output_type": "stream",
       "stream": "stdout",
       "text": [
        "CPU times: user 1min 24s, sys: 372 ms, total: 1min 24s\n",
        "Wall time: 1min 24s\n"
       ]
      },
      {
       "metadata": {},
       "output_type": "pyout",
       "prompt_number": 24,
       "text": [
        "100715"
       ]
      }
     ],
     "prompt_number": 24
    },
    {
     "cell_type": "code",
     "collapsed": false,
     "input": [
      "print_source(enumerate_all_size_k_subgraphs_parellel)"
     ],
     "language": "python",
     "metadata": {},
     "outputs": [
      {
       "html": [
        "<!DOCTYPE html PUBLIC \"-//W3C//DTD HTML 4.01//EN\"\n",
        "   \"http://www.w3.org/TR/html4/strict.dtd\">\n",
        "\n",
        "<html>\n",
        "<head>\n",
        "  <title></title>\n",
        "  <meta http-equiv=\"content-type\" content=\"text/html; charset=None\">\n",
        "  <style type=\"text/css\">\n",
        "td.linenos { background-color: #f0f0f0; padding-right: 10px; }\n",
        "span.lineno { background-color: #f0f0f0; padding: 0 5px 0 5px; }\n",
        "pre { line-height: 125%; }\n",
        "body .hll { background-color: #ffffcc }\n",
        "body .c { color: #408080; font-style: italic } /* Comment */\n",
        "body .err { border: 1px solid #FF0000 } /* Error */\n",
        "body .k { color: #008000; font-weight: bold } /* Keyword */\n",
        "body .o { color: #666666 } /* Operator */\n",
        "body .cm { color: #408080; font-style: italic } /* Comment.Multiline */\n",
        "body .cp { color: #BC7A00 } /* Comment.Preproc */\n",
        "body .c1 { color: #408080; font-style: italic } /* Comment.Single */\n",
        "body .cs { color: #408080; font-style: italic } /* Comment.Special */\n",
        "body .gd { color: #A00000 } /* Generic.Deleted */\n",
        "body .ge { font-style: italic } /* Generic.Emph */\n",
        "body .gr { color: #FF0000 } /* Generic.Error */\n",
        "body .gh { color: #000080; font-weight: bold } /* Generic.Heading */\n",
        "body .gi { color: #00A000 } /* Generic.Inserted */\n",
        "body .go { color: #888888 } /* Generic.Output */\n",
        "body .gp { color: #000080; font-weight: bold } /* Generic.Prompt */\n",
        "body .gs { font-weight: bold } /* Generic.Strong */\n",
        "body .gu { color: #800080; font-weight: bold } /* Generic.Subheading */\n",
        "body .gt { color: #0044DD } /* Generic.Traceback */\n",
        "body .kc { color: #008000; font-weight: bold } /* Keyword.Constant */\n",
        "body .kd { color: #008000; font-weight: bold } /* Keyword.Declaration */\n",
        "body .kn { color: #008000; font-weight: bold } /* Keyword.Namespace */\n",
        "body .kp { color: #008000 } /* Keyword.Pseudo */\n",
        "body .kr { color: #008000; font-weight: bold } /* Keyword.Reserved */\n",
        "body .kt { color: #B00040 } /* Keyword.Type */\n",
        "body .m { color: #666666 } /* Literal.Number */\n",
        "body .s { color: #BA2121 } /* Literal.String */\n",
        "body .na { color: #7D9029 } /* Name.Attribute */\n",
        "body .nb { color: #008000 } /* Name.Builtin */\n",
        "body .nc { color: #0000FF; font-weight: bold } /* Name.Class */\n",
        "body .no { color: #880000 } /* Name.Constant */\n",
        "body .nd { color: #AA22FF } /* Name.Decorator */\n",
        "body .ni { color: #999999; font-weight: bold } /* Name.Entity */\n",
        "body .ne { color: #D2413A; font-weight: bold } /* Name.Exception */\n",
        "body .nf { color: #0000FF } /* Name.Function */\n",
        "body .nl { color: #A0A000 } /* Name.Label */\n",
        "body .nn { color: #0000FF; font-weight: bold } /* Name.Namespace */\n",
        "body .nt { color: #008000; font-weight: bold } /* Name.Tag */\n",
        "body .nv { color: #19177C } /* Name.Variable */\n",
        "body .ow { color: #AA22FF; font-weight: bold } /* Operator.Word */\n",
        "body .w { color: #bbbbbb } /* Text.Whitespace */\n",
        "body .mf { color: #666666 } /* Literal.Number.Float */\n",
        "body .mh { color: #666666 } /* Literal.Number.Hex */\n",
        "body .mi { color: #666666 } /* Literal.Number.Integer */\n",
        "body .mo { color: #666666 } /* Literal.Number.Oct */\n",
        "body .sb { color: #BA2121 } /* Literal.String.Backtick */\n",
        "body .sc { color: #BA2121 } /* Literal.String.Char */\n",
        "body .sd { color: #BA2121; font-style: italic } /* Literal.String.Doc */\n",
        "body .s2 { color: #BA2121 } /* Literal.String.Double */\n",
        "body .se { color: #BB6622; font-weight: bold } /* Literal.String.Escape */\n",
        "body .sh { color: #BA2121 } /* Literal.String.Heredoc */\n",
        "body .si { color: #BB6688; font-weight: bold } /* Literal.String.Interpol */\n",
        "body .sx { color: #008000 } /* Literal.String.Other */\n",
        "body .sr { color: #BB6688 } /* Literal.String.Regex */\n",
        "body .s1 { color: #BA2121 } /* Literal.String.Single */\n",
        "body .ss { color: #19177C } /* Literal.String.Symbol */\n",
        "body .bp { color: #008000 } /* Name.Builtin.Pseudo */\n",
        "body .vc { color: #19177C } /* Name.Variable.Class */\n",
        "body .vg { color: #19177C } /* Name.Variable.Global */\n",
        "body .vi { color: #19177C } /* Name.Variable.Instance */\n",
        "body .il { color: #666666 } /* Literal.Number.Integer.Long */\n",
        "\n",
        "  </style>\n",
        "</head>\n",
        "<body>\n",
        "<h2></h2>\n",
        "\n",
        "<div class=\"highlight\"><pre><span class=\"k\">def</span> <span class=\"nf\">enumerate_all_size_k_subgraphs_parellel</span><span class=\"p\">(</span><span class=\"n\">graph</span><span class=\"p\">,</span> <span class=\"n\">k</span><span class=\"p\">,</span> <span class=\"n\">num_of_workers</span><span class=\"o\">=</span><span class=\"mi\">4</span><span class=\"p\">):</span>\n",
        "    <span class=\"sd\">&quot;&quot;&quot;</span>\n",
        "<span class=\"sd\">    Trivial parallelization of the ESU algorithm from Wernicke (2006).</span>\n",
        "<span class=\"sd\">    &quot;&quot;&quot;</span>\n",
        "    <span class=\"k\">assert</span> <span class=\"nb\">all</span><span class=\"p\">(</span><span class=\"nb\">isinstance</span><span class=\"p\">(</span><span class=\"n\">node</span><span class=\"p\">,</span> <span class=\"nb\">int</span><span class=\"p\">)</span> <span class=\"k\">for</span> <span class=\"n\">node</span> <span class=\"ow\">in</span> <span class=\"n\">graph</span><span class=\"o\">.</span><span class=\"n\">nodes_iter</span><span class=\"p\">())</span>\n",
        "    <span class=\"k\">if</span> <span class=\"ow\">not</span> <span class=\"mi\">1</span> <span class=\"o\">&lt;=</span> <span class=\"n\">k</span> <span class=\"o\">&lt;=</span> <span class=\"nb\">len</span><span class=\"p\">(</span><span class=\"n\">graph</span><span class=\"p\">):</span>\n",
        "        <span class=\"k\">return</span> <span class=\"p\">[]</span>\n",
        "\n",
        "    <span class=\"n\">pool</span> <span class=\"o\">=</span> <span class=\"n\">Pool</span><span class=\"p\">(</span><span class=\"n\">num_of_workers</span><span class=\"p\">)</span> <span class=\"c\"># number of CPUs / workers</span>\n",
        "    <span class=\"n\">results</span> <span class=\"o\">=</span> <span class=\"p\">[</span><span class=\"n\">pool</span><span class=\"o\">.</span><span class=\"n\">apply_async</span><span class=\"p\">(</span><span class=\"n\">__extract_subgraphs_from_node</span><span class=\"p\">,</span>\n",
        "                                <span class=\"n\">args</span><span class=\"o\">=</span><span class=\"p\">(</span><span class=\"n\">graph</span><span class=\"p\">,</span> <span class=\"n\">node</span><span class=\"p\">,</span> <span class=\"n\">k</span><span class=\"p\">))</span>\n",
        "               <span class=\"k\">for</span> <span class=\"n\">node</span> <span class=\"ow\">in</span> <span class=\"n\">graph</span><span class=\"o\">.</span><span class=\"n\">nodes_iter</span><span class=\"p\">()]</span>\n",
        "\n",
        "    <span class=\"n\">pool</span><span class=\"o\">.</span><span class=\"n\">close</span><span class=\"p\">()</span>\n",
        "    <span class=\"n\">pool</span><span class=\"o\">.</span><span class=\"n\">join</span><span class=\"p\">()</span>\n",
        "    <span class=\"k\">return</span> <span class=\"p\">[</span><span class=\"n\">result</span><span class=\"o\">.</span><span class=\"n\">get</span><span class=\"p\">()</span> <span class=\"k\">for</span> <span class=\"n\">result</span> <span class=\"ow\">in</span> <span class=\"n\">results</span><span class=\"p\">]</span>\n",
        "</pre></div>\n",
        "</body>\n",
        "</html>\n"
       ],
       "metadata": {},
       "output_type": "pyout",
       "prompt_number": 27,
       "text": [
        "<IPython.core.display.HTML at 0x276b6d0>"
       ]
      }
     ],
     "prompt_number": 27
    },
    {
     "cell_type": "code",
     "collapsed": false,
     "input": [
      "%time _x = enumerate_all_size_k_subgraphs_parellel(tdg_with_in_labels, 10)"
     ],
     "language": "python",
     "metadata": {},
     "outputs": [
      {
       "output_type": "stream",
       "stream": "stdout",
       "text": [
        "CPU times: user 1.7 s, sys: 128 ms, total: 1.83 s\n",
        "Wall time: 3.72 s\n"
       ]
      }
     ],
     "prompt_number": 69
    },
    {
     "cell_type": "code",
     "collapsed": false,
     "input": [
      "%time _x = enumerate_all_size_k_subgraphs(tdg_with_in_labels, 5)"
     ],
     "language": "python",
     "metadata": {},
     "outputs": [
      {
       "output_type": "stream",
       "stream": "stdout",
       "text": [
        "CPU times: user 496 ms, sys: 4 ms, total: 500 ms\n",
        "Wall time: 497 ms\n"
       ]
      }
     ],
     "prompt_number": 70
    },
    {
     "cell_type": "code",
     "collapsed": false,
     "input": [
      "%time _x = enumerate_all_size_k_subgraphs_parellel(tdg_with_in_labels, 7)"
     ],
     "language": "python",
     "metadata": {},
     "outputs": [
      {
       "output_type": "stream",
       "stream": "stdout",
       "text": [
        "CPU times: user 1.72 s, sys: 140 ms, total: 1.86 s\n",
        "Wall time: 2.18 s\n"
       ]
      }
     ],
     "prompt_number": 71
    },
    {
     "cell_type": "code",
     "collapsed": false,
     "input": [
      "%time _x = enumerate_all_size_k_subgraphs(tdg_with_in_labels, 7)"
     ],
     "language": "python",
     "metadata": {},
     "outputs": [
      {
       "output_type": "stream",
       "stream": "stdout",
       "text": [
        "CPU times: user 1.41 s, sys: 8 ms, total: 1.42 s\n",
        "Wall time: 1.42 s\n"
       ]
      }
     ],
     "prompt_number": 72
    },
    {
     "cell_type": "code",
     "collapsed": false,
     "input": [
      "%time _x = enumerate_all_size_k_subgraphs_parellel(tdg_with_in_labels, 10)"
     ],
     "language": "python",
     "metadata": {},
     "outputs": [
      {
       "output_type": "stream",
       "stream": "stdout",
       "text": [
        "CPU times: user 1.72 s, sys: 200 ms, total: 1.92 s\n",
        "Wall time: 3.76 s\n"
       ]
      }
     ],
     "prompt_number": 73
    },
    {
     "cell_type": "code",
     "collapsed": false,
     "input": [
      "%time _x = enumerate_all_size_k_subgraphs(tdg_with_in_labels, 10)"
     ],
     "language": "python",
     "metadata": {},
     "outputs": [
      {
       "output_type": "stream",
       "stream": "stdout",
       "text": [
        "CPU times: user 5.99 s, sys: 32 ms, total: 6.02 s\n",
        "Wall time: 6 s\n"
       ]
      }
     ],
     "prompt_number": 74
    },
    {
     "cell_type": "code",
     "collapsed": false,
     "input": [
      "%time _x = enumerate_all_size_k_subgraphs_parellel(tdg_with_in_labels, 12)"
     ],
     "language": "python",
     "metadata": {},
     "outputs": [
      {
       "output_type": "stream",
       "stream": "stdout",
       "text": [
        "CPU times: user 2.36 s, sys: 228 ms, total: 2.59 s\n",
        "Wall time: 13.5 s\n"
       ]
      }
     ],
     "prompt_number": 75
    },
    {
     "cell_type": "code",
     "collapsed": false,
     "input": [
      "%time _x = enumerate_all_size_k_subgraphs(tdg_with_in_labels, 12)"
     ],
     "language": "python",
     "metadata": {},
     "outputs": [
      {
       "output_type": "stream",
       "stream": "stdout",
       "text": [
        "CPU times: user 15.9 s, sys: 64 ms, total: 15.9 s\n",
        "Wall time: 15.8 s\n"
       ]
      }
     ],
     "prompt_number": 76
    },
    {
     "cell_type": "code",
     "collapsed": false,
     "input": [
      "print_source(enumerate_all_subgraphs_upto_size_k_parallel)"
     ],
     "language": "python",
     "metadata": {},
     "outputs": [
      {
       "html": [
        "<!DOCTYPE html PUBLIC \"-//W3C//DTD HTML 4.01//EN\"\n",
        "   \"http://www.w3.org/TR/html4/strict.dtd\">\n",
        "\n",
        "<html>\n",
        "<head>\n",
        "  <title></title>\n",
        "  <meta http-equiv=\"content-type\" content=\"text/html; charset=None\">\n",
        "  <style type=\"text/css\">\n",
        "td.linenos { background-color: #f0f0f0; padding-right: 10px; }\n",
        "span.lineno { background-color: #f0f0f0; padding: 0 5px 0 5px; }\n",
        "pre { line-height: 125%; }\n",
        "body .hll { background-color: #ffffcc }\n",
        "body .c { color: #408080; font-style: italic } /* Comment */\n",
        "body .err { border: 1px solid #FF0000 } /* Error */\n",
        "body .k { color: #008000; font-weight: bold } /* Keyword */\n",
        "body .o { color: #666666 } /* Operator */\n",
        "body .cm { color: #408080; font-style: italic } /* Comment.Multiline */\n",
        "body .cp { color: #BC7A00 } /* Comment.Preproc */\n",
        "body .c1 { color: #408080; font-style: italic } /* Comment.Single */\n",
        "body .cs { color: #408080; font-style: italic } /* Comment.Special */\n",
        "body .gd { color: #A00000 } /* Generic.Deleted */\n",
        "body .ge { font-style: italic } /* Generic.Emph */\n",
        "body .gr { color: #FF0000 } /* Generic.Error */\n",
        "body .gh { color: #000080; font-weight: bold } /* Generic.Heading */\n",
        "body .gi { color: #00A000 } /* Generic.Inserted */\n",
        "body .go { color: #888888 } /* Generic.Output */\n",
        "body .gp { color: #000080; font-weight: bold } /* Generic.Prompt */\n",
        "body .gs { font-weight: bold } /* Generic.Strong */\n",
        "body .gu { color: #800080; font-weight: bold } /* Generic.Subheading */\n",
        "body .gt { color: #0044DD } /* Generic.Traceback */\n",
        "body .kc { color: #008000; font-weight: bold } /* Keyword.Constant */\n",
        "body .kd { color: #008000; font-weight: bold } /* Keyword.Declaration */\n",
        "body .kn { color: #008000; font-weight: bold } /* Keyword.Namespace */\n",
        "body .kp { color: #008000 } /* Keyword.Pseudo */\n",
        "body .kr { color: #008000; font-weight: bold } /* Keyword.Reserved */\n",
        "body .kt { color: #B00040 } /* Keyword.Type */\n",
        "body .m { color: #666666 } /* Literal.Number */\n",
        "body .s { color: #BA2121 } /* Literal.String */\n",
        "body .na { color: #7D9029 } /* Name.Attribute */\n",
        "body .nb { color: #008000 } /* Name.Builtin */\n",
        "body .nc { color: #0000FF; font-weight: bold } /* Name.Class */\n",
        "body .no { color: #880000 } /* Name.Constant */\n",
        "body .nd { color: #AA22FF } /* Name.Decorator */\n",
        "body .ni { color: #999999; font-weight: bold } /* Name.Entity */\n",
        "body .ne { color: #D2413A; font-weight: bold } /* Name.Exception */\n",
        "body .nf { color: #0000FF } /* Name.Function */\n",
        "body .nl { color: #A0A000 } /* Name.Label */\n",
        "body .nn { color: #0000FF; font-weight: bold } /* Name.Namespace */\n",
        "body .nt { color: #008000; font-weight: bold } /* Name.Tag */\n",
        "body .nv { color: #19177C } /* Name.Variable */\n",
        "body .ow { color: #AA22FF; font-weight: bold } /* Operator.Word */\n",
        "body .w { color: #bbbbbb } /* Text.Whitespace */\n",
        "body .mf { color: #666666 } /* Literal.Number.Float */\n",
        "body .mh { color: #666666 } /* Literal.Number.Hex */\n",
        "body .mi { color: #666666 } /* Literal.Number.Integer */\n",
        "body .mo { color: #666666 } /* Literal.Number.Oct */\n",
        "body .sb { color: #BA2121 } /* Literal.String.Backtick */\n",
        "body .sc { color: #BA2121 } /* Literal.String.Char */\n",
        "body .sd { color: #BA2121; font-style: italic } /* Literal.String.Doc */\n",
        "body .s2 { color: #BA2121 } /* Literal.String.Double */\n",
        "body .se { color: #BB6622; font-weight: bold } /* Literal.String.Escape */\n",
        "body .sh { color: #BA2121 } /* Literal.String.Heredoc */\n",
        "body .si { color: #BB6688; font-weight: bold } /* Literal.String.Interpol */\n",
        "body .sx { color: #008000 } /* Literal.String.Other */\n",
        "body .sr { color: #BB6688 } /* Literal.String.Regex */\n",
        "body .s1 { color: #BA2121 } /* Literal.String.Single */\n",
        "body .ss { color: #19177C } /* Literal.String.Symbol */\n",
        "body .bp { color: #008000 } /* Name.Builtin.Pseudo */\n",
        "body .vc { color: #19177C } /* Name.Variable.Class */\n",
        "body .vg { color: #19177C } /* Name.Variable.Global */\n",
        "body .vi { color: #19177C } /* Name.Variable.Instance */\n",
        "body .il { color: #666666 } /* Literal.Number.Integer.Long */\n",
        "\n",
        "  </style>\n",
        "</head>\n",
        "<body>\n",
        "<h2></h2>\n",
        "\n",
        "<div class=\"highlight\"><pre><span class=\"k\">def</span> <span class=\"nf\">enumerate_all_subgraphs_upto_size_k_parallel</span><span class=\"p\">(</span><span class=\"n\">document_graph</span><span class=\"p\">,</span> <span class=\"n\">k</span><span class=\"p\">,</span> <span class=\"n\">num_of_workers</span><span class=\"o\">=</span><span class=\"mi\">4</span><span class=\"p\">):</span>\n",
        "    <span class=\"sd\">&quot;&quot;&quot;</span>\n",
        "<span class=\"sd\">    returns all subgraphs of a DiscourseDocumentGraph (i.e. a MultiDiGraph)</span>\n",
        "<span class=\"sd\">    with up to k nodes. This is a trivially parallelized version of</span>\n",
        "<span class=\"sd\">    enumerate_all_subgraphs_upto_size_k()</span>\n",
        "<span class=\"sd\">    &quot;&quot;&quot;</span>\n",
        "    <span class=\"n\">document_nodes</span> <span class=\"o\">=</span> <span class=\"nb\">len</span><span class=\"p\">(</span><span class=\"n\">document_graph</span><span class=\"p\">)</span>\n",
        "    <span class=\"k\">if</span> <span class=\"n\">k</span> <span class=\"o\">&gt;</span> <span class=\"n\">document_nodes</span><span class=\"p\">:</span>\n",
        "        <span class=\"n\">k</span> <span class=\"o\">=</span> <span class=\"n\">document_nodes</span>\n",
        "\n",
        "    <span class=\"n\">int_graph</span> <span class=\"o\">=</span> <span class=\"n\">nx</span><span class=\"o\">.</span><span class=\"n\">convert_node_labels_to_integers</span><span class=\"p\">(</span><span class=\"n\">nx</span><span class=\"o\">.</span><span class=\"n\">DiGraph</span><span class=\"p\">(</span><span class=\"n\">document_graph</span><span class=\"p\">),</span>\n",
        "                                                   <span class=\"n\">first_label</span><span class=\"o\">=</span><span class=\"mi\">1</span><span class=\"p\">,</span>\n",
        "                                                   <span class=\"n\">label_attribute</span><span class=\"o\">=</span><span class=\"s\">&#39;node_id&#39;</span><span class=\"p\">)</span>\n",
        "\n",
        "    <span class=\"n\">pool</span> <span class=\"o\">=</span> <span class=\"n\">Pool</span><span class=\"p\">(</span><span class=\"n\">processes</span><span class=\"o\">=</span><span class=\"n\">num_of_workers</span><span class=\"p\">)</span> <span class=\"c\"># number of CPUs</span>\n",
        "    <span class=\"n\">results</span> <span class=\"o\">=</span> <span class=\"p\">[</span><span class=\"n\">pool</span><span class=\"o\">.</span><span class=\"n\">apply_async</span><span class=\"p\">(</span><span class=\"n\">enumerate_all_size_k_subgraphs</span><span class=\"p\">,</span> <span class=\"n\">args</span><span class=\"o\">=</span><span class=\"p\">(</span><span class=\"n\">int_graph</span><span class=\"p\">,</span> <span class=\"n\">i</span><span class=\"p\">))</span>\n",
        "                <span class=\"k\">for</span> <span class=\"n\">i</span> <span class=\"ow\">in</span> <span class=\"nb\">xrange</span><span class=\"p\">(</span><span class=\"mi\">1</span><span class=\"p\">,</span> <span class=\"n\">k</span><span class=\"o\">+</span><span class=\"mi\">1</span><span class=\"p\">)]</span>\n",
        "    <span class=\"n\">pool</span><span class=\"o\">.</span><span class=\"n\">close</span><span class=\"p\">()</span>\n",
        "    <span class=\"n\">pool</span><span class=\"o\">.</span><span class=\"n\">join</span><span class=\"p\">()</span>\n",
        "\n",
        "    <span class=\"n\">subgraphs</span> <span class=\"o\">=</span> <span class=\"p\">[]</span>\n",
        "    <span class=\"k\">for</span> <span class=\"n\">result</span> <span class=\"ow\">in</span> <span class=\"n\">results</span><span class=\"p\">:</span>\n",
        "        <span class=\"n\">tmp_result</span> <span class=\"o\">=</span> <span class=\"n\">result</span><span class=\"o\">.</span><span class=\"n\">get</span><span class=\"p\">()</span>\n",
        "        <span class=\"k\">if</span> <span class=\"nb\">isinstance</span><span class=\"p\">(</span><span class=\"n\">tmp_result</span><span class=\"p\">,</span> <span class=\"nb\">list</span><span class=\"p\">):</span>\n",
        "            <span class=\"n\">subgraphs</span><span class=\"o\">.</span><span class=\"n\">extend</span><span class=\"p\">(</span><span class=\"n\">tmp_result</span><span class=\"p\">)</span>\n",
        "        <span class=\"k\">else</span><span class=\"p\">:</span>\n",
        "            <span class=\"n\">subgraphs</span><span class=\"o\">.</span><span class=\"n\">append</span><span class=\"p\">(</span><span class=\"n\">tmp_result</span><span class=\"p\">)</span>\n",
        "    <span class=\"k\">return</span> <span class=\"n\">subgraphs</span>\n",
        "</pre></div>\n",
        "</body>\n",
        "</html>\n"
       ],
       "metadata": {},
       "output_type": "pyout",
       "prompt_number": 77,
       "text": [
        "<IPython.core.display.HTML at 0x27ccb10>"
       ]
      }
     ],
     "prompt_number": 77
    },
    {
     "cell_type": "code",
     "collapsed": false,
     "input": [
      "%time _result = enumerate_all_subgraphs_upto_size_k_parallel(merged_graph, 3)"
     ],
     "language": "python",
     "metadata": {},
     "outputs": [
      {
       "output_type": "stream",
       "stream": "stdout",
       "text": [
        "CPU times: user 48 ms, sys: 76 ms, total: 124 ms\n",
        "Wall time: 593 ms\n"
       ]
      }
     ],
     "prompt_number": 78
    },
    {
     "cell_type": "code",
     "collapsed": false,
     "input": [
      "%time _result = enumerate_all_subgraphs_upto_size_k(merged_graph, 3)"
     ],
     "language": "python",
     "metadata": {},
     "outputs": [
      {
       "output_type": "stream",
       "stream": "stdout",
       "text": [
        "CPU times: user 548 ms, sys: 20 ms, total: 568 ms\n",
        "Wall time: 550 ms\n"
       ]
      }
     ],
     "prompt_number": 79
    },
    {
     "cell_type": "code",
     "collapsed": false,
     "input": [
      "%time _result = enumerate_all_subgraphs_upto_size_k_parallel(merged_graph, 5)"
     ],
     "language": "python",
     "metadata": {},
     "outputs": [
      {
       "output_type": "stream",
       "stream": "stdout",
       "text": [
        "CPU times: user 244 ms, sys: 136 ms, total: 380 ms\n",
        "Wall time: 3.06 s\n"
       ]
      }
     ],
     "prompt_number": 80
    },
    {
     "cell_type": "code",
     "collapsed": false,
     "input": [
      "%time _result = enumerate_all_subgraphs_upto_size_k_parallel(merged_graph, 5)"
     ],
     "language": "python",
     "metadata": {},
     "outputs": [
      {
       "output_type": "stream",
       "stream": "stdout",
       "text": [
        "CPU times: user 284 ms, sys: 144 ms, total: 428 ms\n",
        "Wall time: 3.36 s\n"
       ]
      }
     ],
     "prompt_number": 81
    },
    {
     "cell_type": "code",
     "collapsed": false,
     "input": [
      "%time _result = enumerate_all_subgraphs_upto_size_k(merged_graph, 5)"
     ],
     "language": "python",
     "metadata": {},
     "outputs": [
      {
       "output_type": "stream",
       "stream": "stdout",
       "text": [
        "CPU times: user 4.1 s, sys: 32 ms, total: 4.14 s\n",
        "Wall time: 4.11 s\n"
       ]
      }
     ],
     "prompt_number": 82
    },
    {
     "cell_type": "code",
     "collapsed": false,
     "input": [
      "# %time _result = enumerate_all_subgraphs_upto_size_k_parallel(merged_graph, 10) # takes too long"
     ],
     "language": "python",
     "metadata": {},
     "outputs": []
    },
    {
     "cell_type": "code",
     "collapsed": false,
     "input": [
      "# %time _result = enumerate_all_subgraphs_upto_size_k_naive(merged_graph, 3)"
     ],
     "language": "python",
     "metadata": {},
     "outputs": []
    },
    {
     "cell_type": "code",
     "collapsed": false,
     "input": [
      "len(merged_graph)"
     ],
     "language": "python",
     "metadata": {},
     "outputs": []
    },
    {
     "cell_type": "code",
     "collapsed": false,
     "input": [
      "len(merged_graph) ** 3"
     ],
     "language": "python",
     "metadata": {},
     "outputs": []
    },
    {
     "cell_type": "code",
     "collapsed": false,
     "input": [
      "from math import factorial\n",
      "\n",
      "def possible_combinations(num_of_elements, k):\n",
      "    # https://en.wikipedia.org/wiki/Combination\n",
      "    if k > num_of_elements:\n",
      "        return 0\n",
      "    else:\n",
      "        return factorial(num_of_elements) / ( factorial(k) * factorial((num_of_elements - k)) )"
     ],
     "language": "python",
     "metadata": {},
     "outputs": []
    },
    {
     "cell_type": "code",
     "collapsed": false,
     "input": [
      "def possible_combinations_up_to_k(num_of_elements, k):\n",
      "    assert 1 <= k <= num_of_elements\n",
      "    result = 0\n",
      "    for i in xrange(1, k+1):\n",
      "        result += possible_combinations(num_of_elements, i)\n",
      "    return result"
     ],
     "language": "python",
     "metadata": {},
     "outputs": []
    },
    {
     "cell_type": "code",
     "collapsed": false,
     "input": [
      "possible_combinations_up_to_k(356, 2)"
     ],
     "language": "python",
     "metadata": {},
     "outputs": []
    },
    {
     "cell_type": "code",
     "collapsed": false,
     "input": [
      "possible_combinations_up_to_k(356, 3)"
     ],
     "language": "python",
     "metadata": {},
     "outputs": []
    },
    {
     "cell_type": "code",
     "collapsed": false,
     "input": [
      "possible_combinations_up_to_k(356, 4)"
     ],
     "language": "python",
     "metadata": {},
     "outputs": []
    },
    {
     "cell_type": "code",
     "collapsed": false,
     "input": [
      "possible_combinations_up_to_k(356, 10)"
     ],
     "language": "python",
     "metadata": {},
     "outputs": []
    },
    {
     "cell_type": "markdown",
     "metadata": {},
     "source": [
      "# optimizing subgraph enumeration\n",
      "\n",
      "## first try: shelve itermediate results to save memory\n",
      "\n",
      "* don't returns subgraphs as nx.Graph() objects (return edge lists instead)\n",
      "* write each completed subgraph to disk instantly to reduce memory usage\n",
      "* use shelve instead of pickle\n",
      "* one shelve per document-size-k"
     ]
    },
    {
     "cell_type": "code",
     "collapsed": false,
     "input": [
      "import shelve\n",
      "\n",
      "def enumerate_all_subgraphs_upto_size_k_shelved(document_graph, k):\n",
      "    \"\"\"\n",
      "    \"\"\"\n",
      "    shelve_name = '/tmp/{}-k-{}.db'.format(document_graph.name, k)\n",
      "    # writeback is important for nested dicts etc.)\n",
      "    subgraph_shelve = shelve.open(shelve_name, writeback=True)\n",
      "    subgraph_shelve['graph'] = document_graph\n",
      "    \n",
      "    document_nodes = len(document_graph)\n",
      "    if k > document_nodes:\n",
      "        k = document_nodes\n",
      "\n",
      "    int_graph = nx.convert_node_labels_to_integers(nx.DiGraph(document_graph),\n",
      "                                                   first_label=1,\n",
      "                                                   label_attribute='node_id')\n",
      "    try:\n",
      "        for i in xrange(1, k+1):\n",
      "            enumerate_all_size_k_subgraphs_shelved(int_graph, i, subgraph_shelve)\n",
      "    finally:\n",
      "        subgraph_shelve.close() # this calls .sync() as well\n",
      "    return shelve_name\n",
      "\n",
      "\n",
      "def enumerate_all_size_k_subgraphs_shelved(graph, k, graph_shelve):\n",
      "    \"\"\"\n",
      "    shelve : shelve\n",
      "        an open shelve to store the subgraphs in\n",
      "    \n",
      "    Returns\n",
      "    -------\n",
      "    num_of_k_subgraphs : the number of subgraphs of size-k generated\n",
      "    \"\"\"\n",
      "    k_shelve = graph_shelve[str(k)] = dict()\n",
      "\n",
      "    assert all(isinstance(node, int) for node in graph.nodes_iter())\n",
      "    if not 1 <= k <= len(graph):\n",
      "        return 0\n",
      "\n",
      "    num_of_k_subgraphs = 1\n",
      "    for node in graph.nodes_iter():\n",
      "        extension = {neighbor for neighbor in graph.neighbors(node)\n",
      "                     if neighbor > node}\n",
      "        subgraphs = extend_subgraph(graph, k, {node}, extension, node)\n",
      "        if isinstance(subgraphs, list):\n",
      "            for subgraph in subgraphs:\n",
      "                k_shelve[str(num_of_k_subgraphs)] = subgraph\n",
      "                num_of_k_subgraphs += 1\n",
      "        else: # isinstance(subgraphs, nx.Graph)\n",
      "            k_shelve[str(num_of_k_subgraphs)] = subgraphs\n",
      "            num_of_k_subgraphs += 1\n",
      "    return num_of_k_subgraphs"
     ],
     "language": "python",
     "metadata": {},
     "outputs": [],
     "prompt_number": 20
    },
    {
     "cell_type": "code",
     "collapsed": false,
     "input": [
      "%time enumerate_all_subgraphs_upto_size_k_shelved(merged_graph, 3)"
     ],
     "language": "python",
     "metadata": {},
     "outputs": [
      {
       "output_type": "stream",
       "stream": "stdout",
       "text": [
        "CPU times: user 580 ms, sys: 4 ms, total: 584 ms\n",
        "Wall time: 632 ms\n"
       ]
      },
      {
       "metadata": {},
       "output_type": "pyout",
       "prompt_number": 63,
       "text": [
        "'/tmp/maz-1423.xml-k-3.db'"
       ]
      }
     ],
     "prompt_number": 63
    },
    {
     "cell_type": "code",
     "collapsed": false,
     "input": [
      "%time enumerate_all_subgraphs_upto_size_k_shelved(merged_graph, 4)"
     ],
     "language": "python",
     "metadata": {},
     "outputs": [
      {
       "output_type": "stream",
       "stream": "stdout",
       "text": [
        "CPU times: user 1.63 s, sys: 20 ms, total: 1.65 s\n",
        "Wall time: 1.68 s\n"
       ]
      },
      {
       "metadata": {},
       "output_type": "pyout",
       "prompt_number": 64,
       "text": [
        "'/tmp/maz-1423.xml-k-4.db'"
       ]
      }
     ],
     "prompt_number": 64
    },
    {
     "cell_type": "code",
     "collapsed": false,
     "input": [
      "%time enumerate_all_subgraphs_upto_size_k_shelved(merged_graph, 5)"
     ],
     "language": "python",
     "metadata": {},
     "outputs": [
      {
       "output_type": "stream",
       "stream": "stdout",
       "text": [
        "CPU times: user 4.28 s, sys: 16 ms, total: 4.3 s\n",
        "Wall time: 4.35 s\n"
       ]
      },
      {
       "metadata": {},
       "output_type": "pyout",
       "prompt_number": 65,
       "text": [
        "'/tmp/maz-1423.xml-k-5.db'"
       ]
      }
     ],
     "prompt_number": 65
    },
    {
     "cell_type": "code",
     "collapsed": false,
     "input": [
      "%time enumerate_all_subgraphs_upto_size_k_shelved(merged_graph, 6)"
     ],
     "language": "python",
     "metadata": {},
     "outputs": [
      {
       "output_type": "stream",
       "stream": "stdout",
       "text": [
        "CPU times: user 11.3 s, sys: 32 ms, total: 11.4 s\n",
        "Wall time: 11.4 s\n"
       ]
      },
      {
       "metadata": {},
       "output_type": "pyout",
       "prompt_number": 67,
       "text": [
        "'/tmp/maz-1423.xml-k-6.db'"
       ]
      }
     ],
     "prompt_number": 67
    },
    {
     "cell_type": "code",
     "collapsed": false,
     "input": [
      "%time enumerate_all_subgraphs_upto_size_k_shelved(merged_graph, 7)"
     ],
     "language": "python",
     "metadata": {},
     "outputs": [
      {
       "output_type": "stream",
       "stream": "stdout",
       "text": [
        "CPU times: user 31 s, sys: 96 ms, total: 31.1 s\n",
        "Wall time: 31.3 s\n"
       ]
      },
      {
       "metadata": {},
       "output_type": "pyout",
       "prompt_number": 68,
       "text": [
        "'/tmp/maz-1423.xml-k-7.db'"
       ]
      }
     ],
     "prompt_number": 68
    },
    {
     "cell_type": "code",
     "collapsed": false,
     "input": [
      "%time enumerate_all_subgraphs_upto_size_k_shelved(merged_graph, 8)"
     ],
     "language": "python",
     "metadata": {},
     "outputs": [
      {
       "output_type": "stream",
       "stream": "stdout",
       "text": [
        "CPU times: user 1min 26s, sys: 644 ms, total: 1min 26s\n",
        "Wall time: 1min 27s\n"
       ]
      },
      {
       "metadata": {},
       "output_type": "pyout",
       "prompt_number": 21,
       "text": [
        "'/tmp/maz-1423.xml-k-8.db'"
       ]
      }
     ],
     "prompt_number": 21
    },
    {
     "cell_type": "code",
     "collapsed": false,
     "input": [
      "%time enumerate_all_subgraphs_upto_size_k_shelved(merged_graph, 9)"
     ],
     "language": "python",
     "metadata": {},
     "outputs": [
      {
       "output_type": "stream",
       "stream": "stdout",
       "text": [
        "CPU times: user 4min 31s, sys: 1.86 s, total: 4min 33s\n",
        "Wall time: 4min 36s\n"
       ]
      },
      {
       "metadata": {},
       "output_type": "pyout",
       "prompt_number": 22,
       "text": [
        "'/tmp/maz-1423.xml-k-9.db'"
       ]
      }
     ],
     "prompt_number": 22
    },
    {
     "cell_type": "code",
     "collapsed": false,
     "input": [
      "%time enumerate_all_subgraphs_upto_size_k_shelved(merged_graph, 10) # ca. 12mins, started: 1714"
     ],
     "language": "python",
     "metadata": {},
     "outputs": [
      {
       "output_type": "stream",
       "stream": "stdout",
       "text": [
        "CPU times: user 14min 49s, sys: 7.81 s, total: 14min 57s\n",
        "Wall time: 15min 49s\n"
       ]
      },
      {
       "metadata": {},
       "output_type": "pyout",
       "prompt_number": 21,
       "text": [
        "'/tmp/maz-1423.xml-k-10.db'"
       ]
      }
     ],
     "prompt_number": 21
    },
    {
     "cell_type": "code",
     "collapsed": false,
     "input": [
      "# import shelve\n",
      "\n",
      "# k10_shelve = shelve.open('/tmp/maz-1423.xml-k-10.db')"
     ],
     "language": "python",
     "metadata": {},
     "outputs": [],
     "prompt_number": 1
    },
    {
     "cell_type": "code",
     "collapsed": false,
     "input": [
      "k10_shelve.keys()"
     ],
     "language": "python",
     "metadata": {},
     "outputs": [
      {
       "metadata": {},
       "output_type": "pyout",
       "prompt_number": 2,
       "text": [
        "['2', '4', '6', '8', 'graph', '10', '1', '3', '5', '7', '9']"
       ]
      }
     ],
     "prompt_number": 2
    },
    {
     "cell_type": "markdown",
     "metadata": {},
     "source": [
      "```python\n",
      "for key in k10_shelve.keys():\n",
      "    print key, len(k10_shelve[key])\n",
      "```\n",
      "\n",
      "```\n",
      "graph 356\n",
      "1 356\n",
      "2 234\n",
      "3 486\n",
      "4 1182\n",
      "5 2884\n",
      "6 7445\n",
      "7 21355\n",
      "8 66773\n",
      "9 220405\n",
      "10 752187\n",
      "```"
     ]
    }
   ],
   "metadata": {}
  }
 ]
}