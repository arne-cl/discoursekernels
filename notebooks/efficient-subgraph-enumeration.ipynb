{
 "metadata": {
  "name": "",
  "signature": "sha256:1bce00025aef6d4108128d807f388b1caa2ce31108d3ea500751bda01e376658"
 },
 "nbformat": 3,
 "nbformat_minor": 0,
 "worksheets": [
  {
   "cells": [
    {
     "cell_type": "markdown",
     "metadata": {},
     "source": [
      "# Efficient Subgraph enumeration\n",
      "\n",
      "* paper: Wernicke (2006). Efficient Detection of Network Motifs.\n",
      "\n",
      "## Notation\n",
      "\n",
      "* graph G = (V, E)\n",
      "* all vertices in V are uniquely labeled with integers $1,...,n$ with $n = |V|$\n",
      "* $u > v$: the label of vertex $u$ is larger than that of vertex $v$\n",
      "* edges in G (**directed or undirected**) are identified using set notation\n",
      "* if $G$ is directed and contains both $(u,v)$ and $(v,u)$, these edges are represented\n",
      "  by a *bidirectional edge* $\\{u,v\\}$\n",
      "\n",
      "\n",
      "* relative complement set: $B \\backslash A = \\{ x \\in B | x \\notin A \\}$ (often called difference)\n",
      "* *size-k subgraph*: a connected subgraph that is induced from a node set of cardinality $k$\n",
      "\n",
      "### neighborhoods\n",
      "\n",
      "* for a set $V' \\subseteq V$, its *open neighborhood* $N(V')$ is the\n",
      "  set of all vertices $V \\backslash V'$ that are adjacent to at least one vertex in $V'$"
     ]
    },
    {
     "cell_type": "code",
     "collapsed": false,
     "input": [
      "from discoursekernels.util import print_source\n",
      "from discoursekernels.subgraph_enumeration import (\n",
      "    open_neighborhood, exclusive_neighborhood, enumerate_all_size_k_subgraphs,\n",
      "    extend_subgraph, enumerate_all_subgraphs_upto_size_k, enumerate_all_subgraphs_upto_size_k_parallel)\n",
      "\n",
      "print_source(open_neighborhood)"
     ],
     "language": "python",
     "metadata": {},
     "outputs": [
      {
       "output_type": "stream",
       "stream": "stdout",
       "text": [
        "Couldn't import _dotparser, loading of dot files will not be possible.\n"
       ]
      },
      {
       "html": [
        "<!DOCTYPE html PUBLIC \"-//W3C//DTD HTML 4.01//EN\"\n",
        "   \"http://www.w3.org/TR/html4/strict.dtd\">\n",
        "\n",
        "<html>\n",
        "<head>\n",
        "  <title></title>\n",
        "  <meta http-equiv=\"content-type\" content=\"text/html; charset=None\">\n",
        "  <style type=\"text/css\">\n",
        "td.linenos { background-color: #f0f0f0; padding-right: 10px; }\n",
        "span.lineno { background-color: #f0f0f0; padding: 0 5px 0 5px; }\n",
        "pre { line-height: 125%; }\n",
        "body .hll { background-color: #ffffcc }\n",
        "body .c { color: #408080; font-style: italic } /* Comment */\n",
        "body .err { border: 1px solid #FF0000 } /* Error */\n",
        "body .k { color: #008000; font-weight: bold } /* Keyword */\n",
        "body .o { color: #666666 } /* Operator */\n",
        "body .cm { color: #408080; font-style: italic } /* Comment.Multiline */\n",
        "body .cp { color: #BC7A00 } /* Comment.Preproc */\n",
        "body .c1 { color: #408080; font-style: italic } /* Comment.Single */\n",
        "body .cs { color: #408080; font-style: italic } /* Comment.Special */\n",
        "body .gd { color: #A00000 } /* Generic.Deleted */\n",
        "body .ge { font-style: italic } /* Generic.Emph */\n",
        "body .gr { color: #FF0000 } /* Generic.Error */\n",
        "body .gh { color: #000080; font-weight: bold } /* Generic.Heading */\n",
        "body .gi { color: #00A000 } /* Generic.Inserted */\n",
        "body .go { color: #888888 } /* Generic.Output */\n",
        "body .gp { color: #000080; font-weight: bold } /* Generic.Prompt */\n",
        "body .gs { font-weight: bold } /* Generic.Strong */\n",
        "body .gu { color: #800080; font-weight: bold } /* Generic.Subheading */\n",
        "body .gt { color: #0044DD } /* Generic.Traceback */\n",
        "body .kc { color: #008000; font-weight: bold } /* Keyword.Constant */\n",
        "body .kd { color: #008000; font-weight: bold } /* Keyword.Declaration */\n",
        "body .kn { color: #008000; font-weight: bold } /* Keyword.Namespace */\n",
        "body .kp { color: #008000 } /* Keyword.Pseudo */\n",
        "body .kr { color: #008000; font-weight: bold } /* Keyword.Reserved */\n",
        "body .kt { color: #B00040 } /* Keyword.Type */\n",
        "body .m { color: #666666 } /* Literal.Number */\n",
        "body .s { color: #BA2121 } /* Literal.String */\n",
        "body .na { color: #7D9029 } /* Name.Attribute */\n",
        "body .nb { color: #008000 } /* Name.Builtin */\n",
        "body .nc { color: #0000FF; font-weight: bold } /* Name.Class */\n",
        "body .no { color: #880000 } /* Name.Constant */\n",
        "body .nd { color: #AA22FF } /* Name.Decorator */\n",
        "body .ni { color: #999999; font-weight: bold } /* Name.Entity */\n",
        "body .ne { color: #D2413A; font-weight: bold } /* Name.Exception */\n",
        "body .nf { color: #0000FF } /* Name.Function */\n",
        "body .nl { color: #A0A000 } /* Name.Label */\n",
        "body .nn { color: #0000FF; font-weight: bold } /* Name.Namespace */\n",
        "body .nt { color: #008000; font-weight: bold } /* Name.Tag */\n",
        "body .nv { color: #19177C } /* Name.Variable */\n",
        "body .ow { color: #AA22FF; font-weight: bold } /* Operator.Word */\n",
        "body .w { color: #bbbbbb } /* Text.Whitespace */\n",
        "body .mb { color: #666666 } /* Literal.Number.Bin */\n",
        "body .mf { color: #666666 } /* Literal.Number.Float */\n",
        "body .mh { color: #666666 } /* Literal.Number.Hex */\n",
        "body .mi { color: #666666 } /* Literal.Number.Integer */\n",
        "body .mo { color: #666666 } /* Literal.Number.Oct */\n",
        "body .sb { color: #BA2121 } /* Literal.String.Backtick */\n",
        "body .sc { color: #BA2121 } /* Literal.String.Char */\n",
        "body .sd { color: #BA2121; font-style: italic } /* Literal.String.Doc */\n",
        "body .s2 { color: #BA2121 } /* Literal.String.Double */\n",
        "body .se { color: #BB6622; font-weight: bold } /* Literal.String.Escape */\n",
        "body .sh { color: #BA2121 } /* Literal.String.Heredoc */\n",
        "body .si { color: #BB6688; font-weight: bold } /* Literal.String.Interpol */\n",
        "body .sx { color: #008000 } /* Literal.String.Other */\n",
        "body .sr { color: #BB6688 } /* Literal.String.Regex */\n",
        "body .s1 { color: #BA2121 } /* Literal.String.Single */\n",
        "body .ss { color: #19177C } /* Literal.String.Symbol */\n",
        "body .bp { color: #008000 } /* Name.Builtin.Pseudo */\n",
        "body .vc { color: #19177C } /* Name.Variable.Class */\n",
        "body .vg { color: #19177C } /* Name.Variable.Global */\n",
        "body .vi { color: #19177C } /* Name.Variable.Instance */\n",
        "body .il { color: #666666 } /* Literal.Number.Integer.Long */\n",
        "\n",
        "  </style>\n",
        "</head>\n",
        "<body>\n",
        "<h2></h2>\n",
        "\n",
        "<div class=\"highlight\"><pre><span class=\"k\">def</span> <span class=\"nf\">open_neighborhood</span><span class=\"p\">(</span><span class=\"n\">graph</span><span class=\"p\">,</span> <span class=\"n\">node_subset</span><span class=\"p\">):</span>\n",
        "    <span class=\"sd\">&quot;&quot;&quot;</span>\n",
        "<span class=\"sd\">    $N(V&#39;)$: returns the set of all nodes that are in the graph&#39;s node set</span>\n",
        "<span class=\"sd\">    (but not in the given subset) and are adjacent to at least one node</span>\n",
        "<span class=\"sd\">    in the subset. Based on Wernicke (2006).</span>\n",
        "\n",
        "<span class=\"sd\">    WARNING: different results for directed vs. undirected graphs</span>\n",
        "<span class=\"sd\">    &quot;&quot;&quot;</span>\n",
        "    <span class=\"n\">open_nbh</span> <span class=\"o\">=</span> <span class=\"nb\">set</span><span class=\"p\">()</span>\n",
        "    <span class=\"n\">node_set</span> <span class=\"o\">=</span> <span class=\"nb\">set</span><span class=\"p\">(</span><span class=\"n\">graph</span><span class=\"o\">.</span><span class=\"n\">nodes</span><span class=\"p\">())</span>\n",
        "    <span class=\"n\">nodes_not_in_subset</span> <span class=\"o\">=</span> <span class=\"n\">node_set</span> <span class=\"o\">-</span> <span class=\"n\">node_subset</span>\n",
        "    <span class=\"k\">for</span> <span class=\"n\">node_not_in_subset</span> <span class=\"ow\">in</span> <span class=\"n\">nodes_not_in_subset</span><span class=\"p\">:</span>\n",
        "        <span class=\"k\">if</span> <span class=\"nb\">any</span><span class=\"p\">(</span><span class=\"n\">neighbor</span> <span class=\"ow\">in</span> <span class=\"n\">node_subset</span>\n",
        "               <span class=\"k\">for</span> <span class=\"n\">neighbor</span> <span class=\"ow\">in</span> <span class=\"n\">graph</span><span class=\"o\">.</span><span class=\"n\">neighbors</span><span class=\"p\">(</span><span class=\"n\">node_not_in_subset</span><span class=\"p\">)):</span>\n",
        "            <span class=\"n\">open_nbh</span><span class=\"o\">.</span><span class=\"n\">add</span><span class=\"p\">(</span><span class=\"n\">node_not_in_subset</span><span class=\"p\">)</span>\n",
        "    <span class=\"k\">return</span> <span class=\"n\">open_nbh</span>\n",
        "</pre></div>\n",
        "</body>\n",
        "</html>\n"
       ],
       "metadata": {},
       "output_type": "pyout",
       "prompt_number": 1,
       "text": [
        "<IPython.core.display.HTML at 0x7f62b822c390>"
       ]
      }
     ],
     "prompt_number": 1
    },
    {
     "cell_type": "markdown",
     "metadata": {},
     "source": [
      "* $N_{excl}(v, V')$: for a vertex $v \\in V \\backslash V'$ its *exclusive neighborhood* w.r.t. $V'$\n",
      "  consists of all vertices neighboring $v$ that don't belong to $V' \\cup N(V')$"
     ]
    },
    {
     "cell_type": "code",
     "collapsed": false,
     "input": [
      "print_source(exclusive_neighborhood)"
     ],
     "language": "python",
     "metadata": {},
     "outputs": [
      {
       "html": [
        "<!DOCTYPE html PUBLIC \"-//W3C//DTD HTML 4.01//EN\"\n",
        "   \"http://www.w3.org/TR/html4/strict.dtd\">\n",
        "\n",
        "<html>\n",
        "<head>\n",
        "  <title></title>\n",
        "  <meta http-equiv=\"content-type\" content=\"text/html; charset=None\">\n",
        "  <style type=\"text/css\">\n",
        "td.linenos { background-color: #f0f0f0; padding-right: 10px; }\n",
        "span.lineno { background-color: #f0f0f0; padding: 0 5px 0 5px; }\n",
        "pre { line-height: 125%; }\n",
        "body .hll { background-color: #ffffcc }\n",
        "body .c { color: #408080; font-style: italic } /* Comment */\n",
        "body .err { border: 1px solid #FF0000 } /* Error */\n",
        "body .k { color: #008000; font-weight: bold } /* Keyword */\n",
        "body .o { color: #666666 } /* Operator */\n",
        "body .cm { color: #408080; font-style: italic } /* Comment.Multiline */\n",
        "body .cp { color: #BC7A00 } /* Comment.Preproc */\n",
        "body .c1 { color: #408080; font-style: italic } /* Comment.Single */\n",
        "body .cs { color: #408080; font-style: italic } /* Comment.Special */\n",
        "body .gd { color: #A00000 } /* Generic.Deleted */\n",
        "body .ge { font-style: italic } /* Generic.Emph */\n",
        "body .gr { color: #FF0000 } /* Generic.Error */\n",
        "body .gh { color: #000080; font-weight: bold } /* Generic.Heading */\n",
        "body .gi { color: #00A000 } /* Generic.Inserted */\n",
        "body .go { color: #888888 } /* Generic.Output */\n",
        "body .gp { color: #000080; font-weight: bold } /* Generic.Prompt */\n",
        "body .gs { font-weight: bold } /* Generic.Strong */\n",
        "body .gu { color: #800080; font-weight: bold } /* Generic.Subheading */\n",
        "body .gt { color: #0044DD } /* Generic.Traceback */\n",
        "body .kc { color: #008000; font-weight: bold } /* Keyword.Constant */\n",
        "body .kd { color: #008000; font-weight: bold } /* Keyword.Declaration */\n",
        "body .kn { color: #008000; font-weight: bold } /* Keyword.Namespace */\n",
        "body .kp { color: #008000 } /* Keyword.Pseudo */\n",
        "body .kr { color: #008000; font-weight: bold } /* Keyword.Reserved */\n",
        "body .kt { color: #B00040 } /* Keyword.Type */\n",
        "body .m { color: #666666 } /* Literal.Number */\n",
        "body .s { color: #BA2121 } /* Literal.String */\n",
        "body .na { color: #7D9029 } /* Name.Attribute */\n",
        "body .nb { color: #008000 } /* Name.Builtin */\n",
        "body .nc { color: #0000FF; font-weight: bold } /* Name.Class */\n",
        "body .no { color: #880000 } /* Name.Constant */\n",
        "body .nd { color: #AA22FF } /* Name.Decorator */\n",
        "body .ni { color: #999999; font-weight: bold } /* Name.Entity */\n",
        "body .ne { color: #D2413A; font-weight: bold } /* Name.Exception */\n",
        "body .nf { color: #0000FF } /* Name.Function */\n",
        "body .nl { color: #A0A000 } /* Name.Label */\n",
        "body .nn { color: #0000FF; font-weight: bold } /* Name.Namespace */\n",
        "body .nt { color: #008000; font-weight: bold } /* Name.Tag */\n",
        "body .nv { color: #19177C } /* Name.Variable */\n",
        "body .ow { color: #AA22FF; font-weight: bold } /* Operator.Word */\n",
        "body .w { color: #bbbbbb } /* Text.Whitespace */\n",
        "body .mb { color: #666666 } /* Literal.Number.Bin */\n",
        "body .mf { color: #666666 } /* Literal.Number.Float */\n",
        "body .mh { color: #666666 } /* Literal.Number.Hex */\n",
        "body .mi { color: #666666 } /* Literal.Number.Integer */\n",
        "body .mo { color: #666666 } /* Literal.Number.Oct */\n",
        "body .sb { color: #BA2121 } /* Literal.String.Backtick */\n",
        "body .sc { color: #BA2121 } /* Literal.String.Char */\n",
        "body .sd { color: #BA2121; font-style: italic } /* Literal.String.Doc */\n",
        "body .s2 { color: #BA2121 } /* Literal.String.Double */\n",
        "body .se { color: #BB6622; font-weight: bold } /* Literal.String.Escape */\n",
        "body .sh { color: #BA2121 } /* Literal.String.Heredoc */\n",
        "body .si { color: #BB6688; font-weight: bold } /* Literal.String.Interpol */\n",
        "body .sx { color: #008000 } /* Literal.String.Other */\n",
        "body .sr { color: #BB6688 } /* Literal.String.Regex */\n",
        "body .s1 { color: #BA2121 } /* Literal.String.Single */\n",
        "body .ss { color: #19177C } /* Literal.String.Symbol */\n",
        "body .bp { color: #008000 } /* Name.Builtin.Pseudo */\n",
        "body .vc { color: #19177C } /* Name.Variable.Class */\n",
        "body .vg { color: #19177C } /* Name.Variable.Global */\n",
        "body .vi { color: #19177C } /* Name.Variable.Instance */\n",
        "body .il { color: #666666 } /* Literal.Number.Integer.Long */\n",
        "\n",
        "  </style>\n",
        "</head>\n",
        "<body>\n",
        "<h2></h2>\n",
        "\n",
        "<div class=\"highlight\"><pre><span class=\"k\">def</span> <span class=\"nf\">exclusive_neighborhood</span><span class=\"p\">(</span><span class=\"n\">graph</span><span class=\"p\">,</span> <span class=\"n\">node</span><span class=\"p\">,</span> <span class=\"n\">node_subset</span><span class=\"p\">):</span>\n",
        "    <span class=\"sd\">&quot;&quot;&quot;</span>\n",
        "<span class=\"sd\">    given a node v that doesn&#39;t belong to the given node subset V&#39;,</span>\n",
        "<span class=\"sd\">    returns all nodes that are neighbors of v, but don&#39;t belong to</span>\n",
        "<span class=\"sd\">    the node subset V&#39; or its open neighborhood N(V&#39;).</span>\n",
        "<span class=\"sd\">    Based on Wernicke (2006).</span>\n",
        "<span class=\"sd\">    </span>\n",
        "<span class=\"sd\">    WARNING: different results for directed vs. undirected graphs</span>\n",
        "<span class=\"sd\">    &quot;&quot;&quot;</span>\n",
        "    <span class=\"k\">assert</span> <span class=\"n\">node</span> <span class=\"ow\">not</span> <span class=\"ow\">in</span> <span class=\"n\">node_subset</span>\n",
        "    <span class=\"n\">open_nbh</span> <span class=\"o\">=</span> <span class=\"n\">open_neighborhood</span><span class=\"p\">(</span><span class=\"n\">graph</span><span class=\"p\">,</span> <span class=\"n\">node_subset</span><span class=\"p\">)</span>\n",
        "\n",
        "    <span class=\"n\">exclusive_nbh</span> <span class=\"o\">=</span> <span class=\"nb\">set</span><span class=\"p\">()</span>\n",
        "    <span class=\"k\">for</span> <span class=\"n\">neighbor</span> <span class=\"ow\">in</span> <span class=\"n\">graph</span><span class=\"o\">.</span><span class=\"n\">neighbors</span><span class=\"p\">(</span><span class=\"n\">node</span><span class=\"p\">):</span>\n",
        "        <span class=\"k\">if</span> <span class=\"n\">neighbor</span> <span class=\"ow\">not</span> <span class=\"ow\">in</span> <span class=\"n\">node_subset</span> <span class=\"ow\">and</span> <span class=\"n\">neighbor</span> <span class=\"ow\">not</span> <span class=\"ow\">in</span> <span class=\"n\">open_nbh</span><span class=\"p\">:</span>\n",
        "            <span class=\"n\">exclusive_nbh</span><span class=\"o\">.</span><span class=\"n\">add</span><span class=\"p\">(</span><span class=\"n\">neighbor</span><span class=\"p\">)</span>\n",
        "    <span class=\"k\">return</span> <span class=\"n\">exclusive_nbh</span>\n",
        "</pre></div>\n",
        "</body>\n",
        "</html>\n"
       ],
       "metadata": {},
       "output_type": "pyout",
       "prompt_number": 2,
       "text": [
        "<IPython.core.display.HTML at 0x7f62c86e3190>"
       ]
      }
     ],
     "prompt_number": 2
    },
    {
     "cell_type": "code",
     "collapsed": false,
     "input": [
      "from nxpd import draw\n",
      "from discoursekernels.test_dependency_graph import the_man_saw_the_woman_with_the_telescope\n",
      "\n",
      "draw(the_man_saw_the_woman_with_the_telescope, show='ipynb')"
     ],
     "language": "python",
     "metadata": {},
     "outputs": [
      {
       "metadata": {},
       "output_type": "pyout",
       "png": "[encoded data removed]",
       "prompt_number": 3,
       "text": [
        "<IPython.core.display.Image at 0x7f62b811b150>"
       ]
      }
     ],
     "prompt_number": 3
    },
    {
     "cell_type": "code",
     "collapsed": false,
     "input": [
      "for n, attrs in the_man_saw_the_woman_with_the_telescope.nodes(data=True):\n",
      "    print n, attrs['label']"
     ],
     "language": "python",
     "metadata": {},
     "outputs": [
      {
       "output_type": "stream",
       "stream": "stdout",
       "text": [
        "1 *\n",
        "2 saw\n",
        "3 man\n",
        "4 the\n",
        "5 woman\n",
        "6 the\n",
        "7 with\n",
        "8 telescope\n",
        "9 the\n"
       ]
      }
     ],
     "prompt_number": 4
    },
    {
     "cell_type": "code",
     "collapsed": false,
     "input": [
      "open_neighborhood(the_man_saw_the_woman_with_the_telescope, set([5]))"
     ],
     "language": "python",
     "metadata": {},
     "outputs": [
      {
       "metadata": {},
       "output_type": "pyout",
       "prompt_number": 5,
       "text": [
        "{2}"
       ]
      }
     ],
     "prompt_number": 5
    },
    {
     "cell_type": "code",
     "collapsed": false,
     "input": [
      "open_neighborhood(the_man_saw_the_woman_with_the_telescope.to_undirected(), set([5]))"
     ],
     "language": "python",
     "metadata": {},
     "outputs": [
      {
       "metadata": {},
       "output_type": "pyout",
       "prompt_number": 6,
       "text": [
        "{2, 6}"
       ]
      }
     ],
     "prompt_number": 6
    },
    {
     "cell_type": "code",
     "collapsed": false,
     "input": [
      "exclusive_neighborhood(the_man_saw_the_woman_with_the_telescope.to_undirected(), 2, set([5, 6]))"
     ],
     "language": "python",
     "metadata": {},
     "outputs": [
      {
       "metadata": {},
       "output_type": "pyout",
       "prompt_number": 7,
       "text": [
        "{1, 3, 7}"
       ]
      }
     ],
     "prompt_number": 7
    },
    {
     "cell_type": "markdown",
     "metadata": {},
     "source": [
      "## Enumerating all *size-k* subgraphs\n",
      "\n",
      "* starting with a node $v$ from the input graph, we only add\n",
      "  those nodes to the $V_{Extension}$ set that have these properties:\n",
      "  \n",
      "  * their label must be larger than that of $v$\n",
      "  * they may be neighbored to the newly added node $w$, but not to\n",
      "    a node already in $V_{Subgraph}$\n",
      "  * i.e. they must be in the exclusive neighborhood of $w$\n",
      "    with respect to $V_{Subgraph}$"
     ]
    },
    {
     "cell_type": "code",
     "collapsed": false,
     "input": [
      "print_source(enumerate_all_size_k_subgraphs)"
     ],
     "language": "python",
     "metadata": {},
     "outputs": [
      {
       "html": [
        "<!DOCTYPE html PUBLIC \"-//W3C//DTD HTML 4.01//EN\"\n",
        "   \"http://www.w3.org/TR/html4/strict.dtd\">\n",
        "\n",
        "<html>\n",
        "<head>\n",
        "  <title></title>\n",
        "  <meta http-equiv=\"content-type\" content=\"text/html; charset=None\">\n",
        "  <style type=\"text/css\">\n",
        "td.linenos { background-color: #f0f0f0; padding-right: 10px; }\n",
        "span.lineno { background-color: #f0f0f0; padding: 0 5px 0 5px; }\n",
        "pre { line-height: 125%; }\n",
        "body .hll { background-color: #ffffcc }\n",
        "body .c { color: #408080; font-style: italic } /* Comment */\n",
        "body .err { border: 1px solid #FF0000 } /* Error */\n",
        "body .k { color: #008000; font-weight: bold } /* Keyword */\n",
        "body .o { color: #666666 } /* Operator */\n",
        "body .cm { color: #408080; font-style: italic } /* Comment.Multiline */\n",
        "body .cp { color: #BC7A00 } /* Comment.Preproc */\n",
        "body .c1 { color: #408080; font-style: italic } /* Comment.Single */\n",
        "body .cs { color: #408080; font-style: italic } /* Comment.Special */\n",
        "body .gd { color: #A00000 } /* Generic.Deleted */\n",
        "body .ge { font-style: italic } /* Generic.Emph */\n",
        "body .gr { color: #FF0000 } /* Generic.Error */\n",
        "body .gh { color: #000080; font-weight: bold } /* Generic.Heading */\n",
        "body .gi { color: #00A000 } /* Generic.Inserted */\n",
        "body .go { color: #888888 } /* Generic.Output */\n",
        "body .gp { color: #000080; font-weight: bold } /* Generic.Prompt */\n",
        "body .gs { font-weight: bold } /* Generic.Strong */\n",
        "body .gu { color: #800080; font-weight: bold } /* Generic.Subheading */\n",
        "body .gt { color: #0044DD } /* Generic.Traceback */\n",
        "body .kc { color: #008000; font-weight: bold } /* Keyword.Constant */\n",
        "body .kd { color: #008000; font-weight: bold } /* Keyword.Declaration */\n",
        "body .kn { color: #008000; font-weight: bold } /* Keyword.Namespace */\n",
        "body .kp { color: #008000 } /* Keyword.Pseudo */\n",
        "body .kr { color: #008000; font-weight: bold } /* Keyword.Reserved */\n",
        "body .kt { color: #B00040 } /* Keyword.Type */\n",
        "body .m { color: #666666 } /* Literal.Number */\n",
        "body .s { color: #BA2121 } /* Literal.String */\n",
        "body .na { color: #7D9029 } /* Name.Attribute */\n",
        "body .nb { color: #008000 } /* Name.Builtin */\n",
        "body .nc { color: #0000FF; font-weight: bold } /* Name.Class */\n",
        "body .no { color: #880000 } /* Name.Constant */\n",
        "body .nd { color: #AA22FF } /* Name.Decorator */\n",
        "body .ni { color: #999999; font-weight: bold } /* Name.Entity */\n",
        "body .ne { color: #D2413A; font-weight: bold } /* Name.Exception */\n",
        "body .nf { color: #0000FF } /* Name.Function */\n",
        "body .nl { color: #A0A000 } /* Name.Label */\n",
        "body .nn { color: #0000FF; font-weight: bold } /* Name.Namespace */\n",
        "body .nt { color: #008000; font-weight: bold } /* Name.Tag */\n",
        "body .nv { color: #19177C } /* Name.Variable */\n",
        "body .ow { color: #AA22FF; font-weight: bold } /* Operator.Word */\n",
        "body .w { color: #bbbbbb } /* Text.Whitespace */\n",
        "body .mb { color: #666666 } /* Literal.Number.Bin */\n",
        "body .mf { color: #666666 } /* Literal.Number.Float */\n",
        "body .mh { color: #666666 } /* Literal.Number.Hex */\n",
        "body .mi { color: #666666 } /* Literal.Number.Integer */\n",
        "body .mo { color: #666666 } /* Literal.Number.Oct */\n",
        "body .sb { color: #BA2121 } /* Literal.String.Backtick */\n",
        "body .sc { color: #BA2121 } /* Literal.String.Char */\n",
        "body .sd { color: #BA2121; font-style: italic } /* Literal.String.Doc */\n",
        "body .s2 { color: #BA2121 } /* Literal.String.Double */\n",
        "body .se { color: #BB6622; font-weight: bold } /* Literal.String.Escape */\n",
        "body .sh { color: #BA2121 } /* Literal.String.Heredoc */\n",
        "body .si { color: #BB6688; font-weight: bold } /* Literal.String.Interpol */\n",
        "body .sx { color: #008000 } /* Literal.String.Other */\n",
        "body .sr { color: #BB6688 } /* Literal.String.Regex */\n",
        "body .s1 { color: #BA2121 } /* Literal.String.Single */\n",
        "body .ss { color: #19177C } /* Literal.String.Symbol */\n",
        "body .bp { color: #008000 } /* Name.Builtin.Pseudo */\n",
        "body .vc { color: #19177C } /* Name.Variable.Class */\n",
        "body .vg { color: #19177C } /* Name.Variable.Global */\n",
        "body .vi { color: #19177C } /* Name.Variable.Instance */\n",
        "body .il { color: #666666 } /* Literal.Number.Integer.Long */\n",
        "\n",
        "  </style>\n",
        "</head>\n",
        "<body>\n",
        "<h2></h2>\n",
        "\n",
        "<div class=\"highlight\"><pre><span class=\"k\">def</span> <span class=\"nf\">enumerate_all_size_k_subgraphs</span><span class=\"p\">(</span><span class=\"n\">graph</span><span class=\"p\">,</span> <span class=\"n\">k</span><span class=\"p\">):</span>\n",
        "    <span class=\"sd\">&quot;&quot;&quot;</span>\n",
        "<span class=\"sd\">    returns all subgraphs of the given graph that have k nodes.</span>\n",
        "<span class=\"sd\">    The algorith is called ``ESU`` in Wernicke (2006).</span>\n",
        "<span class=\"sd\">    &quot;&quot;&quot;</span>\n",
        "    <span class=\"k\">assert</span> <span class=\"nb\">all</span><span class=\"p\">(</span><span class=\"nb\">isinstance</span><span class=\"p\">(</span><span class=\"n\">node</span><span class=\"p\">,</span> <span class=\"nb\">int</span><span class=\"p\">)</span> <span class=\"k\">for</span> <span class=\"n\">node</span> <span class=\"ow\">in</span> <span class=\"n\">graph</span><span class=\"o\">.</span><span class=\"n\">nodes_iter</span><span class=\"p\">())</span>\n",
        "    <span class=\"k\">if</span> <span class=\"ow\">not</span> <span class=\"mi\">1</span> <span class=\"o\">&lt;=</span> <span class=\"n\">k</span> <span class=\"o\">&lt;=</span> <span class=\"nb\">len</span><span class=\"p\">(</span><span class=\"n\">graph</span><span class=\"p\">):</span>\n",
        "        <span class=\"k\">return</span> <span class=\"p\">[]</span>\n",
        "\n",
        "    <span class=\"n\">all_subgraphs</span> <span class=\"o\">=</span> <span class=\"p\">[]</span>\n",
        "    <span class=\"k\">for</span> <span class=\"n\">node</span> <span class=\"ow\">in</span> <span class=\"n\">graph</span><span class=\"o\">.</span><span class=\"n\">nodes_iter</span><span class=\"p\">():</span>\n",
        "        <span class=\"n\">extension</span> <span class=\"o\">=</span> <span class=\"p\">{</span><span class=\"n\">neighbor</span> <span class=\"k\">for</span> <span class=\"n\">neighbor</span> <span class=\"ow\">in</span> <span class=\"n\">graph</span><span class=\"o\">.</span><span class=\"n\">neighbors</span><span class=\"p\">(</span><span class=\"n\">node</span><span class=\"p\">)</span>\n",
        "                     <span class=\"k\">if</span> <span class=\"n\">neighbor</span> <span class=\"o\">&gt;</span> <span class=\"n\">node</span><span class=\"p\">}</span>\n",
        "        <span class=\"n\">subgraphs</span> <span class=\"o\">=</span> <span class=\"n\">extend_subgraph</span><span class=\"p\">(</span><span class=\"n\">graph</span><span class=\"p\">,</span> <span class=\"n\">k</span><span class=\"p\">,</span> <span class=\"p\">{</span><span class=\"n\">node</span><span class=\"p\">},</span> <span class=\"n\">extension</span><span class=\"p\">,</span> <span class=\"n\">node</span><span class=\"p\">)</span>\n",
        "        <span class=\"k\">if</span> <span class=\"nb\">isinstance</span><span class=\"p\">(</span><span class=\"n\">subgraphs</span><span class=\"p\">,</span> <span class=\"nb\">list</span><span class=\"p\">):</span>\n",
        "            <span class=\"n\">all_subgraphs</span><span class=\"o\">.</span><span class=\"n\">extend</span><span class=\"p\">(</span><span class=\"n\">subgraphs</span><span class=\"p\">)</span>\n",
        "        <span class=\"k\">else</span><span class=\"p\">:</span> <span class=\"c\"># isinstance(subgraphs, nx.Graph)</span>\n",
        "            <span class=\"n\">all_subgraphs</span><span class=\"o\">.</span><span class=\"n\">append</span><span class=\"p\">(</span><span class=\"n\">subgraphs</span><span class=\"p\">)</span>\n",
        "    <span class=\"k\">return</span> <span class=\"n\">all_subgraphs</span>\n",
        "</pre></div>\n",
        "</body>\n",
        "</html>\n"
       ],
       "metadata": {},
       "output_type": "pyout",
       "prompt_number": 8,
       "text": [
        "<IPython.core.display.HTML at 0x7f62b823d710>"
       ]
      }
     ],
     "prompt_number": 8
    },
    {
     "cell_type": "code",
     "collapsed": false,
     "input": [
      "print_source(extend_subgraph)"
     ],
     "language": "python",
     "metadata": {},
     "outputs": [
      {
       "html": [
        "<!DOCTYPE html PUBLIC \"-//W3C//DTD HTML 4.01//EN\"\n",
        "   \"http://www.w3.org/TR/html4/strict.dtd\">\n",
        "\n",
        "<html>\n",
        "<head>\n",
        "  <title></title>\n",
        "  <meta http-equiv=\"content-type\" content=\"text/html; charset=None\">\n",
        "  <style type=\"text/css\">\n",
        "td.linenos { background-color: #f0f0f0; padding-right: 10px; }\n",
        "span.lineno { background-color: #f0f0f0; padding: 0 5px 0 5px; }\n",
        "pre { line-height: 125%; }\n",
        "body .hll { background-color: #ffffcc }\n",
        "body .c { color: #408080; font-style: italic } /* Comment */\n",
        "body .err { border: 1px solid #FF0000 } /* Error */\n",
        "body .k { color: #008000; font-weight: bold } /* Keyword */\n",
        "body .o { color: #666666 } /* Operator */\n",
        "body .cm { color: #408080; font-style: italic } /* Comment.Multiline */\n",
        "body .cp { color: #BC7A00 } /* Comment.Preproc */\n",
        "body .c1 { color: #408080; font-style: italic } /* Comment.Single */\n",
        "body .cs { color: #408080; font-style: italic } /* Comment.Special */\n",
        "body .gd { color: #A00000 } /* Generic.Deleted */\n",
        "body .ge { font-style: italic } /* Generic.Emph */\n",
        "body .gr { color: #FF0000 } /* Generic.Error */\n",
        "body .gh { color: #000080; font-weight: bold } /* Generic.Heading */\n",
        "body .gi { color: #00A000 } /* Generic.Inserted */\n",
        "body .go { color: #888888 } /* Generic.Output */\n",
        "body .gp { color: #000080; font-weight: bold } /* Generic.Prompt */\n",
        "body .gs { font-weight: bold } /* Generic.Strong */\n",
        "body .gu { color: #800080; font-weight: bold } /* Generic.Subheading */\n",
        "body .gt { color: #0044DD } /* Generic.Traceback */\n",
        "body .kc { color: #008000; font-weight: bold } /* Keyword.Constant */\n",
        "body .kd { color: #008000; font-weight: bold } /* Keyword.Declaration */\n",
        "body .kn { color: #008000; font-weight: bold } /* Keyword.Namespace */\n",
        "body .kp { color: #008000 } /* Keyword.Pseudo */\n",
        "body .kr { color: #008000; font-weight: bold } /* Keyword.Reserved */\n",
        "body .kt { color: #B00040 } /* Keyword.Type */\n",
        "body .m { color: #666666 } /* Literal.Number */\n",
        "body .s { color: #BA2121 } /* Literal.String */\n",
        "body .na { color: #7D9029 } /* Name.Attribute */\n",
        "body .nb { color: #008000 } /* Name.Builtin */\n",
        "body .nc { color: #0000FF; font-weight: bold } /* Name.Class */\n",
        "body .no { color: #880000 } /* Name.Constant */\n",
        "body .nd { color: #AA22FF } /* Name.Decorator */\n",
        "body .ni { color: #999999; font-weight: bold } /* Name.Entity */\n",
        "body .ne { color: #D2413A; font-weight: bold } /* Name.Exception */\n",
        "body .nf { color: #0000FF } /* Name.Function */\n",
        "body .nl { color: #A0A000 } /* Name.Label */\n",
        "body .nn { color: #0000FF; font-weight: bold } /* Name.Namespace */\n",
        "body .nt { color: #008000; font-weight: bold } /* Name.Tag */\n",
        "body .nv { color: #19177C } /* Name.Variable */\n",
        "body .ow { color: #AA22FF; font-weight: bold } /* Operator.Word */\n",
        "body .w { color: #bbbbbb } /* Text.Whitespace */\n",
        "body .mb { color: #666666 } /* Literal.Number.Bin */\n",
        "body .mf { color: #666666 } /* Literal.Number.Float */\n",
        "body .mh { color: #666666 } /* Literal.Number.Hex */\n",
        "body .mi { color: #666666 } /* Literal.Number.Integer */\n",
        "body .mo { color: #666666 } /* Literal.Number.Oct */\n",
        "body .sb { color: #BA2121 } /* Literal.String.Backtick */\n",
        "body .sc { color: #BA2121 } /* Literal.String.Char */\n",
        "body .sd { color: #BA2121; font-style: italic } /* Literal.String.Doc */\n",
        "body .s2 { color: #BA2121 } /* Literal.String.Double */\n",
        "body .se { color: #BB6622; font-weight: bold } /* Literal.String.Escape */\n",
        "body .sh { color: #BA2121 } /* Literal.String.Heredoc */\n",
        "body .si { color: #BB6688; font-weight: bold } /* Literal.String.Interpol */\n",
        "body .sx { color: #008000 } /* Literal.String.Other */\n",
        "body .sr { color: #BB6688 } /* Literal.String.Regex */\n",
        "body .s1 { color: #BA2121 } /* Literal.String.Single */\n",
        "body .ss { color: #19177C } /* Literal.String.Symbol */\n",
        "body .bp { color: #008000 } /* Name.Builtin.Pseudo */\n",
        "body .vc { color: #19177C } /* Name.Variable.Class */\n",
        "body .vg { color: #19177C } /* Name.Variable.Global */\n",
        "body .vi { color: #19177C } /* Name.Variable.Instance */\n",
        "body .il { color: #666666 } /* Literal.Number.Integer.Long */\n",
        "\n",
        "  </style>\n",
        "</head>\n",
        "<body>\n",
        "<h2></h2>\n",
        "\n",
        "<div class=\"highlight\"><pre><span class=\"k\">def</span> <span class=\"nf\">extend_subgraph</span><span class=\"p\">(</span><span class=\"n\">graph</span><span class=\"p\">,</span> <span class=\"n\">k</span><span class=\"p\">,</span> <span class=\"n\">subgraph_nodes</span><span class=\"p\">,</span> <span class=\"n\">extension_nodes</span><span class=\"p\">,</span> <span class=\"n\">node</span><span class=\"p\">):</span>\n",
        "    <span class=\"sd\">&quot;&quot;&quot;</span>\n",
        "<span class=\"sd\">    This function is the recursively called part of the ``ESU`` algorithm</span>\n",
        "<span class=\"sd\">    in Wernicke (2006).</span>\n",
        "<span class=\"sd\">    &quot;&quot;&quot;</span>\n",
        "    <span class=\"k\">if</span> <span class=\"nb\">len</span><span class=\"p\">(</span><span class=\"n\">subgraph_nodes</span><span class=\"p\">)</span> <span class=\"o\">==</span> <span class=\"n\">k</span><span class=\"p\">:</span>\n",
        "        <span class=\"k\">return</span> <span class=\"n\">graph</span><span class=\"o\">.</span><span class=\"n\">subgraph</span><span class=\"p\">(</span><span class=\"n\">subgraph_nodes</span><span class=\"p\">)</span>\n",
        "    \n",
        "    <span class=\"n\">all_subgraphs</span> <span class=\"o\">=</span> <span class=\"p\">[]</span>\n",
        "    <span class=\"k\">while</span> <span class=\"n\">extension_nodes</span><span class=\"p\">:</span>\n",
        "        <span class=\"c\"># remove random node w from extension_nodes</span>\n",
        "        <span class=\"n\">random_extension_node</span> <span class=\"o\">=</span> <span class=\"n\">random</span><span class=\"o\">.</span><span class=\"n\">choice</span><span class=\"p\">(</span><span class=\"nb\">list</span><span class=\"p\">(</span><span class=\"n\">extension_nodes</span><span class=\"p\">))</span>\n",
        "        <span class=\"n\">extension_nodes</span><span class=\"o\">.</span><span class=\"n\">remove</span><span class=\"p\">(</span><span class=\"n\">random_extension_node</span><span class=\"p\">)</span>\n",
        "        <span class=\"n\">exclusive_neighbors</span> <span class=\"o\">=</span> <span class=\"p\">{</span><span class=\"n\">neighbor</span> <span class=\"k\">for</span> <span class=\"n\">neighbor</span> <span class=\"ow\">in</span> <span class=\"n\">exclusive_neighborhood</span><span class=\"p\">(</span><span class=\"n\">graph</span><span class=\"p\">,</span>\n",
        "                                                                               <span class=\"n\">random_extension_node</span><span class=\"p\">,</span>\n",
        "                                                                               <span class=\"n\">subgraph_nodes</span><span class=\"p\">)</span>\n",
        "                               <span class=\"k\">if</span> <span class=\"n\">neighbor</span> <span class=\"o\">&gt;</span> <span class=\"n\">node</span><span class=\"p\">}</span>\n",
        "        <span class=\"n\">vbar_extension</span> <span class=\"o\">=</span> <span class=\"n\">extension_nodes</span> <span class=\"o\">|</span> <span class=\"n\">exclusive_neighbors</span> <span class=\"c\"># union</span>\n",
        "        <span class=\"n\">extended_subgraph_nodes</span> <span class=\"o\">=</span> <span class=\"n\">subgraph_nodes</span> <span class=\"o\">|</span> <span class=\"p\">{</span><span class=\"n\">random_extension_node</span><span class=\"p\">}</span>\n",
        "        <span class=\"n\">subgraphs</span> <span class=\"o\">=</span> <span class=\"n\">extend_subgraph</span><span class=\"p\">(</span><span class=\"n\">graph</span><span class=\"p\">,</span> <span class=\"n\">k</span><span class=\"p\">,</span> <span class=\"n\">extended_subgraph_nodes</span><span class=\"p\">,</span> <span class=\"n\">vbar_extension</span><span class=\"p\">,</span> <span class=\"n\">node</span><span class=\"p\">)</span>\n",
        "        \n",
        "        <span class=\"k\">if</span> <span class=\"nb\">isinstance</span><span class=\"p\">(</span><span class=\"n\">subgraphs</span><span class=\"p\">,</span> <span class=\"nb\">list</span><span class=\"p\">):</span>\n",
        "            <span class=\"n\">all_subgraphs</span><span class=\"o\">.</span><span class=\"n\">extend</span><span class=\"p\">(</span><span class=\"n\">subgraphs</span><span class=\"p\">)</span>\n",
        "        <span class=\"k\">else</span><span class=\"p\">:</span> <span class=\"c\"># isinstance(subgraphs, nx.Graph)</span>\n",
        "            <span class=\"n\">all_subgraphs</span><span class=\"o\">.</span><span class=\"n\">append</span><span class=\"p\">(</span><span class=\"n\">subgraphs</span><span class=\"p\">)</span>        \n",
        "    <span class=\"k\">return</span> <span class=\"n\">all_subgraphs</span>\n",
        "</pre></div>\n",
        "</body>\n",
        "</html>\n"
       ],
       "metadata": {},
       "output_type": "pyout",
       "prompt_number": 9,
       "text": [
        "<IPython.core.display.HTML at 0x7f62b823d490>"
       ]
      }
     ],
     "prompt_number": 9
    },
    {
     "cell_type": "code",
     "collapsed": false,
     "input": [
      "import os\n",
      "import networkx as nx\n",
      "from discoursegraphs.readwrite import TigerDocumentGraph\n",
      "\n",
      "TIGER_FILE = os.path.expanduser('~/corpora/potsdam-commentary-corpus-2.0.0/syntax/maz-1423.xml')\n",
      "tdg = TigerDocumentGraph(TIGER_FILE)"
     ],
     "language": "python",
     "metadata": {},
     "outputs": [],
     "prompt_number": 10
    },
    {
     "cell_type": "code",
     "collapsed": false,
     "input": [
      "tdg_digraph = nx.DiGraph(tdg)\n",
      "# nx.convert_node_labels_to_integers(tdg, first_label=1, label_attribute='node_id')\n",
      "tdg_with_in_labels = nx.convert_node_labels_to_integers(tdg_digraph, first_label=1, label_attribute='node_id')\n",
      "# enumerate_all_size_k_subgraphs(tdg_with_in_labels, 10)"
     ],
     "language": "python",
     "metadata": {},
     "outputs": [],
     "prompt_number": 11
    },
    {
     "cell_type": "code",
     "collapsed": false,
     "input": [
      "print_source(enumerate_all_subgraphs_upto_size_k)"
     ],
     "language": "python",
     "metadata": {},
     "outputs": [
      {
       "html": [
        "<!DOCTYPE html PUBLIC \"-//W3C//DTD HTML 4.01//EN\"\n",
        "   \"http://www.w3.org/TR/html4/strict.dtd\">\n",
        "\n",
        "<html>\n",
        "<head>\n",
        "  <title></title>\n",
        "  <meta http-equiv=\"content-type\" content=\"text/html; charset=None\">\n",
        "  <style type=\"text/css\">\n",
        "td.linenos { background-color: #f0f0f0; padding-right: 10px; }\n",
        "span.lineno { background-color: #f0f0f0; padding: 0 5px 0 5px; }\n",
        "pre { line-height: 125%; }\n",
        "body .hll { background-color: #ffffcc }\n",
        "body .c { color: #408080; font-style: italic } /* Comment */\n",
        "body .err { border: 1px solid #FF0000 } /* Error */\n",
        "body .k { color: #008000; font-weight: bold } /* Keyword */\n",
        "body .o { color: #666666 } /* Operator */\n",
        "body .cm { color: #408080; font-style: italic } /* Comment.Multiline */\n",
        "body .cp { color: #BC7A00 } /* Comment.Preproc */\n",
        "body .c1 { color: #408080; font-style: italic } /* Comment.Single */\n",
        "body .cs { color: #408080; font-style: italic } /* Comment.Special */\n",
        "body .gd { color: #A00000 } /* Generic.Deleted */\n",
        "body .ge { font-style: italic } /* Generic.Emph */\n",
        "body .gr { color: #FF0000 } /* Generic.Error */\n",
        "body .gh { color: #000080; font-weight: bold } /* Generic.Heading */\n",
        "body .gi { color: #00A000 } /* Generic.Inserted */\n",
        "body .go { color: #888888 } /* Generic.Output */\n",
        "body .gp { color: #000080; font-weight: bold } /* Generic.Prompt */\n",
        "body .gs { font-weight: bold } /* Generic.Strong */\n",
        "body .gu { color: #800080; font-weight: bold } /* Generic.Subheading */\n",
        "body .gt { color: #0044DD } /* Generic.Traceback */\n",
        "body .kc { color: #008000; font-weight: bold } /* Keyword.Constant */\n",
        "body .kd { color: #008000; font-weight: bold } /* Keyword.Declaration */\n",
        "body .kn { color: #008000; font-weight: bold } /* Keyword.Namespace */\n",
        "body .kp { color: #008000 } /* Keyword.Pseudo */\n",
        "body .kr { color: #008000; font-weight: bold } /* Keyword.Reserved */\n",
        "body .kt { color: #B00040 } /* Keyword.Type */\n",
        "body .m { color: #666666 } /* Literal.Number */\n",
        "body .s { color: #BA2121 } /* Literal.String */\n",
        "body .na { color: #7D9029 } /* Name.Attribute */\n",
        "body .nb { color: #008000 } /* Name.Builtin */\n",
        "body .nc { color: #0000FF; font-weight: bold } /* Name.Class */\n",
        "body .no { color: #880000 } /* Name.Constant */\n",
        "body .nd { color: #AA22FF } /* Name.Decorator */\n",
        "body .ni { color: #999999; font-weight: bold } /* Name.Entity */\n",
        "body .ne { color: #D2413A; font-weight: bold } /* Name.Exception */\n",
        "body .nf { color: #0000FF } /* Name.Function */\n",
        "body .nl { color: #A0A000 } /* Name.Label */\n",
        "body .nn { color: #0000FF; font-weight: bold } /* Name.Namespace */\n",
        "body .nt { color: #008000; font-weight: bold } /* Name.Tag */\n",
        "body .nv { color: #19177C } /* Name.Variable */\n",
        "body .ow { color: #AA22FF; font-weight: bold } /* Operator.Word */\n",
        "body .w { color: #bbbbbb } /* Text.Whitespace */\n",
        "body .mb { color: #666666 } /* Literal.Number.Bin */\n",
        "body .mf { color: #666666 } /* Literal.Number.Float */\n",
        "body .mh { color: #666666 } /* Literal.Number.Hex */\n",
        "body .mi { color: #666666 } /* Literal.Number.Integer */\n",
        "body .mo { color: #666666 } /* Literal.Number.Oct */\n",
        "body .sb { color: #BA2121 } /* Literal.String.Backtick */\n",
        "body .sc { color: #BA2121 } /* Literal.String.Char */\n",
        "body .sd { color: #BA2121; font-style: italic } /* Literal.String.Doc */\n",
        "body .s2 { color: #BA2121 } /* Literal.String.Double */\n",
        "body .se { color: #BB6622; font-weight: bold } /* Literal.String.Escape */\n",
        "body .sh { color: #BA2121 } /* Literal.String.Heredoc */\n",
        "body .si { color: #BB6688; font-weight: bold } /* Literal.String.Interpol */\n",
        "body .sx { color: #008000 } /* Literal.String.Other */\n",
        "body .sr { color: #BB6688 } /* Literal.String.Regex */\n",
        "body .s1 { color: #BA2121 } /* Literal.String.Single */\n",
        "body .ss { color: #19177C } /* Literal.String.Symbol */\n",
        "body .bp { color: #008000 } /* Name.Builtin.Pseudo */\n",
        "body .vc { color: #19177C } /* Name.Variable.Class */\n",
        "body .vg { color: #19177C } /* Name.Variable.Global */\n",
        "body .vi { color: #19177C } /* Name.Variable.Instance */\n",
        "body .il { color: #666666 } /* Literal.Number.Integer.Long */\n",
        "\n",
        "  </style>\n",
        "</head>\n",
        "<body>\n",
        "<h2></h2>\n",
        "\n",
        "<div class=\"highlight\"><pre><span class=\"k\">def</span> <span class=\"nf\">enumerate_all_subgraphs_upto_size_k</span><span class=\"p\">(</span><span class=\"n\">document_graph</span><span class=\"p\">,</span> <span class=\"n\">k</span><span class=\"p\">):</span>\n",
        "    <span class=\"sd\">&quot;&quot;&quot;</span>\n",
        "<span class=\"sd\">    returns all subgraphs of a DiscourseDocumentGraph (i.e. a MultiDiGraph)</span>\n",
        "<span class=\"sd\">    with up to k nodes.</span>\n",
        "\n",
        "<span class=\"sd\">    WARNING: This just calls ESU / enumerate_all_size_k_subgraphs() for</span>\n",
        "<span class=\"sd\">    1 ... k.</span>\n",
        "\n",
        "<span class=\"sd\">    TODO: optimize the algorithm to use the results of ESU(k-1) to calculate</span>\n",
        "<span class=\"sd\">    ESU(k).</span>\n",
        "<span class=\"sd\">    &quot;&quot;&quot;</span>\n",
        "    <span class=\"n\">document_nodes</span> <span class=\"o\">=</span> <span class=\"nb\">len</span><span class=\"p\">(</span><span class=\"n\">document_graph</span><span class=\"p\">)</span>\n",
        "    <span class=\"k\">if</span> <span class=\"n\">k</span> <span class=\"o\">&gt;</span> <span class=\"n\">document_nodes</span><span class=\"p\">:</span>\n",
        "        <span class=\"n\">k</span> <span class=\"o\">=</span> <span class=\"n\">document_nodes</span>\n",
        "\n",
        "    <span class=\"n\">all_subgraphs</span> <span class=\"o\">=</span> <span class=\"p\">[]</span>\n",
        "    <span class=\"n\">int_graph</span> <span class=\"o\">=</span> <span class=\"n\">nx</span><span class=\"o\">.</span><span class=\"n\">convert_node_labels_to_integers</span><span class=\"p\">(</span><span class=\"n\">nx</span><span class=\"o\">.</span><span class=\"n\">DiGraph</span><span class=\"p\">(</span><span class=\"n\">document_graph</span><span class=\"p\">))</span>\n",
        "    <span class=\"k\">for</span> <span class=\"n\">i</span> <span class=\"ow\">in</span> <span class=\"nb\">xrange</span><span class=\"p\">(</span><span class=\"mi\">1</span><span class=\"p\">,</span> <span class=\"n\">k</span><span class=\"o\">+</span><span class=\"mi\">1</span><span class=\"p\">):</span>\n",
        "        <span class=\"n\">size_k_subgraphs</span> <span class=\"o\">=</span> <span class=\"n\">enumerate_all_size_k_subgraphs</span><span class=\"p\">(</span><span class=\"n\">int_graph</span><span class=\"p\">,</span> <span class=\"n\">i</span><span class=\"p\">)</span>\n",
        "        <span class=\"n\">all_subgraphs</span><span class=\"o\">.</span><span class=\"n\">extend</span><span class=\"p\">(</span><span class=\"n\">size_k_subgraphs</span><span class=\"p\">)</span>\n",
        "    <span class=\"k\">return</span> <span class=\"n\">all_subgraphs</span>\n",
        "</pre></div>\n",
        "</body>\n",
        "</html>\n"
       ],
       "metadata": {},
       "output_type": "pyout",
       "prompt_number": 12,
       "text": [
        "<IPython.core.display.HTML at 0x7f62b823df90>"
       ]
      }
     ],
     "prompt_number": 12
    },
    {
     "cell_type": "code",
     "collapsed": false,
     "input": [
      "%timeit len(enumerate_all_subgraphs_upto_size_k(tdg_with_in_labels, 5))"
     ],
     "language": "python",
     "metadata": {},
     "outputs": [
      {
       "output_type": "stream",
       "stream": "stdout",
       "text": [
        "1 loops, best of 3: 1.31 s per loop\n"
       ]
      }
     ],
     "prompt_number": 13
    },
    {
     "cell_type": "code",
     "collapsed": false,
     "input": [
      "# %timeit len(enumerate_all_subgraphs_upto_size_k(tdg_with_in_labels, 10))  # 20s per loop"
     ],
     "language": "python",
     "metadata": {},
     "outputs": [],
     "prompt_number": 14
    },
    {
     "cell_type": "code",
     "collapsed": false,
     "input": [
      "from discoursegraphs import DiscourseDocumentGraph, print_dot\n",
      "from discoursegraphs.readwrite import RSTGraph, MMAXDocumentGraph"
     ],
     "language": "python",
     "metadata": {},
     "outputs": [],
     "prompt_number": 15
    },
    {
     "cell_type": "code",
     "collapsed": false,
     "input": [
      "rdg = RSTGraph(os.path.expanduser('~/corpora/potsdam-commentary-corpus-2.0.0/rst/maz-1423.rs3'))\n",
      "mdg = MMAXDocumentGraph(os.path.expanduser('~/corpora/potsdam-commentary-corpus-2.0.0/coreference/maz-1423.mmax'))"
     ],
     "language": "python",
     "metadata": {},
     "outputs": [],
     "prompt_number": 16
    },
    {
     "cell_type": "code",
     "collapsed": false,
     "input": [
      "merged_graph = DiscourseDocumentGraph()\n",
      "merged_graph.merge_graphs(tdg.copy())\n",
      "merged_graph.merge_graphs(rdg.copy())\n",
      "merged_graph.merge_graphs(mdg.copy())"
     ],
     "language": "python",
     "metadata": {},
     "outputs": [],
     "prompt_number": 17
    },
    {
     "cell_type": "markdown",
     "metadata": {},
     "source": [
      "# Speed test: enumerate all subgraphs up to size k\n",
      "\n",
      "* graph: MAZ-1423 with Syntax, RST and coreference\n",
      "* 356 nodes"
     ]
    },
    {
     "cell_type": "code",
     "collapsed": false,
     "input": [
      "%load_ext gvmagic"
     ],
     "language": "python",
     "metadata": {},
     "outputs": [],
     "prompt_number": 18
    },
    {
     "cell_type": "code",
     "collapsed": false,
     "input": [
      "# %dotstr print_dot(merged_graph)"
     ],
     "language": "python",
     "metadata": {},
     "outputs": [],
     "prompt_number": 19
    },
    {
     "cell_type": "code",
     "collapsed": false,
     "input": [
      "len(merged_graph)"
     ],
     "language": "python",
     "metadata": {},
     "outputs": [
      {
       "metadata": {},
       "output_type": "pyout",
       "prompt_number": 20,
       "text": [
        "356"
       ]
      }
     ],
     "prompt_number": 20
    },
    {
     "cell_type": "code",
     "collapsed": false,
     "input": [
      "%time len(enumerate_all_subgraphs_upto_size_k(merged_graph, 5))"
     ],
     "language": "python",
     "metadata": {},
     "outputs": [
      {
       "output_type": "stream",
       "stream": "stdout",
       "text": [
        "CPU times: user 7.04 s, sys: 324 ms, total: 7.37 s\n",
        "Wall time: 7.36 s\n"
       ]
      },
      {
       "metadata": {},
       "output_type": "pyout",
       "prompt_number": 21,
       "text": [
        "5142"
       ]
      }
     ],
     "prompt_number": 21
    },
    {
     "cell_type": "code",
     "collapsed": false,
     "input": [
      "%time len(enumerate_all_subgraphs_upto_size_k(merged_graph, 6))"
     ],
     "language": "python",
     "metadata": {},
     "outputs": [
      {
       "output_type": "stream",
       "stream": "stdout",
       "text": [
        "CPU times: user 15.6 s, sys: 145 ms, total: 15.8 s\n",
        "Wall time: 15.7 s\n"
       ]
      },
      {
       "metadata": {},
       "output_type": "pyout",
       "prompt_number": 22,
       "text": [
        "12587"
       ]
      }
     ],
     "prompt_number": 22
    },
    {
     "cell_type": "code",
     "collapsed": false,
     "input": [
      "%time len(enumerate_all_subgraphs_upto_size_k(merged_graph, 7))"
     ],
     "language": "python",
     "metadata": {},
     "outputs": [
      {
       "output_type": "stream",
       "stream": "stdout",
       "text": [
        "CPU times: user 43.2 s, sys: 622 ms, total: 43.8 s\n",
        "Wall time: 43.7 s\n"
       ]
      },
      {
       "metadata": {},
       "output_type": "pyout",
       "prompt_number": 23,
       "text": [
        "33942"
       ]
      }
     ],
     "prompt_number": 23
    },
    {
     "cell_type": "code",
     "collapsed": false,
     "input": [
      "%time len(enumerate_all_subgraphs_upto_size_k(merged_graph, 8))"
     ],
     "language": "python",
     "metadata": {},
     "outputs": [
      {
       "output_type": "stream",
       "stream": "stdout",
       "text": [
        "CPU times: user 2min 38s, sys: 1.83 s, total: 2min 39s\n",
        "Wall time: 2min 39s\n"
       ]
      },
      {
       "metadata": {},
       "output_type": "pyout",
       "prompt_number": 24,
       "text": [
        "100715"
       ]
      }
     ],
     "prompt_number": 24
    },
    {
     "cell_type": "code",
     "collapsed": false,
     "input": [
      "print_source(enumerate_all_size_k_subgraphs_parellel)"
     ],
     "language": "python",
     "metadata": {},
     "outputs": [],
     "prompt_number": 25
    },
    {
     "cell_type": "code",
     "collapsed": false,
     "input": [
      "%time _x = enumerate_all_size_k_subgraphs_parellel(tdg_with_in_labels, 10)"
     ],
     "language": "python",
     "metadata": {},
     "outputs": [
      {
       "output_type": "stream",
       "stream": "stdout",
       "text": [
        "CPU times: user 4.69 s, sys: 324 ms, total: 5.01 s\n",
        "Wall time: 8.87 s\n"
       ]
      }
     ],
     "prompt_number": 26
    },
    {
     "cell_type": "code",
     "collapsed": false,
     "input": [
      "%time _x = enumerate_all_size_k_subgraphs(tdg_with_in_labels, 5)"
     ],
     "language": "python",
     "metadata": {},
     "outputs": [
      {
       "output_type": "stream",
       "stream": "stdout",
       "text": [
        "CPU times: user 752 ms, sys: 26.7 ms, total: 779 ms\n",
        "Wall time: 744 ms\n"
       ]
      }
     ],
     "prompt_number": 27
    },
    {
     "cell_type": "code",
     "collapsed": false,
     "input": [
      "%time _x = enumerate_all_size_k_subgraphs_parellel(tdg_with_in_labels, 7)"
     ],
     "language": "python",
     "metadata": {},
     "outputs": [
      {
       "output_type": "stream",
       "stream": "stdout",
       "text": [
        "CPU times: user 3.89 s, sys: 152 ms, total: 4.04 s\n",
        "Wall time: 4.64 s\n"
       ]
      }
     ],
     "prompt_number": 28
    },
    {
     "cell_type": "code",
     "collapsed": false,
     "input": [
      "%time _x = enumerate_all_size_k_subgraphs(tdg_with_in_labels, 7)"
     ],
     "language": "python",
     "metadata": {},
     "outputs": [
      {
       "output_type": "stream",
       "stream": "stdout",
       "text": [
        "CPU times: user 2.82 s, sys: 63.7 ms, total: 2.89 s\n",
        "Wall time: 2.81 s\n"
       ]
      }
     ],
     "prompt_number": 29
    },
    {
     "cell_type": "code",
     "collapsed": false,
     "input": [
      "%time _x = enumerate_all_size_k_subgraphs_parellel(tdg_with_in_labels, 10)"
     ],
     "language": "python",
     "metadata": {},
     "outputs": [
      {
       "output_type": "stream",
       "stream": "stdout",
       "text": [
        "CPU times: user 5.27 s, sys: 352 ms, total: 5.62 s\n",
        "Wall time: 10.2 s\n"
       ]
      }
     ],
     "prompt_number": 30
    },
    {
     "cell_type": "code",
     "collapsed": false,
     "input": [
      "%time _x = enumerate_all_size_k_subgraphs(tdg_with_in_labels, 10)"
     ],
     "language": "python",
     "metadata": {},
     "outputs": [
      {
       "output_type": "stream",
       "stream": "stdout",
       "text": [
        "CPU times: user 12.3 s, sys: 144 ms, total: 12.5 s\n",
        "Wall time: 12.3 s\n"
       ]
      }
     ],
     "prompt_number": 31
    },
    {
     "cell_type": "code",
     "collapsed": false,
     "input": [
      "%time _x = enumerate_all_size_k_subgraphs_parellel(tdg_with_in_labels, 12)"
     ],
     "language": "python",
     "metadata": {},
     "outputs": [
      {
       "output_type": "stream",
       "stream": "stdout",
       "text": [
        "CPU times: user 6.81 s, sys: 467 ms, total: 7.28 s\n",
        "Wall time: 33.3 s\n"
       ]
      }
     ],
     "prompt_number": 32
    },
    {
     "cell_type": "code",
     "collapsed": false,
     "input": [
      "%time _x = enumerate_all_size_k_subgraphs(tdg_with_in_labels, 12)"
     ],
     "language": "python",
     "metadata": {},
     "outputs": [
      {
       "output_type": "stream",
       "stream": "stdout",
       "text": [
        "CPU times: user 34.8 s, sys: 351 ms, total: 35.1 s\n",
        "Wall time: 34.9 s\n"
       ]
      }
     ],
     "prompt_number": 33
    },
    {
     "cell_type": "code",
     "collapsed": false,
     "input": [
      "print_source(enumerate_all_subgraphs_upto_size_k_parallel)"
     ],
     "language": "python",
     "metadata": {},
     "outputs": [
      {
       "html": [
        "<!DOCTYPE html PUBLIC \"-//W3C//DTD HTML 4.01//EN\"\n",
        "   \"http://www.w3.org/TR/html4/strict.dtd\">\n",
        "\n",
        "<html>\n",
        "<head>\n",
        "  <title></title>\n",
        "  <meta http-equiv=\"content-type\" content=\"text/html; charset=None\">\n",
        "  <style type=\"text/css\">\n",
        "td.linenos { background-color: #f0f0f0; padding-right: 10px; }\n",
        "span.lineno { background-color: #f0f0f0; padding: 0 5px 0 5px; }\n",
        "pre { line-height: 125%; }\n",
        "body .hll { background-color: #ffffcc }\n",
        "body .c { color: #408080; font-style: italic } /* Comment */\n",
        "body .err { border: 1px solid #FF0000 } /* Error */\n",
        "body .k { color: #008000; font-weight: bold } /* Keyword */\n",
        "body .o { color: #666666 } /* Operator */\n",
        "body .cm { color: #408080; font-style: italic } /* Comment.Multiline */\n",
        "body .cp { color: #BC7A00 } /* Comment.Preproc */\n",
        "body .c1 { color: #408080; font-style: italic } /* Comment.Single */\n",
        "body .cs { color: #408080; font-style: italic } /* Comment.Special */\n",
        "body .gd { color: #A00000 } /* Generic.Deleted */\n",
        "body .ge { font-style: italic } /* Generic.Emph */\n",
        "body .gr { color: #FF0000 } /* Generic.Error */\n",
        "body .gh { color: #000080; font-weight: bold } /* Generic.Heading */\n",
        "body .gi { color: #00A000 } /* Generic.Inserted */\n",
        "body .go { color: #888888 } /* Generic.Output */\n",
        "body .gp { color: #000080; font-weight: bold } /* Generic.Prompt */\n",
        "body .gs { font-weight: bold } /* Generic.Strong */\n",
        "body .gu { color: #800080; font-weight: bold } /* Generic.Subheading */\n",
        "body .gt { color: #0044DD } /* Generic.Traceback */\n",
        "body .kc { color: #008000; font-weight: bold } /* Keyword.Constant */\n",
        "body .kd { color: #008000; font-weight: bold } /* Keyword.Declaration */\n",
        "body .kn { color: #008000; font-weight: bold } /* Keyword.Namespace */\n",
        "body .kp { color: #008000 } /* Keyword.Pseudo */\n",
        "body .kr { color: #008000; font-weight: bold } /* Keyword.Reserved */\n",
        "body .kt { color: #B00040 } /* Keyword.Type */\n",
        "body .m { color: #666666 } /* Literal.Number */\n",
        "body .s { color: #BA2121 } /* Literal.String */\n",
        "body .na { color: #7D9029 } /* Name.Attribute */\n",
        "body .nb { color: #008000 } /* Name.Builtin */\n",
        "body .nc { color: #0000FF; font-weight: bold } /* Name.Class */\n",
        "body .no { color: #880000 } /* Name.Constant */\n",
        "body .nd { color: #AA22FF } /* Name.Decorator */\n",
        "body .ni { color: #999999; font-weight: bold } /* Name.Entity */\n",
        "body .ne { color: #D2413A; font-weight: bold } /* Name.Exception */\n",
        "body .nf { color: #0000FF } /* Name.Function */\n",
        "body .nl { color: #A0A000 } /* Name.Label */\n",
        "body .nn { color: #0000FF; font-weight: bold } /* Name.Namespace */\n",
        "body .nt { color: #008000; font-weight: bold } /* Name.Tag */\n",
        "body .nv { color: #19177C } /* Name.Variable */\n",
        "body .ow { color: #AA22FF; font-weight: bold } /* Operator.Word */\n",
        "body .w { color: #bbbbbb } /* Text.Whitespace */\n",
        "body .mb { color: #666666 } /* Literal.Number.Bin */\n",
        "body .mf { color: #666666 } /* Literal.Number.Float */\n",
        "body .mh { color: #666666 } /* Literal.Number.Hex */\n",
        "body .mi { color: #666666 } /* Literal.Number.Integer */\n",
        "body .mo { color: #666666 } /* Literal.Number.Oct */\n",
        "body .sb { color: #BA2121 } /* Literal.String.Backtick */\n",
        "body .sc { color: #BA2121 } /* Literal.String.Char */\n",
        "body .sd { color: #BA2121; font-style: italic } /* Literal.String.Doc */\n",
        "body .s2 { color: #BA2121 } /* Literal.String.Double */\n",
        "body .se { color: #BB6622; font-weight: bold } /* Literal.String.Escape */\n",
        "body .sh { color: #BA2121 } /* Literal.String.Heredoc */\n",
        "body .si { color: #BB6688; font-weight: bold } /* Literal.String.Interpol */\n",
        "body .sx { color: #008000 } /* Literal.String.Other */\n",
        "body .sr { color: #BB6688 } /* Literal.String.Regex */\n",
        "body .s1 { color: #BA2121 } /* Literal.String.Single */\n",
        "body .ss { color: #19177C } /* Literal.String.Symbol */\n",
        "body .bp { color: #008000 } /* Name.Builtin.Pseudo */\n",
        "body .vc { color: #19177C } /* Name.Variable.Class */\n",
        "body .vg { color: #19177C } /* Name.Variable.Global */\n",
        "body .vi { color: #19177C } /* Name.Variable.Instance */\n",
        "body .il { color: #666666 } /* Literal.Number.Integer.Long */\n",
        "\n",
        "  </style>\n",
        "</head>\n",
        "<body>\n",
        "<h2></h2>\n",
        "\n",
        "<div class=\"highlight\"><pre><span class=\"k\">def</span> <span class=\"nf\">enumerate_all_subgraphs_upto_size_k_parallel</span><span class=\"p\">(</span><span class=\"n\">document_graph</span><span class=\"p\">,</span> <span class=\"n\">k</span><span class=\"p\">,</span> <span class=\"n\">num_of_workers</span><span class=\"o\">=</span><span class=\"mi\">4</span><span class=\"p\">):</span>\n",
        "    <span class=\"sd\">&quot;&quot;&quot;</span>\n",
        "<span class=\"sd\">    returns all subgraphs of a DiscourseDocumentGraph (i.e. a MultiDiGraph)</span>\n",
        "<span class=\"sd\">    with up to k nodes. This is a trivially parallelized version of</span>\n",
        "<span class=\"sd\">    enumerate_all_subgraphs_upto_size_k()</span>\n",
        "<span class=\"sd\">    &quot;&quot;&quot;</span>\n",
        "    <span class=\"n\">document_nodes</span> <span class=\"o\">=</span> <span class=\"nb\">len</span><span class=\"p\">(</span><span class=\"n\">document_graph</span><span class=\"p\">)</span>\n",
        "    <span class=\"k\">if</span> <span class=\"n\">k</span> <span class=\"o\">&gt;</span> <span class=\"n\">document_nodes</span><span class=\"p\">:</span>\n",
        "        <span class=\"n\">k</span> <span class=\"o\">=</span> <span class=\"n\">document_nodes</span>\n",
        "\n",
        "    <span class=\"n\">int_graph</span> <span class=\"o\">=</span> <span class=\"n\">nx</span><span class=\"o\">.</span><span class=\"n\">convert_node_labels_to_integers</span><span class=\"p\">(</span><span class=\"n\">nx</span><span class=\"o\">.</span><span class=\"n\">DiGraph</span><span class=\"p\">(</span><span class=\"n\">document_graph</span><span class=\"p\">))</span>\n",
        "    \n",
        "    <span class=\"n\">pool</span> <span class=\"o\">=</span> <span class=\"n\">Pool</span><span class=\"p\">(</span><span class=\"n\">processes</span><span class=\"o\">=</span><span class=\"n\">num_of_workers</span><span class=\"p\">)</span> <span class=\"c\"># number of CPUs</span>\n",
        "    <span class=\"n\">results</span> <span class=\"o\">=</span> <span class=\"p\">[</span><span class=\"n\">pool</span><span class=\"o\">.</span><span class=\"n\">apply_async</span><span class=\"p\">(</span><span class=\"n\">enumerate_all_size_k_subgraphs</span><span class=\"p\">,</span> <span class=\"n\">args</span><span class=\"o\">=</span><span class=\"p\">(</span><span class=\"n\">int_graph</span><span class=\"p\">,</span> <span class=\"n\">i</span><span class=\"p\">))</span>\n",
        "               <span class=\"k\">for</span> <span class=\"n\">i</span> <span class=\"ow\">in</span> <span class=\"nb\">xrange</span><span class=\"p\">(</span><span class=\"mi\">1</span><span class=\"p\">,</span> <span class=\"n\">k</span><span class=\"o\">+</span><span class=\"mi\">1</span><span class=\"p\">)]</span>\n",
        "    <span class=\"n\">pool</span><span class=\"o\">.</span><span class=\"n\">close</span><span class=\"p\">()</span>\n",
        "    <span class=\"n\">pool</span><span class=\"o\">.</span><span class=\"n\">join</span><span class=\"p\">()</span>\n",
        "    <span class=\"k\">return</span> <span class=\"p\">[</span><span class=\"n\">result</span><span class=\"o\">.</span><span class=\"n\">get</span><span class=\"p\">()</span> <span class=\"k\">for</span> <span class=\"n\">result</span> <span class=\"ow\">in</span> <span class=\"n\">results</span><span class=\"p\">]</span>\n",
        "</pre></div>\n",
        "</body>\n",
        "</html>\n"
       ],
       "metadata": {},
       "output_type": "pyout",
       "prompt_number": 2,
       "text": [
        "<IPython.core.display.HTML at 0x7f0b4439f190>"
       ]
      }
     ],
     "prompt_number": 2
    },
    {
     "cell_type": "code",
     "collapsed": false,
     "input": [
      "%time _result = enumerate_all_subgraphs_upto_size_k_parallel(merged_graph, 3)"
     ],
     "language": "python",
     "metadata": {},
     "outputs": [
      {
       "output_type": "stream",
       "stream": "stdout",
       "text": [
        "CPU times: user 120 ms, sys: 86.3 ms, total: 206 ms\n",
        "Wall time: 1.11 s\n"
       ]
      }
     ],
     "prompt_number": 35
    },
    {
     "cell_type": "code",
     "collapsed": false,
     "input": [
      "%time _result = enumerate_all_subgraphs_upto_size_k(merged_graph, 3)"
     ],
     "language": "python",
     "metadata": {},
     "outputs": [
      {
       "output_type": "stream",
       "stream": "stdout",
       "text": [
        "CPU times: user 1.32 s, sys: 84.1 ms, total: 1.4 s\n",
        "Wall time: 1.28 s\n"
       ]
      }
     ],
     "prompt_number": 36
    },
    {
     "cell_type": "code",
     "collapsed": false,
     "input": [
      "%time _result = enumerate_all_subgraphs_upto_size_k_parallel(merged_graph, 5)"
     ],
     "language": "python",
     "metadata": {},
     "outputs": [
      {
       "output_type": "stream",
       "stream": "stdout",
       "text": [
        "CPU times: user 285 ms, sys: 109 ms, total: 394 ms\n",
        "Wall time: 7.8 s\n"
       ]
      }
     ],
     "prompt_number": 37
    },
    {
     "cell_type": "code",
     "collapsed": false,
     "input": [
      "%time _result = enumerate_all_subgraphs_upto_size_k_parallel(merged_graph, 5)"
     ],
     "language": "python",
     "metadata": {},
     "outputs": [
      {
       "output_type": "stream",
       "stream": "stdout",
       "text": [
        "CPU times: user 669 ms, sys: 237 ms, total: 906 ms\n",
        "Wall time: 7.58 s\n"
       ]
      }
     ],
     "prompt_number": 38
    },
    {
     "cell_type": "code",
     "collapsed": false,
     "input": [
      "%time _result = enumerate_all_subgraphs_upto_size_k(merged_graph, 5)"
     ],
     "language": "python",
     "metadata": {},
     "outputs": [
      {
       "output_type": "stream",
       "stream": "stdout",
       "text": [
        "CPU times: user 7.9 s, sys: 77.3 ms, total: 7.98 s\n",
        "Wall time: 7.93 s\n"
       ]
      }
     ]
    },
    {
     "cell_type": "code",
     "collapsed": false,
     "input": [
      "%time _result = enumerate_all_subgraphs_upto_size_k_parallel(merged_graph, 10)"
     ],
     "language": "python",
     "metadata": {},
     "outputs": []
    },
    {
     "cell_type": "code",
     "collapsed": false,
     "input": [
      "# %time _result = enumerate_all_subgraphs_upto_size_k_naive(merged_graph, 3)"
     ],
     "language": "python",
     "metadata": {},
     "outputs": [],
     "prompt_number": 23
    },
    {
     "cell_type": "code",
     "collapsed": false,
     "input": [
      "len(merged_graph)"
     ],
     "language": "python",
     "metadata": {},
     "outputs": [
      {
       "metadata": {},
       "output_type": "pyout",
       "prompt_number": 26,
       "text": [
        "356"
       ]
      }
     ],
     "prompt_number": 26
    },
    {
     "cell_type": "code",
     "collapsed": false,
     "input": [
      "len(merged_graph) ** 3"
     ],
     "language": "python",
     "metadata": {},
     "outputs": [
      {
       "metadata": {},
       "output_type": "pyout",
       "prompt_number": 29,
       "text": [
        "45118016"
       ]
      }
     ],
     "prompt_number": 29
    },
    {
     "cell_type": "code",
     "collapsed": false,
     "input": [
      "from math import factorial\n",
      "\n",
      "def possible_combinations(num_of_elements, k):\n",
      "    # https://en.wikipedia.org/wiki/Combination\n",
      "    if k > num_of_elements:\n",
      "        return 0\n",
      "    else:\n",
      "        return factorial(num_of_elements) / ( factorial(k) * factorial((num_of_elements - k)) )"
     ],
     "language": "python",
     "metadata": {},
     "outputs": [],
     "prompt_number": 9
    },
    {
     "cell_type": "code",
     "collapsed": false,
     "input": [
      "def possible_combinations_up_to_k(num_of_elements, k):\n",
      "    assert 1 <= k <= num_of_elements\n",
      "    result = 0\n",
      "    for i in xrange(1, k+1):\n",
      "        result += possible_combinations(num_of_elements, i)\n",
      "    return result"
     ],
     "language": "python",
     "metadata": {},
     "outputs": [],
     "prompt_number": 15
    },
    {
     "cell_type": "code",
     "collapsed": false,
     "input": [
      "possible_combinations_up_to_k(356, 2)"
     ],
     "language": "python",
     "metadata": {},
     "outputs": [
      {
       "metadata": {},
       "output_type": "pyout",
       "prompt_number": 16,
       "text": [
        "63546L"
       ]
      }
     ],
     "prompt_number": 16
    },
    {
     "cell_type": "code",
     "collapsed": false,
     "input": [
      "possible_combinations_up_to_k(356, 3)"
     ],
     "language": "python",
     "metadata": {},
     "outputs": [
      {
       "metadata": {},
       "output_type": "pyout",
       "prompt_number": 17,
       "text": [
        "7519966L"
       ]
      }
     ],
     "prompt_number": 17
    },
    {
     "cell_type": "code",
     "collapsed": false,
     "input": [
      "possible_combinations_up_to_k(356, 4)"
     ],
     "language": "python",
     "metadata": {},
     "outputs": [
      {
       "metadata": {},
       "output_type": "pyout",
       "prompt_number": 18,
       "text": [
        "665549031L"
       ]
      }
     ],
     "prompt_number": 18
    },
    {
     "cell_type": "code",
     "collapsed": false,
     "input": [
      "possible_combinations_up_to_k(356, 10)"
     ],
     "language": "python",
     "metadata": {},
     "outputs": [
      {
       "metadata": {},
       "output_type": "pyout",
       "prompt_number": 20,
       "text": [
        "8165933729276215963L"
       ]
      }
     ],
     "prompt_number": 20
    },
    {
     "cell_type": "code",
     "collapsed": false,
     "input": [],
     "language": "python",
     "metadata": {},
     "outputs": []
    }
   ],
   "metadata": {}
  }
 ]
}