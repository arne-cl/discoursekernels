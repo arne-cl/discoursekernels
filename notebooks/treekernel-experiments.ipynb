{
 "metadata": {
  "name": "",
  "signature": "sha256:86eb5d6ae7324352bdb2c175517be622ef7daa4b1e504cbac71fe9294fe8b80f"
 },
 "nbformat": 3,
 "nbformat_minor": 0,
 "worksheets": [
  {
   "cells": [
    {
     "cell_type": "code",
     "collapsed": false,
     "input": [
      "# %install_ext https://raw.github.com/tkf/ipython-hierarchymagic/master/hierarchymagic.py\n",
      "# install once to plot graphviz/dot inline\n",
      "# load: %load_ext hierarchymagic\n",
      "# usage: %%dot\n",
      "\n",
      "# %load_ext hierarchymagic"
     ],
     "language": "python",
     "metadata": {},
     "outputs": [],
     "prompt_number": 1
    },
    {
     "cell_type": "code",
     "collapsed": false,
     "input": [
      "import networkx as nx\n",
      "from networkx import dfs_tree\n",
      "from discoursekernels import tree_kernel, test_tree_kernel"
     ],
     "language": "python",
     "metadata": {},
     "outputs": [],
     "prompt_number": 2
    },
    {
     "cell_type": "code",
     "collapsed": false,
     "input": [
      "tree = test_tree_kernel.example_tree()\n",
      "\n",
      "print tree.nodes()\n",
      "print tree.edges()"
     ],
     "language": "python",
     "metadata": {},
     "outputs": [
      {
       "output_type": "stream",
       "stream": "stdout",
       "text": [
        "['ate', 'N-2', 'D', 'Jeff', 'N-1', 'VP', 'S', 'apple', 'V', 'the', 'NP-1', 'NP-2']\n",
        "[('N-2', 'apple'), ('D', 'the'), ('N-1', 'Jeff'), ('VP', 'NP-2'), ('VP', 'V'), ('S', 'VP'), ('S', 'NP-1'), ('V', 'ate'), ('NP-1', 'N-1'), ('NP-2', 'N-2'), ('NP-2', 'D')]\n"
       ]
      }
     ],
     "prompt_number": 3
    },
    {
     "cell_type": "code",
     "collapsed": false,
     "input": [
      "tree_kernel.count_proper_corooted_subtrees(tree, root_node='S')"
     ],
     "language": "python",
     "metadata": {},
     "outputs": [
      {
       "metadata": {},
       "output_type": "pyout",
       "prompt_number": 4,
       "text": [
        "33"
       ]
      }
     ],
     "prompt_number": 4
    },
    {
     "cell_type": "code",
     "collapsed": false,
     "input": [
      "for source_node_id, target_node_id in nx.dfs_edges(tree, 'S'):\n",
      "    print source_node_id, tree.successors(source_node_id)"
     ],
     "language": "python",
     "metadata": {},
     "outputs": [
      {
       "output_type": "stream",
       "stream": "stdout",
       "text": [
        "S ['VP', 'NP-1']\n",
        "VP ['NP-2', 'V']\n",
        "NP-2 ['N-2', 'D']\n",
        "N-2 ['apple']\n",
        "NP-2 ['N-2', 'D']\n",
        "D ['the']\n",
        "VP ['NP-2', 'V']\n",
        "V ['ate']\n",
        "S ['VP', 'NP-1']\n",
        "NP-1 ['N-1']\n",
        "N-1 ['Jeff']\n"
       ]
      }
     ],
     "prompt_number": 5
    },
    {
     "cell_type": "code",
     "collapsed": false,
     "input": [
      "tree_kernel.get_production_rules(tree)"
     ],
     "language": "python",
     "metadata": {},
     "outputs": [
      {
       "metadata": {},
       "output_type": "pyout",
       "prompt_number": 6,
       "text": [
        "{('D', ('the',)),\n",
        " ('N-1', ('Jeff',)),\n",
        " ('N-2', ('apple',)),\n",
        " ('NP-1', ('N-1',)),\n",
        " ('NP-2', ('N-2', 'D')),\n",
        " ('S', ('VP', 'NP-1')),\n",
        " ('V', ('ate',)),\n",
        " ('VP', ('NP-2', 'V'))}"
       ]
      }
     ],
     "prompt_number": 6
    },
    {
     "cell_type": "code",
     "collapsed": false,
     "input": [
      "from networkx import write_dot\n",
      "import sys\n",
      "\n",
      "def print_dot(graph):\n",
      "    tmp_file = '/tmp/print_dot.dot'\n",
      "    tmp_file2 = '/tmp/print_dot2.dot'\n",
      "    write_dot(graph, tmp_file)\n",
      "    !(echo '%%dot' && cat $tmp_file) > $tmp_file2\n",
      "#    %load /tmp/print_dot2.dot\n",
      "    !cat /tmp/print_dot2.dot"
     ],
     "language": "python",
     "metadata": {},
     "outputs": [],
     "prompt_number": 7
    },
    {
     "cell_type": "code",
     "collapsed": false,
     "input": [
      "undirected_graph = nx.Graph(tree)\n",
      "list(nx.connected_component_subgraphs(undirected_graph))"
     ],
     "language": "python",
     "metadata": {},
     "outputs": [
      {
       "metadata": {},
       "output_type": "pyout",
       "prompt_number": 8,
       "text": [
        "[<networkx.classes.graph.Graph at 0x3072b50>]"
       ]
      }
     ],
     "prompt_number": 8
    },
    {
     "cell_type": "code",
     "collapsed": false,
     "input": [
      "# this does only find complete subtrees, not general subtrees\n",
      "\n",
      "from networkx.algorithms.traversal.depth_first_search import dfs_tree\n",
      "\n",
      "# for i, node_id in enumerate(tree.nodes_iter()):\n",
      "#     write_dot(dfs_tree(tree, node_id), '/tmp/subgraph-{}.dot'.format(i))"
     ],
     "language": "python",
     "metadata": {},
     "outputs": [],
     "prompt_number": 9
    },
    {
     "cell_type": "code",
     "collapsed": false,
     "input": [
      "for child_node in tree.nodes_iter():\n",
      "        # cf. http://stackoverflow.com/questions/7892144/subtree-with-networkx\n",
      "    child_subtree = nx.dfs_tree(tree, child_node)\n",
      "    print child_node, nx.to_edgelist(child_subtree), '\\n'"
     ],
     "language": "python",
     "metadata": {},
     "outputs": [
      {
       "output_type": "stream",
       "stream": "stdout",
       "text": [
        "ate [] \n",
        "\n",
        "N-2 [('N-2', 'apple', {})] \n",
        "\n",
        "D [('D', 'the', {})] \n",
        "\n",
        "Jeff [] \n",
        "\n",
        "N-1 [('N-1', 'Jeff', {})] \n",
        "\n",
        "VP [('N-2', 'apple', {}), ('VP', 'V', {}), ('VP', 'NP-2', {}), ('V', 'ate', {}), ('NP-2', 'N-2', {}), ('NP-2', 'D', {}), ('D', 'the', {})] \n",
        "\n",
        "S [('N-2', 'apple', {}), ('N-1', 'Jeff', {}), ('VP', 'V', {}), ('VP', 'NP-2', {}), ('S', 'VP', {}), ('S', 'NP-1', {}), ('V', 'ate', {}), ('NP-2', 'N-2', {}), ('NP-2', 'D', {}), ('NP-1', 'N-1', {}), ('D', 'the', {})] \n",
        "\n",
        "apple [] \n",
        "\n",
        "V [('V', 'ate', {})] \n",
        "\n",
        "the [] \n",
        "\n",
        "NP-1 [('NP-1', 'N-1', {}), ('N-1', 'Jeff', {})] \n",
        "\n",
        "NP-2 [('N-2', 'apple', {}), ('D', 'the', {}), ('NP-2', 'N-2', {}), ('NP-2', 'D', {})] \n",
        "\n"
       ]
      }
     ],
     "prompt_number": 10
    },
    {
     "cell_type": "code",
     "collapsed": false,
     "input": [
      "for child_node in tree.nodes_iter():\n",
      "        # cf. http://stackoverflow.com/questions/7892144/subtree-with-networkx\n",
      "    child_subtree = nx.dfs_edges(tree, child_node)\n",
      "    print tuple(child_subtree)"
     ],
     "language": "python",
     "metadata": {},
     "outputs": [
      {
       "output_type": "stream",
       "stream": "stdout",
       "text": [
        "()\n",
        "(('N-2', 'apple'),)\n",
        "(('D', 'the'),)\n",
        "()\n",
        "(('N-1', 'Jeff'),)\n",
        "(('VP', 'NP-2'), ('NP-2', 'N-2'), ('N-2', 'apple'), ('NP-2', 'D'), ('D', 'the'), ('VP', 'V'), ('V', 'ate'))\n",
        "(('S', 'VP'), ('VP', 'NP-2'), ('NP-2', 'N-2'), ('N-2', 'apple'), ('NP-2', 'D'), ('D', 'the'), ('VP', 'V'), ('V', 'ate'), ('S', 'NP-1'), ('NP-1', 'N-1'), ('N-1', 'Jeff'))\n",
        "()\n",
        "(('V', 'ate'),)\n",
        "()\n",
        "(('NP-1', 'N-1'), ('N-1', 'Jeff'))\n",
        "(('NP-2', 'N-2'), ('N-2', 'apple'), ('NP-2', 'D'), ('D', 'the'))\n"
       ]
      }
     ],
     "prompt_number": 11
    },
    {
     "cell_type": "code",
     "collapsed": false,
     "input": [
      "import itertools\n",
      "import cytoolz\n",
      "\n",
      "a = range(10)\n",
      "\n",
      "for i, elem in enumerate(a, 1):\n",
      "    print list(cytoolz.take(i, a))"
     ],
     "language": "python",
     "metadata": {},
     "outputs": [
      {
       "output_type": "stream",
       "stream": "stdout",
       "text": [
        "[0]\n",
        "[0, 1]\n",
        "[0, 1, 2]\n",
        "[0, 1, 2, 3]\n",
        "[0, 1, 2, 3, 4]\n",
        "[0, 1, 2, 3, 4, 5]\n",
        "[0, 1, 2, 3, 4, 5, 6]\n",
        "[0, 1, 2, 3, 4, 5, 6, 7]\n",
        "[0, 1, 2, 3, 4, 5, 6, 7, 8]\n",
        "[0, 1, 2, 3, 4, 5, 6, 7, 8, 9]\n"
       ]
      }
     ],
     "prompt_number": 12
    },
    {
     "cell_type": "markdown",
     "metadata": {},
     "source": [
      "# Tree Kernel (Collins and Duffy 2002)\n",
      "\n",
      "* _implicitly_ enumerate **all tree fragments** that occur in the training data (i.e. in all trees): 1, ..., n\n",
      "* each tree is represented by an _n_-dimensional vector,\n",
      "  where the _i_-th component counts how often the _i_-th tree fragment occurs\n",
      "* function $h_i(T)$ counts how often the _i_-th tree fragment occurs in tree _T_\n",
      "\n",
      "* _T_ is now represented as:\n",
      "\n",
      "$${\\bf h}(T) = (h_1(T), h_2(T), ..., h_n(T))$$\n",
      "\n",
      "* **WARNING**: n will be **huge** (number of subtrees grows exponentially)"
     ]
    },
    {
     "cell_type": "markdown",
     "metadata": {},
     "source": [
      "## How to calculate a tree kernel efficiently?\n",
      "\n",
      "* tree kernel: inner product between two Trees $T_1$ and $T_2$:\n",
      "\n",
      "$$K(T_1, T_2) = {\\bf h}(T_1) \\cdot {\\bf h}(T_2)$$\n",
      "\n",
      "* $N_1$: set of nodes in $T_1$\n",
      "* indicator function $I_i(n)$:\n",
      "\n",
      "$$\n",
      "I_i(n) =\n",
      "\\begin{cases}\n",
      "1 \\text{ if subtree is rooted at node } n & \\\\\n",
      "0 \\text{ otherwise}\n",
      "\\end{cases}\n",
      "$$"
     ]
    },
    {
     "cell_type": "markdown",
     "metadata": {},
     "source": [
      "* function $h_i(T_1)$ can now be calculated as follows:\n",
      "\n",
      "$$h_i(T_1) = \\sum_{n_1 \\in N_1} I_i(n_1)$$\n",
      "\n",
      "* which lets us calculate the inner product of two trees as follows:\n",
      "\n",
      "$$\n",
      "{\\bf h}(T_1) \\cdot {\\bf h}(T_2) = \\sum_i h_i(T_1) h_i(T_2) \\\\\n",
      "                                = \\sum_{n_1 \\in N_1} \\sum_{n_2 \\in N_2} \\sum_i I_i(n_1) I_i(n_2) \\\\\n",
      "                                = \\sum_{n_1 \\in N_1} \\sum_{n_2 \\in N_2} C(n_1, n_2)\n",
      "$$\n",
      "\n",
      "* function $C(n_1, n_2)$ simply counts the number of _common subtrees_ rooted at both $n_1$ and $n_2$ and is defined as $\\sum_i I_i(n_1) I_i(n_2)$\n",
      "\n",
      "* **NOTE**: $C(n_1, n_2)$ can be computed in polynomial time:\n",
      "\n",
      "$$C(n_1, n_2) = \n",
      "\\begin{cases}\n",
      "0 & \\text{ if the productions at } n_1 \\text{ and } n_2 \\text{ are different} & \\\\\n",
      "1 & \\text{ if the productions at } n_1 \\text{ and } n_2 \\text{ are the same and } n_1 \\text{ and } n_2 \\text{ are pre-terminals} & \\\\\n",
      "\\prod_{j=1}^{nc(n_1)}    (1 + C( ch(n_1, j), ch(n_2, j) ) & \\text{ if the productions at } n_1 \\text{ and } n_2 \\text{ are the same but } n_1 \\text{ and } n_2 \\text{ are } \\textbf{not} \\text{ pre-terminals} & \n",
      "\\end{cases}\n",
      "$$\n",
      "\n",
      "* $nc(n_1)$: number of children of $n_1$ in the tree (if the productions at $n_1$/$n_2$ are the same, they have the same number of children, as well)\n",
      "* $ch(n_1, i)$: _i_-th child of $n_1$"
     ]
    },
    {
     "cell_type": "code",
     "collapsed": false,
     "input": [
      "import networkx as nx\n",
      "from networkx import topological_sort\n",
      "from discoursekernels.tree_kernel import get_production_rules, is_leave\n",
      "\n",
      "def is_rooted_at_node(subtree, node):\n",
      "    \"\"\"\n",
      "    $I_i(n)$: Is the subtree i rooted at node n?\n",
      "    \"\"\"\n",
      "    return 1 if node == topological_sort(subtree)[0] else 0\n",
      "\n",
      "def tree_kernel_recursive(tree1, tree2):\n",
      "    common_subtrees = 0\n",
      "    for tree1_node in tree1.nodes_iter():\n",
      "        for tree2_node in tree2.nodes_iter():\n",
      "            common_subtrees += count_common_subtrees_recursive(tree1, tree2, tree1_node, tree2_node)\n",
      "    return common_subtrees\n",
      "\n",
      "\n",
      "def tree_kernel(tree1, tree2):\n",
      "    all_subtrees = generate_all_subtrees(tree1, tree2)\n",
      "    common_subtrees = 0\n",
      "    for tree1_node in tree1.nodes_iter():\n",
      "        for tree2_node in tree2.nodes_iter():\n",
      "            for subtree in all_subtrees:\n",
      "                common_subtrees += is_rooted_at_node(subtree, tree1_node) * is_rooted_at_node(subtree, tree2_node)\n",
      "    return common_subtrees\n",
      "\n",
      "\n",
      "            \n",
      "def is_preterminal(tree, node):\n",
      "    \"\"\"\n",
      "    returns True, if the given node is a preterminal in the given tree.\n",
      "    False, otherwise.\n",
      "    \"\"\"\n",
      "    if tree.out_degree(node) == 1:\n",
      "        if is_leave(tree, tree.successors(node)[0]):\n",
      "            return True\n",
      "    else:\n",
      "        return False\n",
      "\n",
      "def count_common_subtrees_recursive(tree1, tree2, n1, n2):\n",
      "    \"\"\"\n",
      "    function $C(n_1, n_2)$ simply counts the number of\n",
      "    _common subtrees_ rooted at both $n_1$ and $n_2$\n",
      "    and is defined as $\\sum_i I_i(n_1) I_i(n_2)$\n",
      "    \"\"\"\n",
      "    subtree1_rules = get_production_rules(tree1, n1)\n",
      "    subtree2_rules = get_production_rules(tree2, n2)\n",
      "\n",
      "#     if min(len(subtree1_rules), len(subtree1_rules)) < 1:\n",
      "#         # this condition isn't explicitly mentioned in Collins and Duffy (2002),\n",
      "#         # but they state that a valid subtree must have more than one node\n",
      "#         # if a subtree has no production rules, it only consists of leave nodes\n",
      "#         return 0\n",
      "\n",
      "    if subtree1_rules != subtree2_rules:\n",
      "        return 0\n",
      "    if subtree1_rules == subtree2_rules:\n",
      "        if is_preterminal(tree1, n1) and is_preterminal(tree2, n2):\n",
      "            return 1\n",
      "        else:  # productions of n1 and n2 are identical\n",
      "            result = 1  # neutral element of multiplication\n",
      "            # TODO: children or all descendants?\n",
      "            n1_children = tree1.successors(n1)\n",
      "            n2_children = tree2.successors(n2)\n",
      "            # n1/n2 have the same productions, therefore they have the same number of children\n",
      "            for i, n1_child in enumerate(n1_children):\n",
      "                result *= 1 + count_common_subtrees_recursive(tree1, tree2, n1_children[i], n2_children[i])\n",
      "            return result"
     ],
     "language": "python",
     "metadata": {},
     "outputs": [],
     "prompt_number": 38
    },
    {
     "cell_type": "code",
     "collapsed": false,
     "input": [
      "tree_kernel(tree, tree)\n"
     ],
     "language": "python",
     "metadata": {},
     "outputs": [
      {
       "metadata": {},
       "output_type": "pyout",
       "prompt_number": 14,
       "text": [
        "16"
       ]
      }
     ],
     "prompt_number": 14
    },
    {
     "cell_type": "code",
     "collapsed": false,
     "input": [
      "tree_kernel_recursive(tree, tree)"
     ],
     "language": "python",
     "metadata": {},
     "outputs": [
      {
       "metadata": {},
       "output_type": "pyout",
       "prompt_number": 15,
       "text": [
        "69"
       ]
      }
     ],
     "prompt_number": 15
    },
    {
     "cell_type": "markdown",
     "metadata": {},
     "source": [
      "## Moschitti test trees\n",
      "\n",
      "* from http://disi.unitn.it/moschitti/Tree-Kernel.htm"
     ]
    },
    {
     "cell_type": "code",
     "collapsed": false,
     "input": [
      "from IPython.display import Image"
     ],
     "language": "python",
     "metadata": {},
     "outputs": [],
     "prompt_number": 16
    },
    {
     "cell_type": "code",
     "collapsed": false,
     "input": [
      "Image('img/a-dog.png')"
     ],
     "language": "python",
     "metadata": {},
     "outputs": [
      {
       "metadata": {},
       "output_type": "pyout",
       "png": "[encoded data removed]",
       "prompt_number": 17,
       "text": [
        "<IPython.core.display.Image at 0x3072850>"
       ]
      }
     ],
     "prompt_number": 17
    },
    {
     "cell_type": "code",
     "collapsed": false,
     "input": [
      "Image('img/a-cat.png')"
     ],
     "language": "python",
     "metadata": {},
     "outputs": [
      {
       "metadata": {},
       "output_type": "pyout",
       "png": "[encoded data removed]",
       "prompt_number": 18,
       "text": [
        "<IPython.core.display.Image at 0x307cc90>"
       ]
      }
     ],
     "prompt_number": 18
    },
    {
     "cell_type": "markdown",
     "metadata": {},
     "source": [
      "3 out of 5 structures are identical, therefore the similarity is equal to 3."
     ]
    },
    {
     "cell_type": "code",
     "collapsed": false,
     "input": [
      "tree1 = nx.DiGraph()\n",
      "tree1.add_edges_from([('NP', 'D'), ('NP', 'N'), ('D', 'a'), ('N', 'dog')])\n",
      "\n",
      "tree2 = nx.DiGraph()\n",
      "tree2.add_edges_from([('NP', 'D'), ('NP', 'N'), ('D', 'a'), ('N', 'cat')])"
     ],
     "language": "python",
     "metadata": {},
     "outputs": [],
     "prompt_number": 19
    },
    {
     "cell_type": "code",
     "collapsed": false,
     "input": [
      "print tree_kernel(tree1, tree2)\n",
      "print tree_kernel_recursive(tree1, tree2)"
     ],
     "language": "python",
     "metadata": {},
     "outputs": [
      {
       "output_type": "stream",
       "stream": "stdout",
       "text": [
        "6\n",
        "5\n"
       ]
      }
     ],
     "prompt_number": 20
    },
    {
     "cell_type": "code",
     "collapsed": false,
     "input": [
      "tree3 = nx.DiGraph()\n",
      "tree3.add_edges_from([('D', 'a')])\n",
      "\n",
      "print tree_kernel(tree3, tree3)\n",
      "print tree_kernel_recursive(tree3, tree3)"
     ],
     "language": "python",
     "metadata": {},
     "outputs": [
      {
       "output_type": "stream",
       "stream": "stdout",
       "text": [
        "2\n",
        "2\n"
       ]
      }
     ],
     "prompt_number": 21
    },
    {
     "cell_type": "code",
     "collapsed": false,
     "input": [
      "def generate_all_subtrees(*trees):\n",
      "    \"\"\"\n",
      "    returns a set of all subtrees (with more than one node)\n",
      "    that occur in one of or both of the given trees.\n",
      "    \"\"\"\n",
      "    all_subtrees = set()\n",
      "    for tree in trees:\n",
      "        for node_id in tree.nodes_iter():\n",
      "            print \"node: \", node_id\n",
      "            subtree = dfs_tree(tree, node_id)\n",
      "            # acc. to Collins and Duffy (2002), a subtree must have at least two nodes\n",
      "            if len(subtree) > 1:\n",
      "                print \"subtree for node '{0}': {1}\".format(node_id, nx.to_edgelist(subtree))\n",
      "                if not any(nx.is_isomorphic(known_subtree, subtree)\n",
      "                           for known_subtree in all_subtrees):\n",
      "                    all_subtrees.add(subtree)\n",
      "    return all_subtrees"
     ],
     "language": "python",
     "metadata": {},
     "outputs": [],
     "prompt_number": 52
    },
    {
     "cell_type": "code",
     "collapsed": false,
     "input": [
      "generate_all_subtrees(tree1, tree2)"
     ],
     "language": "python",
     "metadata": {},
     "outputs": [
      {
       "output_type": "stream",
       "stream": "stdout",
       "text": [
        "node:  NP\n",
        "subtree for node 'NP': [('NP', 'D', {}), ('NP', 'N', {}), ('D', 'a', {}), ('N', 'dog', {})]\n",
        "node:  a\n",
        "node:  dog\n",
        "node:  D\n",
        "subtree for node 'D': [('D', 'a', {})]\n",
        "node:  N\n",
        "subtree for node 'N': [('N', 'dog', {})]\n",
        "node:  NP\n",
        "subtree for node 'NP': [('NP', 'D', {}), ('NP', 'N', {}), ('D', 'a', {}), ('N', 'cat', {})]\n",
        "node:  a\n",
        "node:  cat\n",
        "node:  D\n",
        "subtree for node 'D': [('D', 'a', {})]\n",
        "node:  N\n",
        "subtree for node 'N': [('N', 'cat', {})]\n"
       ]
      },
      {
       "metadata": {},
       "output_type": "pyout",
       "prompt_number": 53,
       "text": [
        "{<networkx.classes.digraph.DiGraph at 0x30f2050>,\n",
        " <networkx.classes.digraph.DiGraph at 0x30f25d0>}"
       ]
      }
     ],
     "prompt_number": 53
    },
    {
     "cell_type": "code",
     "collapsed": false,
     "input": [
      "a.nodes()"
     ],
     "language": "python",
     "metadata": {},
     "outputs": [
      {
       "metadata": {},
       "output_type": "pyout",
       "prompt_number": 30,
       "text": [
        "['a', 'D']"
       ]
      }
     ],
     "prompt_number": 30
    },
    {
     "cell_type": "code",
     "collapsed": false,
     "input": [
      "b.nodes()"
     ],
     "language": "python",
     "metadata": {},
     "outputs": [
      {
       "metadata": {},
       "output_type": "pyout",
       "prompt_number": 31,
       "text": [
        "['a', 'D']"
       ]
      }
     ],
     "prompt_number": 31
    },
    {
     "cell_type": "code",
     "collapsed": false,
     "input": [
      "a.edges()"
     ],
     "language": "python",
     "metadata": {},
     "outputs": [
      {
       "metadata": {},
       "output_type": "pyout",
       "prompt_number": 32,
       "text": [
        "[('D', 'a')]"
       ]
      }
     ],
     "prompt_number": 32
    },
    {
     "cell_type": "code",
     "collapsed": false,
     "input": [
      "b.edges()"
     ],
     "language": "python",
     "metadata": {},
     "outputs": [
      {
       "metadata": {},
       "output_type": "pyout",
       "prompt_number": 33,
       "text": [
        "[('D', 'a')]"
       ]
      }
     ],
     "prompt_number": 33
    },
    {
     "cell_type": "code",
     "collapsed": false,
     "input": [
      "import networkx as nx"
     ],
     "language": "python",
     "metadata": {},
     "outputs": [],
     "prompt_number": 34
    },
    {
     "cell_type": "code",
     "collapsed": false,
     "input": [
      "nx.is_isomorphic(a, b)"
     ],
     "language": "python",
     "metadata": {},
     "outputs": [
      {
       "metadata": {},
       "output_type": "pyout",
       "prompt_number": 35,
       "text": [
        "True"
       ]
      }
     ],
     "prompt_number": 35
    },
    {
     "cell_type": "code",
     "collapsed": false,
     "input": [
      "nx.to_edgelist(a)"
     ],
     "language": "python",
     "metadata": {},
     "outputs": [
      {
       "metadata": {},
       "output_type": "pyout",
       "prompt_number": 36,
       "text": [
        "[('D', 'a', {})]"
       ]
      }
     ],
     "prompt_number": 36
    },
    {
     "cell_type": "code",
     "collapsed": false,
     "input": [
      "tree1.to_undirected()"
     ],
     "language": "python",
     "metadata": {},
     "outputs": [
      {
       "metadata": {},
       "output_type": "pyout",
       "prompt_number": 54,
       "text": [
        "<networkx.classes.graph.Graph at 0x30f26d0>"
       ]
      }
     ],
     "prompt_number": 54
    },
    {
     "cell_type": "code",
     "collapsed": false,
     "input": [
      "list(nx.connected_components(tree1.to_undirected()))"
     ],
     "language": "python",
     "metadata": {},
     "outputs": [
      {
       "metadata": {},
       "output_type": "pyout",
       "prompt_number": 57,
       "text": [
        "[['NP', 'a', 'dog', 'D', 'N']]"
       ]
      }
     ],
     "prompt_number": 57
    },
    {
     "cell_type": "code",
     "collapsed": false,
     "input": [
      "list(nx.dfs_edges(tree1))"
     ],
     "language": "python",
     "metadata": {},
     "outputs": [
      {
       "metadata": {},
       "output_type": "pyout",
       "prompt_number": 65,
       "text": [
        "[('NP', 'D'), ('D', 'a'), ('NP', 'N'), ('N', 'dog')]"
       ]
      }
     ],
     "prompt_number": 65
    },
    {
     "cell_type": "code",
     "collapsed": false,
     "input": [
      "nx.to_edgelist(nx.bfs_tree(tree1, 'NP'))"
     ],
     "language": "python",
     "metadata": {},
     "outputs": [
      {
       "metadata": {},
       "output_type": "pyout",
       "prompt_number": 68,
       "text": [
        "[('NP', 'D', {}), ('NP', 'N', {}), ('D', 'a', {}), ('N', 'dog', {})]"
       ]
      }
     ],
     "prompt_number": 68
    },
    {
     "cell_type": "code",
     "collapsed": false,
     "input": [
      "import itertools"
     ],
     "language": "python",
     "metadata": {},
     "outputs": [],
     "prompt_number": 69
    },
    {
     "cell_type": "code",
     "collapsed": false,
     "input": [
      "itertools.combinations?"
     ],
     "language": "python",
     "metadata": {},
     "outputs": [],
     "prompt_number": 72
    },
    {
     "cell_type": "code",
     "collapsed": false,
     "input": [
      "itertools.permutations?"
     ],
     "language": "python",
     "metadata": {},
     "outputs": [],
     "prompt_number": 73
    },
    {
     "cell_type": "code",
     "collapsed": false,
     "input": [
      "\n",
      "#permutations(range(3), 2) --> (0,1), (0,2), (1,0), (1,2), (2,0), (2,1)\n",
      "#combinations(range(4), 3) --> (0,1,2), (0,1,3), (0,2,3), (1,2,3)"
     ],
     "language": "python",
     "metadata": {},
     "outputs": [],
     "prompt_number": 74
    },
    {
     "cell_type": "code",
     "collapsed": false,
     "input": [
      "list(itertools.combinations(range(4), 3))"
     ],
     "language": "python",
     "metadata": {},
     "outputs": [
      {
       "metadata": {},
       "output_type": "pyout",
       "prompt_number": 78,
       "text": [
        "[(0, 1, 2), (0, 1, 3), (0, 2, 3), (1, 2, 3)]"
       ]
      }
     ],
     "prompt_number": 78
    },
    {
     "cell_type": "code",
     "collapsed": false,
     "input": [
      "list(itertools.permutations(range(4), 3))"
     ],
     "language": "python",
     "metadata": {},
     "outputs": [
      {
       "metadata": {},
       "output_type": "pyout",
       "prompt_number": 84,
       "text": [
        "[(0, 1, 2),\n",
        " (0, 1, 3),\n",
        " (0, 2, 1),\n",
        " (0, 2, 3),\n",
        " (0, 3, 1),\n",
        " (0, 3, 2),\n",
        " (1, 0, 2),\n",
        " (1, 0, 3),\n",
        " (1, 2, 0),\n",
        " (1, 2, 3),\n",
        " (1, 3, 0),\n",
        " (1, 3, 2),\n",
        " (2, 0, 1),\n",
        " (2, 0, 3),\n",
        " (2, 1, 0),\n",
        " (2, 1, 3),\n",
        " (2, 3, 0),\n",
        " (2, 3, 1),\n",
        " (3, 0, 1),\n",
        " (3, 0, 2),\n",
        " (3, 1, 0),\n",
        " (3, 1, 2),\n",
        " (3, 2, 0),\n",
        " (3, 2, 1)]"
       ]
      }
     ],
     "prompt_number": 84
    },
    {
     "cell_type": "code",
     "collapsed": false,
     "input": [
      "range(4)"
     ],
     "language": "python",
     "metadata": {},
     "outputs": [
      {
       "metadata": {},
       "output_type": "pyout",
       "prompt_number": 82,
       "text": [
        "[0, 1, 2, 3]"
       ]
      }
     ],
     "prompt_number": 82
    },
    {
     "cell_type": "code",
     "collapsed": false,
     "input": [
      "from discoursekernels.tree_kernel import is_proper, is_subtree, contains_only_complete_productions"
     ],
     "language": "python",
     "metadata": {},
     "outputs": [],
     "prompt_number": 143
    },
    {
     "cell_type": "code",
     "collapsed": false,
     "input": [
      "def get_subtrees(tree):\n",
      "    \"\"\"\n",
      "    naively generate all subtrees of a given tree, which are valid\n",
      "    according to Collins and Duffy (2002).\n",
      "    \n",
      "    Parameters\n",
      "    ----------\n",
      "    tree : networkx.DiGraph\n",
      "    \n",
      "    Yields\n",
      "    ------\n",
      "    subtrees : generator of networkx.DiGraph\n",
      "    \"\"\"\n",
      "    for n in xrange(1, tree.number_of_nodes()+1):\n",
      "        for sub_nodes in itertools.combinations(tree.nodes(), n):\n",
      "            subgraph = tree1.subgraph(sub_nodes)\n",
      "            if nx.is_weakly_connected(subgraph):\n",
      "                if is_proper(subgraph):\n",
      "                    if contains_only_complete_productions(tree, subgraph):\n",
      "                        yield subgraph"
     ],
     "language": "python",
     "metadata": {},
     "outputs": [],
     "prompt_number": 149
    },
    {
     "cell_type": "code",
     "collapsed": false,
     "input": [
      "[s.edges() for s in get_subtrees(tree1)]"
     ],
     "language": "python",
     "metadata": {},
     "outputs": [
      {
       "metadata": {},
       "output_type": "pyout",
       "prompt_number": 153,
       "text": [
        "[[('D', 'a')],\n",
        " [('N', 'dog')],\n",
        " [('NP', 'D'), ('NP', 'N')],\n",
        " [('NP', 'D'), ('NP', 'N'), ('D', 'a')],\n",
        " [('NP', 'D'), ('NP', 'N'), ('N', 'dog')],\n",
        " [('NP', 'D'), ('NP', 'N'), ('D', 'a'), ('N', 'dog')]]"
       ]
      }
     ],
     "prompt_number": 153
    },
    {
     "cell_type": "code",
     "collapsed": false,
     "input": [],
     "language": "python",
     "metadata": {},
     "outputs": []
    }
   ],
   "metadata": {}
  }
 ]
}