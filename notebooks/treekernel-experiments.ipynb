{
 "metadata": {
  "name": "",
  "signature": "sha256:ade65a36a390a4970d4039517a6421b6d8c686e85f9db9421b17508b9eebf642"
 },
 "nbformat": 3,
 "nbformat_minor": 0,
 "worksheets": [
  {
   "cells": [
    {
     "cell_type": "code",
     "collapsed": false,
     "input": [
      "import itertools\n",
      "import networkx as nx\n",
      "from networkx import dfs_tree\n",
      "from networkx.algorithms import isomorphism as iso\n",
      "# install with: sudo pip install git+http://github.com/chebee7i/nxpd/#egg=nxpd\n",
      "from nxpd import draw\n",
      "from discoursekernels.tree import (\n",
      "    generate_all_unique_subtrees, contains_only_complete_productions,\n",
      "    get_subtrees, count_tree_fragment_occurances,\n",
      "    get_production_rules, common_subtrees,\n",
      "    tree_kernel_naive, tree_kernel_polynomial, find_all_common_subtrees_bruteforce)\n",
      "from discoursekernels.tree import (\n",
      "    is_rooted_at_node, is_leave, is_proper, is_treefragment)\n",
      "from discoursekernels.test_tree import (example_tree, tree_jeff_ate_cookies,\n",
      "                                        tree_alex_died, tree_steve_ate_bananas, tree_the_man_drank_wine,\n",
      "                                        tree_the_man_killed_the_woman, tree_fragment_alex, tree_fragment_npn,\n",
      "                                        label_nodes)"
     ],
     "language": "python",
     "metadata": {},
     "outputs": [
      {
       "output_type": "stream",
       "stream": "stdout",
       "text": [
        "Couldn't import _dotparser, loading of dot files will not be possible.\n"
       ]
      }
     ],
     "prompt_number": 1
    },
    {
     "cell_type": "code",
     "collapsed": false,
     "input": [
      "# cf. http://stackoverflow.com/questions/20665118/how-to-show-source-code-of-a-package-function-in-ipython-notebook\n",
      "def print_source(function):\n",
      "    \"\"\"For use inside an IPython notebook: given a function name, print it's source code.\"\"\"\n",
      "    from inspect import getsource\n",
      "    from pygments import highlight\n",
      "    from pygments.lexers import PythonLexer\n",
      "    from pygments.formatters import HtmlFormatter\n",
      "    from IPython.core.display import HTML\n",
      "    return HTML(highlight(getsource(function), PythonLexer(), HtmlFormatter(full=True, nobackground=True)))"
     ],
     "language": "python",
     "metadata": {},
     "outputs": [],
     "prompt_number": 2
    },
    {
     "cell_type": "markdown",
     "metadata": {},
     "source": [
      "# Tree Kernel (Collins and Duffy 2002)\n",
      "\n",
      "* first, _implicitly_ enumerate **all tree fragments** that occur in the training data (i.e. in all trees): 1, ..., n"
     ]
    },
    {
     "cell_type": "code",
     "collapsed": false,
     "input": [
      "print_source(generate_all_unique_subtrees)"
     ],
     "language": "python",
     "metadata": {},
     "outputs": [
      {
       "html": [
        "<!DOCTYPE html PUBLIC \"-//W3C//DTD HTML 4.01//EN\"\n",
        "   \"http://www.w3.org/TR/html4/strict.dtd\">\n",
        "\n",
        "<html>\n",
        "<head>\n",
        "  <title></title>\n",
        "  <meta http-equiv=\"content-type\" content=\"text/html; charset=None\">\n",
        "  <style type=\"text/css\">\n",
        "td.linenos { background-color: #f0f0f0; padding-right: 10px; }\n",
        "span.lineno { background-color: #f0f0f0; padding: 0 5px 0 5px; }\n",
        "pre { line-height: 125%; }\n",
        "body .hll { background-color: #ffffcc }\n",
        "body .c { color: #408080; font-style: italic } /* Comment */\n",
        "body .err { border: 1px solid #FF0000 } /* Error */\n",
        "body .k { color: #008000; font-weight: bold } /* Keyword */\n",
        "body .o { color: #666666 } /* Operator */\n",
        "body .cm { color: #408080; font-style: italic } /* Comment.Multiline */\n",
        "body .cp { color: #BC7A00 } /* Comment.Preproc */\n",
        "body .c1 { color: #408080; font-style: italic } /* Comment.Single */\n",
        "body .cs { color: #408080; font-style: italic } /* Comment.Special */\n",
        "body .gd { color: #A00000 } /* Generic.Deleted */\n",
        "body .ge { font-style: italic } /* Generic.Emph */\n",
        "body .gr { color: #FF0000 } /* Generic.Error */\n",
        "body .gh { color: #000080; font-weight: bold } /* Generic.Heading */\n",
        "body .gi { color: #00A000 } /* Generic.Inserted */\n",
        "body .go { color: #888888 } /* Generic.Output */\n",
        "body .gp { color: #000080; font-weight: bold } /* Generic.Prompt */\n",
        "body .gs { font-weight: bold } /* Generic.Strong */\n",
        "body .gu { color: #800080; font-weight: bold } /* Generic.Subheading */\n",
        "body .gt { color: #0044DD } /* Generic.Traceback */\n",
        "body .kc { color: #008000; font-weight: bold } /* Keyword.Constant */\n",
        "body .kd { color: #008000; font-weight: bold } /* Keyword.Declaration */\n",
        "body .kn { color: #008000; font-weight: bold } /* Keyword.Namespace */\n",
        "body .kp { color: #008000 } /* Keyword.Pseudo */\n",
        "body .kr { color: #008000; font-weight: bold } /* Keyword.Reserved */\n",
        "body .kt { color: #B00040 } /* Keyword.Type */\n",
        "body .m { color: #666666 } /* Literal.Number */\n",
        "body .s { color: #BA2121 } /* Literal.String */\n",
        "body .na { color: #7D9029 } /* Name.Attribute */\n",
        "body .nb { color: #008000 } /* Name.Builtin */\n",
        "body .nc { color: #0000FF; font-weight: bold } /* Name.Class */\n",
        "body .no { color: #880000 } /* Name.Constant */\n",
        "body .nd { color: #AA22FF } /* Name.Decorator */\n",
        "body .ni { color: #999999; font-weight: bold } /* Name.Entity */\n",
        "body .ne { color: #D2413A; font-weight: bold } /* Name.Exception */\n",
        "body .nf { color: #0000FF } /* Name.Function */\n",
        "body .nl { color: #A0A000 } /* Name.Label */\n",
        "body .nn { color: #0000FF; font-weight: bold } /* Name.Namespace */\n",
        "body .nt { color: #008000; font-weight: bold } /* Name.Tag */\n",
        "body .nv { color: #19177C } /* Name.Variable */\n",
        "body .ow { color: #AA22FF; font-weight: bold } /* Operator.Word */\n",
        "body .w { color: #bbbbbb } /* Text.Whitespace */\n",
        "body .mf { color: #666666 } /* Literal.Number.Float */\n",
        "body .mh { color: #666666 } /* Literal.Number.Hex */\n",
        "body .mi { color: #666666 } /* Literal.Number.Integer */\n",
        "body .mo { color: #666666 } /* Literal.Number.Oct */\n",
        "body .sb { color: #BA2121 } /* Literal.String.Backtick */\n",
        "body .sc { color: #BA2121 } /* Literal.String.Char */\n",
        "body .sd { color: #BA2121; font-style: italic } /* Literal.String.Doc */\n",
        "body .s2 { color: #BA2121 } /* Literal.String.Double */\n",
        "body .se { color: #BB6622; font-weight: bold } /* Literal.String.Escape */\n",
        "body .sh { color: #BA2121 } /* Literal.String.Heredoc */\n",
        "body .si { color: #BB6688; font-weight: bold } /* Literal.String.Interpol */\n",
        "body .sx { color: #008000 } /* Literal.String.Other */\n",
        "body .sr { color: #BB6688 } /* Literal.String.Regex */\n",
        "body .s1 { color: #BA2121 } /* Literal.String.Single */\n",
        "body .ss { color: #19177C } /* Literal.String.Symbol */\n",
        "body .bp { color: #008000 } /* Name.Builtin.Pseudo */\n",
        "body .vc { color: #19177C } /* Name.Variable.Class */\n",
        "body .vg { color: #19177C } /* Name.Variable.Global */\n",
        "body .vi { color: #19177C } /* Name.Variable.Instance */\n",
        "body .il { color: #666666 } /* Literal.Number.Integer.Long */\n",
        "\n",
        "  </style>\n",
        "</head>\n",
        "<body>\n",
        "<h2></h2>\n",
        "\n",
        "<div class=\"highlight\"><pre><span class=\"k\">def</span> <span class=\"nf\">generate_all_unique_subtrees</span><span class=\"p\">(</span><span class=\"o\">*</span><span class=\"n\">trees</span><span class=\"p\">):</span>\n",
        "    <span class=\"n\">node_attrib</span> <span class=\"o\">=</span> <span class=\"s\">&#39;label&#39;</span>\n",
        "    <span class=\"n\">same_node_label</span> <span class=\"o\">=</span> <span class=\"n\">iso</span><span class=\"o\">.</span><span class=\"n\">categorical_node_match</span><span class=\"p\">(</span><span class=\"n\">node_attrib</span><span class=\"p\">,</span> <span class=\"s\">&#39;&#39;</span><span class=\"p\">)</span>\n",
        "    <span class=\"k\">if</span> <span class=\"nb\">len</span><span class=\"p\">(</span><span class=\"n\">trees</span><span class=\"p\">)</span> <span class=\"o\">==</span> <span class=\"mi\">0</span><span class=\"p\">:</span>\n",
        "        <span class=\"k\">return</span> <span class=\"p\">[]</span>\n",
        "    <span class=\"k\">elif</span> <span class=\"nb\">len</span><span class=\"p\">(</span><span class=\"n\">trees</span><span class=\"p\">)</span> <span class=\"o\">==</span> <span class=\"mi\">1</span><span class=\"p\">:</span>\n",
        "        <span class=\"k\">return</span> <span class=\"nb\">list</span><span class=\"p\">(</span><span class=\"n\">get_subtrees</span><span class=\"p\">(</span><span class=\"n\">trees</span><span class=\"p\">[</span><span class=\"mi\">0</span><span class=\"p\">],</span> <span class=\"n\">node_attrib</span><span class=\"o\">=</span><span class=\"n\">node_attrib</span><span class=\"p\">))</span>\n",
        "    <span class=\"k\">else</span><span class=\"p\">:</span>\n",
        "        <span class=\"n\">unique_subtrees</span> <span class=\"o\">=</span> <span class=\"nb\">list</span><span class=\"p\">(</span><span class=\"n\">get_subtrees</span><span class=\"p\">(</span><span class=\"n\">trees</span><span class=\"p\">[</span><span class=\"mi\">0</span><span class=\"p\">],</span> <span class=\"n\">node_attrib</span><span class=\"o\">=</span><span class=\"n\">node_attrib</span><span class=\"p\">))</span>\n",
        "        <span class=\"k\">for</span> <span class=\"n\">tree</span> <span class=\"ow\">in</span> <span class=\"n\">trees</span><span class=\"p\">[</span><span class=\"mi\">1</span><span class=\"p\">:]:</span>\n",
        "            <span class=\"k\">for</span> <span class=\"n\">subtree</span> <span class=\"ow\">in</span> <span class=\"n\">get_subtrees</span><span class=\"p\">(</span><span class=\"n\">tree</span><span class=\"p\">,</span> <span class=\"n\">node_attrib</span><span class=\"o\">=</span><span class=\"n\">node_attrib</span><span class=\"p\">):</span>\n",
        "                <span class=\"c\"># match each new subtree against all subtrees already in unique_subtrees</span>\n",
        "                <span class=\"c\"># if it is not isomorphic (incl. matching node labels) to any of the existing</span>\n",
        "                <span class=\"c\"># subtrees, it will be added to the list</span>\n",
        "                <span class=\"k\">if</span> <span class=\"ow\">not</span> <span class=\"nb\">any</span><span class=\"p\">(</span><span class=\"n\">nx</span><span class=\"o\">.</span><span class=\"n\">is_isomorphic</span><span class=\"p\">(</span><span class=\"n\">new_subtree</span><span class=\"p\">,</span> <span class=\"n\">old_subtree</span><span class=\"p\">,</span> <span class=\"n\">node_match</span><span class=\"o\">=</span><span class=\"n\">same_node_label</span><span class=\"p\">)</span>\n",
        "                           <span class=\"k\">for</span> <span class=\"n\">new_subtree</span><span class=\"p\">,</span> <span class=\"n\">old_subtree</span> <span class=\"ow\">in</span> <span class=\"n\">itertools</span><span class=\"o\">.</span><span class=\"n\">product</span><span class=\"p\">([</span><span class=\"n\">subtree</span><span class=\"p\">],</span> <span class=\"n\">unique_subtrees</span><span class=\"p\">)):</span>\n",
        "                    <span class=\"n\">unique_subtrees</span><span class=\"o\">.</span><span class=\"n\">append</span><span class=\"p\">(</span><span class=\"n\">subtree</span><span class=\"p\">)</span>\n",
        "        <span class=\"k\">return</span> <span class=\"n\">unique_subtrees</span>\n",
        "</pre></div>\n",
        "</body>\n",
        "</html>\n"
       ],
       "metadata": {},
       "output_type": "pyout",
       "prompt_number": 3,
       "text": [
        "<IPython.core.display.HTML at 0x24dd1d0>"
       ]
      }
     ],
     "prompt_number": 3
    },
    {
     "cell_type": "code",
     "collapsed": false,
     "input": [
      "unique_subtrees = generate_all_unique_subtrees(tree_alex_died, tree_jeff_ate_cookies,\n",
      "                                               tree_steve_ate_bananas, tree_the_man_drank_wine)"
     ],
     "language": "python",
     "metadata": {},
     "outputs": [],
     "prompt_number": 4
    },
    {
     "cell_type": "markdown",
     "metadata": {},
     "source": [
      "* each tree is represented by an _n_-dimensional vector,\n",
      "  where the _i_-th component counts how often the _i_-th tree fragment occurs"
     ]
    },
    {
     "cell_type": "code",
     "collapsed": false,
     "input": [
      "# NOTE: this doesn't count _how often_ the i-th component occurs in the tree, but only says\n",
      "# if it occurs in the tree at all\n",
      "tree_alex_died_vector = [int(is_treefragment(tree_alex_died, ust)) for ust in unique_subtrees]"
     ],
     "language": "python",
     "metadata": {},
     "outputs": [],
     "prompt_number": 5
    },
    {
     "cell_type": "markdown",
     "metadata": {},
     "source": [
      "* function $h_i(T)$ counts how often the _i_-th tree fragment occurs in tree _T_\n",
      "\n",
      "* _T_ is now represented as:\n",
      "\n",
      "$${\\bf h}(T) = (h_1(T), h_2(T), ..., h_n(T))$$\n",
      "\n",
      "* **WARNING**: n will be **huge** (number of subtrees grows exponentially)\n",
      "\n",
      "## How to calculate a tree kernel efficiently?\n",
      "\n",
      "* tree kernel: inner product between two Trees $T_1$ and $T_2$:\n",
      "\n",
      "$$K(T_1, T_2) = {\\bf h}(T_1) \\cdot {\\bf h}(T_2)$$\n",
      "\n",
      "* $N_1$: set of nodes in $T_1$\n",
      "* indicator function $I_i(n)$:\n",
      "\n",
      "$$\n",
      "I_i(n) =\n",
      "\\begin{cases}\n",
      "1 \\text{ if subtree is rooted at node } n & \\\\\n",
      "0 \\text{ otherwise}\n",
      "\\end{cases}\n",
      "$$"
     ]
    },
    {
     "cell_type": "code",
     "collapsed": false,
     "input": [
      "print_source(is_rooted_at_node)"
     ],
     "language": "python",
     "metadata": {},
     "outputs": [
      {
       "html": [
        "<!DOCTYPE html PUBLIC \"-//W3C//DTD HTML 4.01//EN\"\n",
        "   \"http://www.w3.org/TR/html4/strict.dtd\">\n",
        "\n",
        "<html>\n",
        "<head>\n",
        "  <title></title>\n",
        "  <meta http-equiv=\"content-type\" content=\"text/html; charset=None\">\n",
        "  <style type=\"text/css\">\n",
        "td.linenos { background-color: #f0f0f0; padding-right: 10px; }\n",
        "span.lineno { background-color: #f0f0f0; padding: 0 5px 0 5px; }\n",
        "pre { line-height: 125%; }\n",
        "body .hll { background-color: #ffffcc }\n",
        "body .c { color: #408080; font-style: italic } /* Comment */\n",
        "body .err { border: 1px solid #FF0000 } /* Error */\n",
        "body .k { color: #008000; font-weight: bold } /* Keyword */\n",
        "body .o { color: #666666 } /* Operator */\n",
        "body .cm { color: #408080; font-style: italic } /* Comment.Multiline */\n",
        "body .cp { color: #BC7A00 } /* Comment.Preproc */\n",
        "body .c1 { color: #408080; font-style: italic } /* Comment.Single */\n",
        "body .cs { color: #408080; font-style: italic } /* Comment.Special */\n",
        "body .gd { color: #A00000 } /* Generic.Deleted */\n",
        "body .ge { font-style: italic } /* Generic.Emph */\n",
        "body .gr { color: #FF0000 } /* Generic.Error */\n",
        "body .gh { color: #000080; font-weight: bold } /* Generic.Heading */\n",
        "body .gi { color: #00A000 } /* Generic.Inserted */\n",
        "body .go { color: #888888 } /* Generic.Output */\n",
        "body .gp { color: #000080; font-weight: bold } /* Generic.Prompt */\n",
        "body .gs { font-weight: bold } /* Generic.Strong */\n",
        "body .gu { color: #800080; font-weight: bold } /* Generic.Subheading */\n",
        "body .gt { color: #0044DD } /* Generic.Traceback */\n",
        "body .kc { color: #008000; font-weight: bold } /* Keyword.Constant */\n",
        "body .kd { color: #008000; font-weight: bold } /* Keyword.Declaration */\n",
        "body .kn { color: #008000; font-weight: bold } /* Keyword.Namespace */\n",
        "body .kp { color: #008000 } /* Keyword.Pseudo */\n",
        "body .kr { color: #008000; font-weight: bold } /* Keyword.Reserved */\n",
        "body .kt { color: #B00040 } /* Keyword.Type */\n",
        "body .m { color: #666666 } /* Literal.Number */\n",
        "body .s { color: #BA2121 } /* Literal.String */\n",
        "body .na { color: #7D9029 } /* Name.Attribute */\n",
        "body .nb { color: #008000 } /* Name.Builtin */\n",
        "body .nc { color: #0000FF; font-weight: bold } /* Name.Class */\n",
        "body .no { color: #880000 } /* Name.Constant */\n",
        "body .nd { color: #AA22FF } /* Name.Decorator */\n",
        "body .ni { color: #999999; font-weight: bold } /* Name.Entity */\n",
        "body .ne { color: #D2413A; font-weight: bold } /* Name.Exception */\n",
        "body .nf { color: #0000FF } /* Name.Function */\n",
        "body .nl { color: #A0A000 } /* Name.Label */\n",
        "body .nn { color: #0000FF; font-weight: bold } /* Name.Namespace */\n",
        "body .nt { color: #008000; font-weight: bold } /* Name.Tag */\n",
        "body .nv { color: #19177C } /* Name.Variable */\n",
        "body .ow { color: #AA22FF; font-weight: bold } /* Operator.Word */\n",
        "body .w { color: #bbbbbb } /* Text.Whitespace */\n",
        "body .mf { color: #666666 } /* Literal.Number.Float */\n",
        "body .mh { color: #666666 } /* Literal.Number.Hex */\n",
        "body .mi { color: #666666 } /* Literal.Number.Integer */\n",
        "body .mo { color: #666666 } /* Literal.Number.Oct */\n",
        "body .sb { color: #BA2121 } /* Literal.String.Backtick */\n",
        "body .sc { color: #BA2121 } /* Literal.String.Char */\n",
        "body .sd { color: #BA2121; font-style: italic } /* Literal.String.Doc */\n",
        "body .s2 { color: #BA2121 } /* Literal.String.Double */\n",
        "body .se { color: #BB6622; font-weight: bold } /* Literal.String.Escape */\n",
        "body .sh { color: #BA2121 } /* Literal.String.Heredoc */\n",
        "body .si { color: #BB6688; font-weight: bold } /* Literal.String.Interpol */\n",
        "body .sx { color: #008000 } /* Literal.String.Other */\n",
        "body .sr { color: #BB6688 } /* Literal.String.Regex */\n",
        "body .s1 { color: #BA2121 } /* Literal.String.Single */\n",
        "body .ss { color: #19177C } /* Literal.String.Symbol */\n",
        "body .bp { color: #008000 } /* Name.Builtin.Pseudo */\n",
        "body .vc { color: #19177C } /* Name.Variable.Class */\n",
        "body .vg { color: #19177C } /* Name.Variable.Global */\n",
        "body .vi { color: #19177C } /* Name.Variable.Instance */\n",
        "body .il { color: #666666 } /* Literal.Number.Integer.Long */\n",
        "\n",
        "  </style>\n",
        "</head>\n",
        "<body>\n",
        "<h2></h2>\n",
        "\n",
        "<div class=\"highlight\"><pre><span class=\"k\">def</span> <span class=\"nf\">is_rooted_at_node</span><span class=\"p\">(</span><span class=\"n\">tree</span><span class=\"p\">,</span> <span class=\"n\">subtree</span><span class=\"p\">,</span> <span class=\"n\">tree_node</span><span class=\"p\">,</span> <span class=\"n\">node_attrib</span><span class=\"o\">=</span><span class=\"bp\">None</span><span class=\"p\">):</span>\n",
        "    <span class=\"sd\">&quot;&quot;&quot;</span>\n",
        "<span class=\"sd\">    Indicator function $I_i(n)$: Is the subtree i rooted at node n (of the tree)?</span>\n",
        "<span class=\"sd\">    </span>\n",
        "<span class=\"sd\">    Returns</span>\n",
        "<span class=\"sd\">    -------</span>\n",
        "<span class=\"sd\">    is_rooted : int</span>\n",
        "<span class=\"sd\">        Returns 1, iff all rule productions of the subtree can be found in the</span>\n",
        "<span class=\"sd\">        set of production rules of the tree (starting at node n / ``tree_node``) and</span>\n",
        "<span class=\"sd\">        iff the tree_node n and the subtree&#39;s root node are equal</span>\n",
        "<span class=\"sd\">        (same node labels if node_attrib is given, otherwise: same node IDs).</span>\n",
        "<span class=\"sd\">        Otherwise, returns 0.</span>\n",
        "<span class=\"sd\">    &quot;&quot;&quot;</span>\n",
        "    <span class=\"c\"># the root node of a tree is the first element in a topological sort of the tree</span>\n",
        "    <span class=\"n\">subtree_root_node</span> <span class=\"o\">=</span> <span class=\"n\">topological_sort</span><span class=\"p\">(</span><span class=\"n\">subtree</span><span class=\"p\">)[</span><span class=\"mi\">0</span><span class=\"p\">]</span>\n",
        "    \n",
        "    <span class=\"c\"># a subtree can only be rooted at a tree&#39;s tree_node (n),</span>\n",
        "    <span class=\"c\"># if the tree node and the subtree root node are equal</span>\n",
        "    <span class=\"k\">if</span> <span class=\"n\">node_attrib</span><span class=\"p\">:</span>\n",
        "        <span class=\"k\">if</span> <span class=\"n\">tree</span><span class=\"o\">.</span><span class=\"n\">node</span><span class=\"p\">[</span><span class=\"n\">tree_node</span><span class=\"p\">][</span><span class=\"n\">node_attrib</span><span class=\"p\">]</span> <span class=\"o\">!=</span> <span class=\"n\">subtree</span><span class=\"o\">.</span><span class=\"n\">node</span><span class=\"p\">[</span><span class=\"n\">subtree_root_node</span><span class=\"p\">][</span><span class=\"n\">node_attrib</span><span class=\"p\">]:</span>\n",
        "            <span class=\"k\">return</span> <span class=\"mi\">0</span>\n",
        "    <span class=\"k\">else</span><span class=\"p\">:</span>\n",
        "        <span class=\"k\">if</span> <span class=\"n\">tree_node</span> <span class=\"o\">!=</span> <span class=\"n\">subtree_root_node</span><span class=\"p\">:</span>\n",
        "            <span class=\"k\">return</span> <span class=\"mi\">0</span>\n",
        "\n",
        "    <span class=\"n\">tree_subtree_rules</span> <span class=\"o\">=</span> <span class=\"n\">get_production_rules</span><span class=\"p\">(</span><span class=\"n\">tree</span><span class=\"p\">,</span> <span class=\"n\">root_node</span><span class=\"o\">=</span><span class=\"n\">tree_node</span><span class=\"p\">,</span> <span class=\"n\">node_attrib</span><span class=\"o\">=</span><span class=\"n\">node_attrib</span><span class=\"p\">)</span>\n",
        "    <span class=\"n\">subtree_rules</span> <span class=\"o\">=</span> <span class=\"n\">get_production_rules</span><span class=\"p\">(</span><span class=\"n\">subtree</span><span class=\"p\">,</span> <span class=\"n\">node_attrib</span><span class=\"o\">=</span><span class=\"n\">node_attrib</span><span class=\"p\">)</span>\n",
        "    <span class=\"k\">if</span> <span class=\"nb\">all</span><span class=\"p\">(</span><span class=\"n\">st_rule</span> <span class=\"ow\">in</span> <span class=\"n\">tree_subtree_rules</span> <span class=\"k\">for</span> <span class=\"n\">st_rule</span> <span class=\"ow\">in</span> <span class=\"n\">subtree_rules</span><span class=\"p\">):</span>\n",
        "        <span class=\"k\">return</span> <span class=\"mi\">1</span>\n",
        "    <span class=\"k\">else</span><span class=\"p\">:</span>\n",
        "        <span class=\"k\">return</span> <span class=\"mi\">0</span>\n",
        "</pre></div>\n",
        "</body>\n",
        "</html>\n"
       ],
       "metadata": {},
       "output_type": "pyout",
       "prompt_number": 6,
       "text": [
        "<IPython.core.display.HTML at 0x157ab90>"
       ]
      }
     ],
     "prompt_number": 6
    },
    {
     "cell_type": "markdown",
     "metadata": {},
     "source": [
      "* function $h_i(T_1)$ can now be calculated as follows:\n",
      "\n",
      "$$h_i(T_1) = \\sum_{n_1 \\in N_1} I_i(n_1)$$"
     ]
    },
    {
     "cell_type": "code",
     "collapsed": false,
     "input": [
      "print_source(count_tree_fragment_occurances)"
     ],
     "language": "python",
     "metadata": {},
     "outputs": [
      {
       "html": [
        "<!DOCTYPE html PUBLIC \"-//W3C//DTD HTML 4.01//EN\"\n",
        "   \"http://www.w3.org/TR/html4/strict.dtd\">\n",
        "\n",
        "<html>\n",
        "<head>\n",
        "  <title></title>\n",
        "  <meta http-equiv=\"content-type\" content=\"text/html; charset=None\">\n",
        "  <style type=\"text/css\">\n",
        "td.linenos { background-color: #f0f0f0; padding-right: 10px; }\n",
        "span.lineno { background-color: #f0f0f0; padding: 0 5px 0 5px; }\n",
        "pre { line-height: 125%; }\n",
        "body .hll { background-color: #ffffcc }\n",
        "body .c { color: #408080; font-style: italic } /* Comment */\n",
        "body .err { border: 1px solid #FF0000 } /* Error */\n",
        "body .k { color: #008000; font-weight: bold } /* Keyword */\n",
        "body .o { color: #666666 } /* Operator */\n",
        "body .cm { color: #408080; font-style: italic } /* Comment.Multiline */\n",
        "body .cp { color: #BC7A00 } /* Comment.Preproc */\n",
        "body .c1 { color: #408080; font-style: italic } /* Comment.Single */\n",
        "body .cs { color: #408080; font-style: italic } /* Comment.Special */\n",
        "body .gd { color: #A00000 } /* Generic.Deleted */\n",
        "body .ge { font-style: italic } /* Generic.Emph */\n",
        "body .gr { color: #FF0000 } /* Generic.Error */\n",
        "body .gh { color: #000080; font-weight: bold } /* Generic.Heading */\n",
        "body .gi { color: #00A000 } /* Generic.Inserted */\n",
        "body .go { color: #888888 } /* Generic.Output */\n",
        "body .gp { color: #000080; font-weight: bold } /* Generic.Prompt */\n",
        "body .gs { font-weight: bold } /* Generic.Strong */\n",
        "body .gu { color: #800080; font-weight: bold } /* Generic.Subheading */\n",
        "body .gt { color: #0044DD } /* Generic.Traceback */\n",
        "body .kc { color: #008000; font-weight: bold } /* Keyword.Constant */\n",
        "body .kd { color: #008000; font-weight: bold } /* Keyword.Declaration */\n",
        "body .kn { color: #008000; font-weight: bold } /* Keyword.Namespace */\n",
        "body .kp { color: #008000 } /* Keyword.Pseudo */\n",
        "body .kr { color: #008000; font-weight: bold } /* Keyword.Reserved */\n",
        "body .kt { color: #B00040 } /* Keyword.Type */\n",
        "body .m { color: #666666 } /* Literal.Number */\n",
        "body .s { color: #BA2121 } /* Literal.String */\n",
        "body .na { color: #7D9029 } /* Name.Attribute */\n",
        "body .nb { color: #008000 } /* Name.Builtin */\n",
        "body .nc { color: #0000FF; font-weight: bold } /* Name.Class */\n",
        "body .no { color: #880000 } /* Name.Constant */\n",
        "body .nd { color: #AA22FF } /* Name.Decorator */\n",
        "body .ni { color: #999999; font-weight: bold } /* Name.Entity */\n",
        "body .ne { color: #D2413A; font-weight: bold } /* Name.Exception */\n",
        "body .nf { color: #0000FF } /* Name.Function */\n",
        "body .nl { color: #A0A000 } /* Name.Label */\n",
        "body .nn { color: #0000FF; font-weight: bold } /* Name.Namespace */\n",
        "body .nt { color: #008000; font-weight: bold } /* Name.Tag */\n",
        "body .nv { color: #19177C } /* Name.Variable */\n",
        "body .ow { color: #AA22FF; font-weight: bold } /* Operator.Word */\n",
        "body .w { color: #bbbbbb } /* Text.Whitespace */\n",
        "body .mf { color: #666666 } /* Literal.Number.Float */\n",
        "body .mh { color: #666666 } /* Literal.Number.Hex */\n",
        "body .mi { color: #666666 } /* Literal.Number.Integer */\n",
        "body .mo { color: #666666 } /* Literal.Number.Oct */\n",
        "body .sb { color: #BA2121 } /* Literal.String.Backtick */\n",
        "body .sc { color: #BA2121 } /* Literal.String.Char */\n",
        "body .sd { color: #BA2121; font-style: italic } /* Literal.String.Doc */\n",
        "body .s2 { color: #BA2121 } /* Literal.String.Double */\n",
        "body .se { color: #BB6622; font-weight: bold } /* Literal.String.Escape */\n",
        "body .sh { color: #BA2121 } /* Literal.String.Heredoc */\n",
        "body .si { color: #BB6688; font-weight: bold } /* Literal.String.Interpol */\n",
        "body .sx { color: #008000 } /* Literal.String.Other */\n",
        "body .sr { color: #BB6688 } /* Literal.String.Regex */\n",
        "body .s1 { color: #BA2121 } /* Literal.String.Single */\n",
        "body .ss { color: #19177C } /* Literal.String.Symbol */\n",
        "body .bp { color: #008000 } /* Name.Builtin.Pseudo */\n",
        "body .vc { color: #19177C } /* Name.Variable.Class */\n",
        "body .vg { color: #19177C } /* Name.Variable.Global */\n",
        "body .vi { color: #19177C } /* Name.Variable.Instance */\n",
        "body .il { color: #666666 } /* Literal.Number.Integer.Long */\n",
        "\n",
        "  </style>\n",
        "</head>\n",
        "<body>\n",
        "<h2></h2>\n",
        "\n",
        "<div class=\"highlight\"><pre><span class=\"k\">def</span> <span class=\"nf\">count_tree_fragment_occurances</span><span class=\"p\">(</span><span class=\"n\">tree</span><span class=\"p\">,</span> <span class=\"n\">subtree</span><span class=\"p\">,</span> <span class=\"n\">node_attrib</span><span class=\"o\">=</span><span class=\"s\">&#39;label&#39;</span><span class=\"p\">):</span>\n",
        "    <span class=\"sd\">&quot;&quot;&quot;</span>\n",
        "<span class=\"sd\">    $h_i(T_1)$ : how often does subtree i occur in Tree 1?</span>\n",
        "<span class=\"sd\">    &quot;&quot;&quot;</span>\n",
        "    <span class=\"n\">counter</span> <span class=\"o\">=</span> <span class=\"mi\">0</span>\n",
        "    <span class=\"k\">for</span> <span class=\"n\">node</span> <span class=\"ow\">in</span> <span class=\"n\">tree</span><span class=\"o\">.</span><span class=\"n\">nodes_iter</span><span class=\"p\">():</span>\n",
        "        <span class=\"c\"># is_rooted() returns one if the productions of the subtree and</span>\n",
        "        <span class=\"c\"># the productions of the tree (beginning at &quot;node&quot;) are the same</span>\n",
        "        <span class=\"n\">counter</span> <span class=\"o\">+=</span> <span class=\"n\">is_rooted_at_node</span><span class=\"p\">(</span><span class=\"n\">tree</span><span class=\"p\">,</span> <span class=\"n\">subtree</span><span class=\"p\">,</span> <span class=\"n\">tree_node</span><span class=\"o\">=</span><span class=\"n\">node</span><span class=\"p\">,</span>\n",
        "                                     <span class=\"n\">node_attrib</span><span class=\"o\">=</span><span class=\"n\">node_attrib</span><span class=\"p\">)</span>\n",
        "    <span class=\"k\">return</span> <span class=\"n\">counter</span>\n",
        "</pre></div>\n",
        "</body>\n",
        "</html>\n"
       ],
       "metadata": {},
       "output_type": "pyout",
       "prompt_number": 7,
       "text": [
        "<IPython.core.display.HTML at 0x157add0>"
       ]
      }
     ],
     "prompt_number": 7
    },
    {
     "cell_type": "code",
     "collapsed": false,
     "input": [
      "count_tree_fragment_occurances(tree_alex_died, tree_alex_died)"
     ],
     "language": "python",
     "metadata": {},
     "outputs": [
      {
       "metadata": {},
       "output_type": "pyout",
       "prompt_number": 8,
       "text": [
        "1"
       ]
      }
     ],
     "prompt_number": 8
    },
    {
     "cell_type": "markdown",
     "metadata": {},
     "source": [
      "## calculate how often the fragment 'NP->D N' occurs in 'the man kills the woman'"
     ]
    },
    {
     "cell_type": "code",
     "collapsed": false,
     "input": [
      "npdn = nx.DiGraph()\n",
      "npdn.add_nodes_from(label_nodes([ (1, 'NP'), (2, 'D'), (3, 'N') ]))\n",
      "npdn.add_edges_from([ (1, 2), (1, 3) ])"
     ],
     "language": "python",
     "metadata": {},
     "outputs": [],
     "prompt_number": 9
    },
    {
     "cell_type": "code",
     "collapsed": false,
     "input": [
      "count_tree_fragment_occurances(tree=tree_the_man_drank_wine, subtree=npdn)"
     ],
     "language": "python",
     "metadata": {},
     "outputs": [
      {
       "metadata": {},
       "output_type": "pyout",
       "prompt_number": 10,
       "text": [
        "1"
       ]
      }
     ],
     "prompt_number": 10
    },
    {
     "cell_type": "code",
     "collapsed": false,
     "input": [
      "count_tree_fragment_occurances(tree=tree_the_man_killed_the_woman, subtree=npdn)"
     ],
     "language": "python",
     "metadata": {},
     "outputs": [
      {
       "metadata": {},
       "output_type": "pyout",
       "prompt_number": 11,
       "text": [
        "2"
       ]
      }
     ],
     "prompt_number": 11
    },
    {
     "cell_type": "markdown",
     "metadata": {},
     "source": [
      "* which lets us calculate the inner product of two trees as follows:\n",
      "\n",
      "$$\n",
      "{\\bf h}(T_1) \\cdot {\\bf h}(T_2) = \\sum_i h_i(T_1) h_i(T_2) \\\\\n",
      "                                = \\sum_{n_1 \\in N_1} \\sum_{n_2 \\in N_2} \\sum_i I_i(n_1) I_i(n_2) \\\\\n",
      "                                = \\sum_{n_1 \\in N_1} \\sum_{n_2 \\in N_2} C(n_1, n_2)\n",
      "$$\n",
      "\n",
      "* function $C(n_1, n_2)$ simply counts the number of _common subtrees_ rooted at both $n_1$ and $n_2$ and is defined as $\\sum_i I_i(n_1) I_i(n_2)$\n",
      "\n",
      "* **NOTE**: $C(n_1, n_2)$ can be computed in polynomial time:\n",
      "\n",
      "$$C(n_1, n_2) = \n",
      "\\begin{cases}\n",
      "0 & \\text{ if the productions at } n_1 \\text{ and } n_2 \\text{ are different} & \\\\\n",
      "1 & \\text{ if the productions at } n_1 \\text{ and } n_2 \\text{ are the same and } n_1 \\text{ and } n_2 \\text{ are pre-terminals} & \\\\\n",
      "\\prod_{j=1}^{nc(n_1)}    (1 + C( ch(n_1, j), ch(n_2, j) ) & \\text{ if the productions at } n_1 \\text{ and } n_2 \\text{ are the same but } n_1 \\text{ and } n_2 \\text{ are } \\textbf{not} \\text{ pre-terminals} & \n",
      "\\end{cases}\n",
      "$$\n",
      "\n",
      "* $nc(n_1)$: number of children of $n_1$ in the tree (if the productions at $n_1$/$n_2$ are the same, they have the same number of children, as well)\n",
      "* $ch(n_1, i)$: _i_-th child of $n_1$"
     ]
    },
    {
     "cell_type": "code",
     "collapsed": false,
     "input": [
      "print_source(common_subtrees)"
     ],
     "language": "python",
     "metadata": {},
     "outputs": [
      {
       "html": [
        "<!DOCTYPE html PUBLIC \"-//W3C//DTD HTML 4.01//EN\"\n",
        "   \"http://www.w3.org/TR/html4/strict.dtd\">\n",
        "\n",
        "<html>\n",
        "<head>\n",
        "  <title></title>\n",
        "  <meta http-equiv=\"content-type\" content=\"text/html; charset=None\">\n",
        "  <style type=\"text/css\">\n",
        "td.linenos { background-color: #f0f0f0; padding-right: 10px; }\n",
        "span.lineno { background-color: #f0f0f0; padding: 0 5px 0 5px; }\n",
        "pre { line-height: 125%; }\n",
        "body .hll { background-color: #ffffcc }\n",
        "body .c { color: #408080; font-style: italic } /* Comment */\n",
        "body .err { border: 1px solid #FF0000 } /* Error */\n",
        "body .k { color: #008000; font-weight: bold } /* Keyword */\n",
        "body .o { color: #666666 } /* Operator */\n",
        "body .cm { color: #408080; font-style: italic } /* Comment.Multiline */\n",
        "body .cp { color: #BC7A00 } /* Comment.Preproc */\n",
        "body .c1 { color: #408080; font-style: italic } /* Comment.Single */\n",
        "body .cs { color: #408080; font-style: italic } /* Comment.Special */\n",
        "body .gd { color: #A00000 } /* Generic.Deleted */\n",
        "body .ge { font-style: italic } /* Generic.Emph */\n",
        "body .gr { color: #FF0000 } /* Generic.Error */\n",
        "body .gh { color: #000080; font-weight: bold } /* Generic.Heading */\n",
        "body .gi { color: #00A000 } /* Generic.Inserted */\n",
        "body .go { color: #888888 } /* Generic.Output */\n",
        "body .gp { color: #000080; font-weight: bold } /* Generic.Prompt */\n",
        "body .gs { font-weight: bold } /* Generic.Strong */\n",
        "body .gu { color: #800080; font-weight: bold } /* Generic.Subheading */\n",
        "body .gt { color: #0044DD } /* Generic.Traceback */\n",
        "body .kc { color: #008000; font-weight: bold } /* Keyword.Constant */\n",
        "body .kd { color: #008000; font-weight: bold } /* Keyword.Declaration */\n",
        "body .kn { color: #008000; font-weight: bold } /* Keyword.Namespace */\n",
        "body .kp { color: #008000 } /* Keyword.Pseudo */\n",
        "body .kr { color: #008000; font-weight: bold } /* Keyword.Reserved */\n",
        "body .kt { color: #B00040 } /* Keyword.Type */\n",
        "body .m { color: #666666 } /* Literal.Number */\n",
        "body .s { color: #BA2121 } /* Literal.String */\n",
        "body .na { color: #7D9029 } /* Name.Attribute */\n",
        "body .nb { color: #008000 } /* Name.Builtin */\n",
        "body .nc { color: #0000FF; font-weight: bold } /* Name.Class */\n",
        "body .no { color: #880000 } /* Name.Constant */\n",
        "body .nd { color: #AA22FF } /* Name.Decorator */\n",
        "body .ni { color: #999999; font-weight: bold } /* Name.Entity */\n",
        "body .ne { color: #D2413A; font-weight: bold } /* Name.Exception */\n",
        "body .nf { color: #0000FF } /* Name.Function */\n",
        "body .nl { color: #A0A000 } /* Name.Label */\n",
        "body .nn { color: #0000FF; font-weight: bold } /* Name.Namespace */\n",
        "body .nt { color: #008000; font-weight: bold } /* Name.Tag */\n",
        "body .nv { color: #19177C } /* Name.Variable */\n",
        "body .ow { color: #AA22FF; font-weight: bold } /* Operator.Word */\n",
        "body .w { color: #bbbbbb } /* Text.Whitespace */\n",
        "body .mf { color: #666666 } /* Literal.Number.Float */\n",
        "body .mh { color: #666666 } /* Literal.Number.Hex */\n",
        "body .mi { color: #666666 } /* Literal.Number.Integer */\n",
        "body .mo { color: #666666 } /* Literal.Number.Oct */\n",
        "body .sb { color: #BA2121 } /* Literal.String.Backtick */\n",
        "body .sc { color: #BA2121 } /* Literal.String.Char */\n",
        "body .sd { color: #BA2121; font-style: italic } /* Literal.String.Doc */\n",
        "body .s2 { color: #BA2121 } /* Literal.String.Double */\n",
        "body .se { color: #BB6622; font-weight: bold } /* Literal.String.Escape */\n",
        "body .sh { color: #BA2121 } /* Literal.String.Heredoc */\n",
        "body .si { color: #BB6688; font-weight: bold } /* Literal.String.Interpol */\n",
        "body .sx { color: #008000 } /* Literal.String.Other */\n",
        "body .sr { color: #BB6688 } /* Literal.String.Regex */\n",
        "body .s1 { color: #BA2121 } /* Literal.String.Single */\n",
        "body .ss { color: #19177C } /* Literal.String.Symbol */\n",
        "body .bp { color: #008000 } /* Name.Builtin.Pseudo */\n",
        "body .vc { color: #19177C } /* Name.Variable.Class */\n",
        "body .vg { color: #19177C } /* Name.Variable.Global */\n",
        "body .vi { color: #19177C } /* Name.Variable.Instance */\n",
        "body .il { color: #666666 } /* Literal.Number.Integer.Long */\n",
        "\n",
        "  </style>\n",
        "</head>\n",
        "<body>\n",
        "<h2></h2>\n",
        "\n",
        "<div class=\"highlight\"><pre><span class=\"k\">def</span> <span class=\"nf\">common_subtrees</span><span class=\"p\">(</span><span class=\"n\">tree1</span><span class=\"p\">,</span> <span class=\"n\">tree2</span><span class=\"p\">,</span> <span class=\"n\">n1</span><span class=\"p\">,</span> <span class=\"n\">n2</span><span class=\"p\">,</span> <span class=\"n\">node_attrib</span><span class=\"o\">=</span><span class=\"s\">&#39;label&#39;</span><span class=\"p\">):</span>\n",
        "    <span class=\"sd\">&quot;&quot;&quot;</span>\n",
        "<span class=\"sd\">    function $C(n_1, n_2)$ simply counts the number of</span>\n",
        "<span class=\"sd\">    _common subtrees_ rooted at both $n_1$ and $n_2$</span>\n",
        "<span class=\"sd\">    and is defined as $\\sum_i I_i(n_1) I_i(n_2)$</span>\n",
        "<span class=\"sd\">    &quot;&quot;&quot;</span>\n",
        "    <span class=\"n\">n1_rules</span> <span class=\"o\">=</span> <span class=\"n\">get_production_rules</span><span class=\"p\">(</span><span class=\"n\">tree1</span><span class=\"p\">,</span> <span class=\"n\">n1</span><span class=\"p\">,</span> <span class=\"n\">node_attrib</span><span class=\"o\">=</span><span class=\"n\">node_attrib</span><span class=\"p\">)</span>\n",
        "    <span class=\"n\">n2_rules</span> <span class=\"o\">=</span> <span class=\"n\">get_production_rules</span><span class=\"p\">(</span><span class=\"n\">tree2</span><span class=\"p\">,</span> <span class=\"n\">n2</span><span class=\"p\">,</span> <span class=\"n\">node_attrib</span><span class=\"o\">=</span><span class=\"n\">node_attrib</span><span class=\"p\">)</span>\n",
        "    \n",
        "    <span class=\"k\">if</span> <span class=\"nb\">min</span><span class=\"p\">(</span><span class=\"nb\">len</span><span class=\"p\">(</span><span class=\"n\">n1_rules</span><span class=\"p\">),</span> <span class=\"nb\">len</span><span class=\"p\">(</span><span class=\"n\">n2_rules</span><span class=\"p\">))</span> <span class=\"o\">&lt;</span> <span class=\"mi\">1</span><span class=\"p\">:</span>\n",
        "        <span class=\"c\"># this condition isn&#39;t explicitly mentioned in Collins and Duffy (2001),</span>\n",
        "        <span class=\"c\"># but they state that a valid subtree must have more than one node</span>\n",
        "        <span class=\"c\"># if a subtree has no production rules, it only consists of leave nodes</span>\n",
        "        <span class=\"k\">return</span> <span class=\"mi\">0</span>\n",
        "    \n",
        "    <span class=\"k\">if</span> <span class=\"n\">n1_rules</span> <span class=\"o\">!=</span> <span class=\"n\">n2_rules</span><span class=\"p\">:</span>\n",
        "        <span class=\"k\">return</span> <span class=\"mi\">0</span>\n",
        "    <span class=\"k\">else</span><span class=\"p\">:</span>  <span class=\"c\"># n1_rules == n2_rules</span>\n",
        "        <span class=\"k\">if</span> <span class=\"n\">is_preterminal</span><span class=\"p\">(</span><span class=\"n\">tree1</span><span class=\"p\">,</span> <span class=\"n\">n1</span><span class=\"p\">)</span> <span class=\"ow\">and</span> <span class=\"n\">is_preterminal</span><span class=\"p\">(</span><span class=\"n\">tree2</span><span class=\"p\">,</span> <span class=\"n\">n2</span><span class=\"p\">):</span>\n",
        "            <span class=\"k\">return</span> <span class=\"mi\">1</span>\n",
        "        <span class=\"k\">else</span><span class=\"p\">:</span>  <span class=\"c\"># n1 and/or n2 aren&#39;t preterminals</span>\n",
        "            <span class=\"n\">n1_children</span> <span class=\"o\">=</span> <span class=\"n\">tree1</span><span class=\"o\">.</span><span class=\"n\">successors</span><span class=\"p\">(</span><span class=\"n\">n1</span><span class=\"p\">)</span>\n",
        "            <span class=\"n\">n2_children</span> <span class=\"o\">=</span> <span class=\"n\">tree1</span><span class=\"o\">.</span><span class=\"n\">successors</span><span class=\"p\">(</span><span class=\"n\">n2</span><span class=\"p\">)</span>\n",
        "            <span class=\"k\">assert</span> <span class=\"nb\">len</span><span class=\"p\">(</span><span class=\"n\">n1_children</span><span class=\"p\">)</span> <span class=\"o\">==</span> <span class=\"nb\">len</span><span class=\"p\">(</span><span class=\"n\">n2_children</span><span class=\"p\">)</span>\n",
        "            <span class=\"n\">result</span> <span class=\"o\">=</span> <span class=\"mi\">1</span>  <span class=\"c\"># neutral element of multiplication</span>\n",
        "            <span class=\"k\">for</span> <span class=\"n\">j</span><span class=\"p\">,</span> <span class=\"n\">n1_child_node</span> <span class=\"ow\">in</span> <span class=\"nb\">enumerate</span><span class=\"p\">(</span><span class=\"n\">n1_children</span><span class=\"p\">):</span>\n",
        "                <span class=\"n\">result</span> <span class=\"o\">*=</span> <span class=\"mi\">1</span> <span class=\"o\">+</span> <span class=\"n\">common_subtrees</span><span class=\"p\">(</span><span class=\"n\">tree1</span><span class=\"p\">,</span> <span class=\"n\">tree2</span><span class=\"p\">,</span> <span class=\"n\">n1_child_node</span><span class=\"p\">,</span> <span class=\"n\">n2_children</span><span class=\"p\">[</span><span class=\"n\">j</span><span class=\"p\">])</span>\n",
        "            <span class=\"k\">return</span> <span class=\"n\">result</span>\n",
        "</pre></div>\n",
        "</body>\n",
        "</html>\n"
       ],
       "metadata": {},
       "output_type": "pyout",
       "prompt_number": 12,
       "text": [
        "<IPython.core.display.HTML at 0x2524c10>"
       ]
      }
     ],
     "prompt_number": 12
    },
    {
     "cell_type": "markdown",
     "metadata": {},
     "source": [
      "# Calculating a kernel between two trees"
     ]
    },
    {
     "cell_type": "code",
     "collapsed": false,
     "input": [
      "print_source(tree_kernel_naive)"
     ],
     "language": "python",
     "metadata": {},
     "outputs": [
      {
       "html": [
        "<!DOCTYPE html PUBLIC \"-//W3C//DTD HTML 4.01//EN\"\n",
        "   \"http://www.w3.org/TR/html4/strict.dtd\">\n",
        "\n",
        "<html>\n",
        "<head>\n",
        "  <title></title>\n",
        "  <meta http-equiv=\"content-type\" content=\"text/html; charset=None\">\n",
        "  <style type=\"text/css\">\n",
        "td.linenos { background-color: #f0f0f0; padding-right: 10px; }\n",
        "span.lineno { background-color: #f0f0f0; padding: 0 5px 0 5px; }\n",
        "pre { line-height: 125%; }\n",
        "body .hll { background-color: #ffffcc }\n",
        "body .c { color: #408080; font-style: italic } /* Comment */\n",
        "body .err { border: 1px solid #FF0000 } /* Error */\n",
        "body .k { color: #008000; font-weight: bold } /* Keyword */\n",
        "body .o { color: #666666 } /* Operator */\n",
        "body .cm { color: #408080; font-style: italic } /* Comment.Multiline */\n",
        "body .cp { color: #BC7A00 } /* Comment.Preproc */\n",
        "body .c1 { color: #408080; font-style: italic } /* Comment.Single */\n",
        "body .cs { color: #408080; font-style: italic } /* Comment.Special */\n",
        "body .gd { color: #A00000 } /* Generic.Deleted */\n",
        "body .ge { font-style: italic } /* Generic.Emph */\n",
        "body .gr { color: #FF0000 } /* Generic.Error */\n",
        "body .gh { color: #000080; font-weight: bold } /* Generic.Heading */\n",
        "body .gi { color: #00A000 } /* Generic.Inserted */\n",
        "body .go { color: #888888 } /* Generic.Output */\n",
        "body .gp { color: #000080; font-weight: bold } /* Generic.Prompt */\n",
        "body .gs { font-weight: bold } /* Generic.Strong */\n",
        "body .gu { color: #800080; font-weight: bold } /* Generic.Subheading */\n",
        "body .gt { color: #0044DD } /* Generic.Traceback */\n",
        "body .kc { color: #008000; font-weight: bold } /* Keyword.Constant */\n",
        "body .kd { color: #008000; font-weight: bold } /* Keyword.Declaration */\n",
        "body .kn { color: #008000; font-weight: bold } /* Keyword.Namespace */\n",
        "body .kp { color: #008000 } /* Keyword.Pseudo */\n",
        "body .kr { color: #008000; font-weight: bold } /* Keyword.Reserved */\n",
        "body .kt { color: #B00040 } /* Keyword.Type */\n",
        "body .m { color: #666666 } /* Literal.Number */\n",
        "body .s { color: #BA2121 } /* Literal.String */\n",
        "body .na { color: #7D9029 } /* Name.Attribute */\n",
        "body .nb { color: #008000 } /* Name.Builtin */\n",
        "body .nc { color: #0000FF; font-weight: bold } /* Name.Class */\n",
        "body .no { color: #880000 } /* Name.Constant */\n",
        "body .nd { color: #AA22FF } /* Name.Decorator */\n",
        "body .ni { color: #999999; font-weight: bold } /* Name.Entity */\n",
        "body .ne { color: #D2413A; font-weight: bold } /* Name.Exception */\n",
        "body .nf { color: #0000FF } /* Name.Function */\n",
        "body .nl { color: #A0A000 } /* Name.Label */\n",
        "body .nn { color: #0000FF; font-weight: bold } /* Name.Namespace */\n",
        "body .nt { color: #008000; font-weight: bold } /* Name.Tag */\n",
        "body .nv { color: #19177C } /* Name.Variable */\n",
        "body .ow { color: #AA22FF; font-weight: bold } /* Operator.Word */\n",
        "body .w { color: #bbbbbb } /* Text.Whitespace */\n",
        "body .mf { color: #666666 } /* Literal.Number.Float */\n",
        "body .mh { color: #666666 } /* Literal.Number.Hex */\n",
        "body .mi { color: #666666 } /* Literal.Number.Integer */\n",
        "body .mo { color: #666666 } /* Literal.Number.Oct */\n",
        "body .sb { color: #BA2121 } /* Literal.String.Backtick */\n",
        "body .sc { color: #BA2121 } /* Literal.String.Char */\n",
        "body .sd { color: #BA2121; font-style: italic } /* Literal.String.Doc */\n",
        "body .s2 { color: #BA2121 } /* Literal.String.Double */\n",
        "body .se { color: #BB6622; font-weight: bold } /* Literal.String.Escape */\n",
        "body .sh { color: #BA2121 } /* Literal.String.Heredoc */\n",
        "body .si { color: #BB6688; font-weight: bold } /* Literal.String.Interpol */\n",
        "body .sx { color: #008000 } /* Literal.String.Other */\n",
        "body .sr { color: #BB6688 } /* Literal.String.Regex */\n",
        "body .s1 { color: #BA2121 } /* Literal.String.Single */\n",
        "body .ss { color: #19177C } /* Literal.String.Symbol */\n",
        "body .bp { color: #008000 } /* Name.Builtin.Pseudo */\n",
        "body .vc { color: #19177C } /* Name.Variable.Class */\n",
        "body .vg { color: #19177C } /* Name.Variable.Global */\n",
        "body .vi { color: #19177C } /* Name.Variable.Instance */\n",
        "body .il { color: #666666 } /* Literal.Number.Integer.Long */\n",
        "\n",
        "  </style>\n",
        "</head>\n",
        "<body>\n",
        "<h2></h2>\n",
        "\n",
        "<div class=\"highlight\"><pre><span class=\"k\">def</span> <span class=\"nf\">tree_kernel_naive</span><span class=\"p\">(</span><span class=\"n\">tree1</span><span class=\"p\">,</span> <span class=\"n\">tree2</span><span class=\"p\">,</span> <span class=\"n\">node_attrib</span><span class=\"o\">=</span><span class=\"s\">&#39;label&#39;</span><span class=\"p\">):</span>\n",
        "    <span class=\"sd\">&quot;&quot;&quot;</span>\n",
        "<span class=\"sd\">    \\sum_{n_1 \\in N_1} \\sum_{n_2 \\in N_2} \\sum_i I_i(n_1) I_i(n_2)</span>\n",
        "<span class=\"sd\">    &quot;&quot;&quot;</span>\n",
        "    <span class=\"n\">all_subtrees</span> <span class=\"o\">=</span> <span class=\"n\">generate_all_unique_subtrees</span><span class=\"p\">(</span><span class=\"n\">tree1</span><span class=\"p\">,</span> <span class=\"n\">tree2</span><span class=\"p\">)</span>\n",
        "    <span class=\"n\">common_sts</span> <span class=\"o\">=</span> <span class=\"mi\">0</span>\n",
        "    <span class=\"k\">for</span> <span class=\"n\">tree1_node</span> <span class=\"ow\">in</span> <span class=\"n\">tree1</span><span class=\"o\">.</span><span class=\"n\">nodes_iter</span><span class=\"p\">():</span>\n",
        "        <span class=\"k\">for</span> <span class=\"n\">tree2_node</span> <span class=\"ow\">in</span> <span class=\"n\">tree2</span><span class=\"o\">.</span><span class=\"n\">nodes_iter</span><span class=\"p\">():</span>\n",
        "            <span class=\"k\">for</span> <span class=\"n\">subtree</span> <span class=\"ow\">in</span> <span class=\"n\">all_subtrees</span><span class=\"p\">:</span>\n",
        "                <span class=\"n\">common_sts</span> <span class=\"o\">+=</span> <span class=\"n\">is_rooted_at_node</span><span class=\"p\">(</span><span class=\"n\">tree1</span><span class=\"p\">,</span> <span class=\"n\">subtree</span><span class=\"p\">,</span> <span class=\"n\">tree1_node</span><span class=\"p\">)</span> <span class=\"o\">*</span> <span class=\"n\">is_rooted_at_node</span><span class=\"p\">(</span><span class=\"n\">tree2</span><span class=\"p\">,</span> <span class=\"n\">subtree</span><span class=\"p\">,</span> <span class=\"n\">tree2_node</span><span class=\"p\">)</span>\n",
        "    <span class=\"k\">return</span> <span class=\"n\">common_sts</span>\n",
        "</pre></div>\n",
        "</body>\n",
        "</html>\n"
       ],
       "metadata": {},
       "output_type": "pyout",
       "prompt_number": 13,
       "text": [
        "<IPython.core.display.HTML at 0x157c750>"
       ]
      }
     ],
     "prompt_number": 13
    },
    {
     "cell_type": "code",
     "collapsed": false,
     "input": [
      "print_source(tree_kernel_polynomial)"
     ],
     "language": "python",
     "metadata": {},
     "outputs": [
      {
       "html": [
        "<!DOCTYPE html PUBLIC \"-//W3C//DTD HTML 4.01//EN\"\n",
        "   \"http://www.w3.org/TR/html4/strict.dtd\">\n",
        "\n",
        "<html>\n",
        "<head>\n",
        "  <title></title>\n",
        "  <meta http-equiv=\"content-type\" content=\"text/html; charset=None\">\n",
        "  <style type=\"text/css\">\n",
        "td.linenos { background-color: #f0f0f0; padding-right: 10px; }\n",
        "span.lineno { background-color: #f0f0f0; padding: 0 5px 0 5px; }\n",
        "pre { line-height: 125%; }\n",
        "body .hll { background-color: #ffffcc }\n",
        "body .c { color: #408080; font-style: italic } /* Comment */\n",
        "body .err { border: 1px solid #FF0000 } /* Error */\n",
        "body .k { color: #008000; font-weight: bold } /* Keyword */\n",
        "body .o { color: #666666 } /* Operator */\n",
        "body .cm { color: #408080; font-style: italic } /* Comment.Multiline */\n",
        "body .cp { color: #BC7A00 } /* Comment.Preproc */\n",
        "body .c1 { color: #408080; font-style: italic } /* Comment.Single */\n",
        "body .cs { color: #408080; font-style: italic } /* Comment.Special */\n",
        "body .gd { color: #A00000 } /* Generic.Deleted */\n",
        "body .ge { font-style: italic } /* Generic.Emph */\n",
        "body .gr { color: #FF0000 } /* Generic.Error */\n",
        "body .gh { color: #000080; font-weight: bold } /* Generic.Heading */\n",
        "body .gi { color: #00A000 } /* Generic.Inserted */\n",
        "body .go { color: #888888 } /* Generic.Output */\n",
        "body .gp { color: #000080; font-weight: bold } /* Generic.Prompt */\n",
        "body .gs { font-weight: bold } /* Generic.Strong */\n",
        "body .gu { color: #800080; font-weight: bold } /* Generic.Subheading */\n",
        "body .gt { color: #0044DD } /* Generic.Traceback */\n",
        "body .kc { color: #008000; font-weight: bold } /* Keyword.Constant */\n",
        "body .kd { color: #008000; font-weight: bold } /* Keyword.Declaration */\n",
        "body .kn { color: #008000; font-weight: bold } /* Keyword.Namespace */\n",
        "body .kp { color: #008000 } /* Keyword.Pseudo */\n",
        "body .kr { color: #008000; font-weight: bold } /* Keyword.Reserved */\n",
        "body .kt { color: #B00040 } /* Keyword.Type */\n",
        "body .m { color: #666666 } /* Literal.Number */\n",
        "body .s { color: #BA2121 } /* Literal.String */\n",
        "body .na { color: #7D9029 } /* Name.Attribute */\n",
        "body .nb { color: #008000 } /* Name.Builtin */\n",
        "body .nc { color: #0000FF; font-weight: bold } /* Name.Class */\n",
        "body .no { color: #880000 } /* Name.Constant */\n",
        "body .nd { color: #AA22FF } /* Name.Decorator */\n",
        "body .ni { color: #999999; font-weight: bold } /* Name.Entity */\n",
        "body .ne { color: #D2413A; font-weight: bold } /* Name.Exception */\n",
        "body .nf { color: #0000FF } /* Name.Function */\n",
        "body .nl { color: #A0A000 } /* Name.Label */\n",
        "body .nn { color: #0000FF; font-weight: bold } /* Name.Namespace */\n",
        "body .nt { color: #008000; font-weight: bold } /* Name.Tag */\n",
        "body .nv { color: #19177C } /* Name.Variable */\n",
        "body .ow { color: #AA22FF; font-weight: bold } /* Operator.Word */\n",
        "body .w { color: #bbbbbb } /* Text.Whitespace */\n",
        "body .mf { color: #666666 } /* Literal.Number.Float */\n",
        "body .mh { color: #666666 } /* Literal.Number.Hex */\n",
        "body .mi { color: #666666 } /* Literal.Number.Integer */\n",
        "body .mo { color: #666666 } /* Literal.Number.Oct */\n",
        "body .sb { color: #BA2121 } /* Literal.String.Backtick */\n",
        "body .sc { color: #BA2121 } /* Literal.String.Char */\n",
        "body .sd { color: #BA2121; font-style: italic } /* Literal.String.Doc */\n",
        "body .s2 { color: #BA2121 } /* Literal.String.Double */\n",
        "body .se { color: #BB6622; font-weight: bold } /* Literal.String.Escape */\n",
        "body .sh { color: #BA2121 } /* Literal.String.Heredoc */\n",
        "body .si { color: #BB6688; font-weight: bold } /* Literal.String.Interpol */\n",
        "body .sx { color: #008000 } /* Literal.String.Other */\n",
        "body .sr { color: #BB6688 } /* Literal.String.Regex */\n",
        "body .s1 { color: #BA2121 } /* Literal.String.Single */\n",
        "body .ss { color: #19177C } /* Literal.String.Symbol */\n",
        "body .bp { color: #008000 } /* Name.Builtin.Pseudo */\n",
        "body .vc { color: #19177C } /* Name.Variable.Class */\n",
        "body .vg { color: #19177C } /* Name.Variable.Global */\n",
        "body .vi { color: #19177C } /* Name.Variable.Instance */\n",
        "body .il { color: #666666 } /* Literal.Number.Integer.Long */\n",
        "\n",
        "  </style>\n",
        "</head>\n",
        "<body>\n",
        "<h2></h2>\n",
        "\n",
        "<div class=\"highlight\"><pre><span class=\"k\">def</span> <span class=\"nf\">tree_kernel_polynomial</span><span class=\"p\">(</span><span class=\"n\">tree1</span><span class=\"p\">,</span> <span class=\"n\">tree2</span><span class=\"p\">,</span> <span class=\"n\">node_attrib</span><span class=\"o\">=</span><span class=\"s\">&#39;label&#39;</span><span class=\"p\">):</span>\n",
        "    <span class=\"sd\">&quot;&quot;&quot;</span>\n",
        "<span class=\"sd\">    \\sum_{n_1 \\in N_1} \\sum_{n_2 \\in N_2} C(n_1, n_2)</span>\n",
        "<span class=\"sd\">    &quot;&quot;&quot;</span>\n",
        "    <span class=\"n\">common_sts</span> <span class=\"o\">=</span> <span class=\"mi\">0</span>\n",
        "    <span class=\"k\">for</span> <span class=\"n\">tree1_node</span> <span class=\"ow\">in</span> <span class=\"n\">tree1</span><span class=\"o\">.</span><span class=\"n\">nodes_iter</span><span class=\"p\">():</span>\n",
        "        <span class=\"k\">for</span> <span class=\"n\">tree2_node</span> <span class=\"ow\">in</span> <span class=\"n\">tree2</span><span class=\"o\">.</span><span class=\"n\">nodes_iter</span><span class=\"p\">():</span>\n",
        "            <span class=\"n\">common_sts</span> <span class=\"o\">+=</span> <span class=\"n\">common_subtrees</span><span class=\"p\">(</span><span class=\"n\">tree1</span><span class=\"p\">,</span> <span class=\"n\">tree2</span><span class=\"p\">,</span> <span class=\"n\">tree1_node</span><span class=\"p\">,</span> <span class=\"n\">tree2_node</span><span class=\"p\">,</span> <span class=\"n\">node_attrib</span><span class=\"o\">=</span><span class=\"n\">node_attrib</span><span class=\"p\">)</span>\n",
        "    <span class=\"k\">return</span> <span class=\"n\">common_sts</span>\n",
        "</pre></div>\n",
        "</body>\n",
        "</html>\n"
       ],
       "metadata": {},
       "output_type": "pyout",
       "prompt_number": 14,
       "text": [
        "<IPython.core.display.HTML at 0x157c690>"
       ]
      }
     ],
     "prompt_number": 14
    },
    {
     "cell_type": "code",
     "collapsed": false,
     "input": [
      "print_source(find_all_common_subtrees_bruteforce)"
     ],
     "language": "python",
     "metadata": {},
     "outputs": [
      {
       "html": [
        "<!DOCTYPE html PUBLIC \"-//W3C//DTD HTML 4.01//EN\"\n",
        "   \"http://www.w3.org/TR/html4/strict.dtd\">\n",
        "\n",
        "<html>\n",
        "<head>\n",
        "  <title></title>\n",
        "  <meta http-equiv=\"content-type\" content=\"text/html; charset=None\">\n",
        "  <style type=\"text/css\">\n",
        "td.linenos { background-color: #f0f0f0; padding-right: 10px; }\n",
        "span.lineno { background-color: #f0f0f0; padding: 0 5px 0 5px; }\n",
        "pre { line-height: 125%; }\n",
        "body .hll { background-color: #ffffcc }\n",
        "body .c { color: #408080; font-style: italic } /* Comment */\n",
        "body .err { border: 1px solid #FF0000 } /* Error */\n",
        "body .k { color: #008000; font-weight: bold } /* Keyword */\n",
        "body .o { color: #666666 } /* Operator */\n",
        "body .cm { color: #408080; font-style: italic } /* Comment.Multiline */\n",
        "body .cp { color: #BC7A00 } /* Comment.Preproc */\n",
        "body .c1 { color: #408080; font-style: italic } /* Comment.Single */\n",
        "body .cs { color: #408080; font-style: italic } /* Comment.Special */\n",
        "body .gd { color: #A00000 } /* Generic.Deleted */\n",
        "body .ge { font-style: italic } /* Generic.Emph */\n",
        "body .gr { color: #FF0000 } /* Generic.Error */\n",
        "body .gh { color: #000080; font-weight: bold } /* Generic.Heading */\n",
        "body .gi { color: #00A000 } /* Generic.Inserted */\n",
        "body .go { color: #888888 } /* Generic.Output */\n",
        "body .gp { color: #000080; font-weight: bold } /* Generic.Prompt */\n",
        "body .gs { font-weight: bold } /* Generic.Strong */\n",
        "body .gu { color: #800080; font-weight: bold } /* Generic.Subheading */\n",
        "body .gt { color: #0044DD } /* Generic.Traceback */\n",
        "body .kc { color: #008000; font-weight: bold } /* Keyword.Constant */\n",
        "body .kd { color: #008000; font-weight: bold } /* Keyword.Declaration */\n",
        "body .kn { color: #008000; font-weight: bold } /* Keyword.Namespace */\n",
        "body .kp { color: #008000 } /* Keyword.Pseudo */\n",
        "body .kr { color: #008000; font-weight: bold } /* Keyword.Reserved */\n",
        "body .kt { color: #B00040 } /* Keyword.Type */\n",
        "body .m { color: #666666 } /* Literal.Number */\n",
        "body .s { color: #BA2121 } /* Literal.String */\n",
        "body .na { color: #7D9029 } /* Name.Attribute */\n",
        "body .nb { color: #008000 } /* Name.Builtin */\n",
        "body .nc { color: #0000FF; font-weight: bold } /* Name.Class */\n",
        "body .no { color: #880000 } /* Name.Constant */\n",
        "body .nd { color: #AA22FF } /* Name.Decorator */\n",
        "body .ni { color: #999999; font-weight: bold } /* Name.Entity */\n",
        "body .ne { color: #D2413A; font-weight: bold } /* Name.Exception */\n",
        "body .nf { color: #0000FF } /* Name.Function */\n",
        "body .nl { color: #A0A000 } /* Name.Label */\n",
        "body .nn { color: #0000FF; font-weight: bold } /* Name.Namespace */\n",
        "body .nt { color: #008000; font-weight: bold } /* Name.Tag */\n",
        "body .nv { color: #19177C } /* Name.Variable */\n",
        "body .ow { color: #AA22FF; font-weight: bold } /* Operator.Word */\n",
        "body .w { color: #bbbbbb } /* Text.Whitespace */\n",
        "body .mf { color: #666666 } /* Literal.Number.Float */\n",
        "body .mh { color: #666666 } /* Literal.Number.Hex */\n",
        "body .mi { color: #666666 } /* Literal.Number.Integer */\n",
        "body .mo { color: #666666 } /* Literal.Number.Oct */\n",
        "body .sb { color: #BA2121 } /* Literal.String.Backtick */\n",
        "body .sc { color: #BA2121 } /* Literal.String.Char */\n",
        "body .sd { color: #BA2121; font-style: italic } /* Literal.String.Doc */\n",
        "body .s2 { color: #BA2121 } /* Literal.String.Double */\n",
        "body .se { color: #BB6622; font-weight: bold } /* Literal.String.Escape */\n",
        "body .sh { color: #BA2121 } /* Literal.String.Heredoc */\n",
        "body .si { color: #BB6688; font-weight: bold } /* Literal.String.Interpol */\n",
        "body .sx { color: #008000 } /* Literal.String.Other */\n",
        "body .sr { color: #BB6688 } /* Literal.String.Regex */\n",
        "body .s1 { color: #BA2121 } /* Literal.String.Single */\n",
        "body .ss { color: #19177C } /* Literal.String.Symbol */\n",
        "body .bp { color: #008000 } /* Name.Builtin.Pseudo */\n",
        "body .vc { color: #19177C } /* Name.Variable.Class */\n",
        "body .vg { color: #19177C } /* Name.Variable.Global */\n",
        "body .vi { color: #19177C } /* Name.Variable.Instance */\n",
        "body .il { color: #666666 } /* Literal.Number.Integer.Long */\n",
        "\n",
        "  </style>\n",
        "</head>\n",
        "<body>\n",
        "<h2></h2>\n",
        "\n",
        "<div class=\"highlight\"><pre><span class=\"k\">def</span> <span class=\"nf\">find_all_common_subtrees_bruteforce</span><span class=\"p\">(</span><span class=\"n\">tree1</span><span class=\"p\">,</span> <span class=\"n\">tree2</span><span class=\"p\">,</span> <span class=\"n\">node_attrib</span><span class=\"o\">=</span><span class=\"bp\">None</span><span class=\"p\">):</span>\n",
        "    <span class=\"sd\">&quot;&quot;&quot;</span>\n",
        "<span class=\"sd\">    returns a list of all valid subtrees (Collins and Duffy 2001)</span>\n",
        "<span class=\"sd\">    that occur in both given trees.</span>\n",
        "<span class=\"sd\">    </span>\n",
        "<span class=\"sd\">    two subtrees are considered equal, iff they have the same structure</span>\n",
        "<span class=\"sd\">    and their node labels are identical.</span>\n",
        "<span class=\"sd\">    &quot;&quot;&quot;</span>\n",
        "    <span class=\"n\">same_node_label</span> <span class=\"o\">=</span> <span class=\"n\">iso</span><span class=\"o\">.</span><span class=\"n\">categorical_node_match</span><span class=\"p\">(</span><span class=\"s\">&#39;label&#39;</span><span class=\"p\">,</span> <span class=\"s\">&#39;&#39;</span><span class=\"p\">)</span>\n",
        "    <span class=\"n\">tree1_subtrees</span> <span class=\"o\">=</span> <span class=\"n\">get_subtrees</span><span class=\"p\">(</span><span class=\"n\">tree1</span><span class=\"p\">,</span> <span class=\"n\">node_attrib</span><span class=\"o\">=</span><span class=\"n\">node_attrib</span><span class=\"p\">)</span>\n",
        "    <span class=\"n\">tree2_subtrees</span> <span class=\"o\">=</span> <span class=\"n\">get_subtrees</span><span class=\"p\">(</span><span class=\"n\">tree2</span><span class=\"p\">,</span> <span class=\"n\">node_attrib</span><span class=\"o\">=</span><span class=\"n\">node_attrib</span><span class=\"p\">)</span>\n",
        "    <span class=\"n\">common_subtrees</span> <span class=\"o\">=</span> <span class=\"p\">[]</span>\n",
        "    <span class=\"k\">for</span> <span class=\"p\">(</span><span class=\"n\">subtree1</span><span class=\"p\">,</span> <span class=\"n\">subtree2</span><span class=\"p\">)</span> <span class=\"ow\">in</span> <span class=\"n\">itertools</span><span class=\"o\">.</span><span class=\"n\">product</span><span class=\"p\">(</span><span class=\"n\">tree1_subtrees</span><span class=\"p\">,</span> <span class=\"n\">tree2_subtrees</span><span class=\"p\">):</span>\n",
        "        <span class=\"k\">if</span> <span class=\"n\">nx</span><span class=\"o\">.</span><span class=\"n\">is_isomorphic</span><span class=\"p\">(</span><span class=\"n\">subtree1</span><span class=\"p\">,</span> <span class=\"n\">subtree2</span><span class=\"p\">,</span> <span class=\"n\">node_match</span><span class=\"o\">=</span><span class=\"n\">same_node_label</span><span class=\"p\">):</span>\n",
        "            <span class=\"n\">common_subtrees</span><span class=\"o\">.</span><span class=\"n\">append</span><span class=\"p\">(</span><span class=\"n\">subtree1</span><span class=\"p\">)</span>\n",
        "    <span class=\"k\">return</span> <span class=\"n\">common_subtrees</span>\n",
        "</pre></div>\n",
        "</body>\n",
        "</html>\n"
       ],
       "metadata": {},
       "output_type": "pyout",
       "prompt_number": 15,
       "text": [
        "<IPython.core.display.HTML at 0x15395d0>"
       ]
      }
     ],
     "prompt_number": 15
    },
    {
     "cell_type": "markdown",
     "metadata": {},
     "source": [
      "# Speed comparison: Tree kernel implementations\n",
      "\n",
      "- tree_kernel_naive() is really slow\n",
      "- even find_all_common_subtrees_bruteforce() is 2x faster\n",
      "- tree_kernel_polynomial() is more than 300x faster"
     ]
    },
    {
     "cell_type": "code",
     "collapsed": false,
     "input": [
      "%timeit tree_kernel_naive(tree_the_man_drank_wine, tree_the_man_killed_the_woman)"
     ],
     "language": "python",
     "metadata": {},
     "outputs": [
      {
       "output_type": "stream",
       "stream": "stdout",
       "text": [
        "1 loops, best of 3: 1.54 s per loop\n"
       ]
      }
     ],
     "prompt_number": 16
    },
    {
     "cell_type": "code",
     "collapsed": false,
     "input": [
      "%timeit tree_kernel_polynomial(tree_the_man_drank_wine, tree_the_man_killed_the_woman)"
     ],
     "language": "python",
     "metadata": {},
     "outputs": [
      {
       "output_type": "stream",
       "stream": "stdout",
       "text": [
        "100 loops, best of 3: 5.27 ms per loop\n"
       ]
      }
     ],
     "prompt_number": 17
    },
    {
     "cell_type": "code",
     "collapsed": false,
     "input": [
      "%timeit find_all_common_subtrees_bruteforce(tree_the_man_drank_wine, tree_the_man_killed_the_woman)"
     ],
     "language": "python",
     "metadata": {},
     "outputs": [
      {
       "output_type": "stream",
       "stream": "stdout",
       "text": [
        "1 loops, best of 3: 608 ms per loop\n"
       ]
      }
     ],
     "prompt_number": 18
    },
    {
     "cell_type": "code",
     "collapsed": false,
     "input": [
      "tree_kernel_naive(tree_alex_died, tree_alex_died) \\\n",
      "== tree_kernel_polynomial(tree_alex_died, tree_alex_died) \\\n",
      "== len(find_all_common_subtrees_bruteforce(tree_alex_died, tree_alex_died))"
     ],
     "language": "python",
     "metadata": {},
     "outputs": [
      {
       "metadata": {},
       "output_type": "pyout",
       "prompt_number": 19,
       "text": [
        "True"
       ]
      }
     ],
     "prompt_number": 19
    },
    {
     "cell_type": "markdown",
     "metadata": {},
     "source": [
      "## Moschitti test trees\n",
      "\n",
      "* from http://disi.unitn.it/moschitti/Tree-Kernel.htm"
     ]
    },
    {
     "cell_type": "code",
     "collapsed": false,
     "input": [
      "from IPython.display import Image"
     ],
     "language": "python",
     "metadata": {},
     "outputs": [],
     "prompt_number": 20
    },
    {
     "cell_type": "code",
     "collapsed": false,
     "input": [
      "Image('img/a-dog.png')"
     ],
     "language": "python",
     "metadata": {},
     "outputs": [
      {
       "metadata": {},
       "output_type": "pyout",
       "png": "[encoded data removed]",
       "prompt_number": 21,
       "text": [
        "<IPython.core.display.Image at 0x2551e50>"
       ]
      }
     ],
     "prompt_number": 21
    },
    {
     "cell_type": "code",
     "collapsed": false,
     "input": [
      "Image('img/a-cat.png')"
     ],
     "language": "python",
     "metadata": {},
     "outputs": [
      {
       "metadata": {},
       "output_type": "pyout",
       "png": "[encoded data removed]",
       "prompt_number": 22,
       "text": [
        "<IPython.core.display.Image at 0x25518d0>"
       ]
      }
     ],
     "prompt_number": 22
    },
    {
     "cell_type": "markdown",
     "metadata": {},
     "source": [
      "3 out of 5 structures are identical, therefore the similarity is equal to 3."
     ]
    },
    {
     "cell_type": "code",
     "collapsed": false,
     "input": [
      "tree1 = nx.DiGraph()\n",
      "tree1.add_edges_from([('NP', 'D'), ('NP', 'N'), ('D', 'a'), ('N', 'dog')])\n",
      "\n",
      "tree2 = nx.DiGraph()\n",
      "tree2.add_edges_from([('NP', 'D'), ('NP', 'N'), ('D', 'a'), ('N', 'cat')])"
     ],
     "language": "python",
     "metadata": {},
     "outputs": [],
     "prompt_number": 23
    },
    {
     "cell_type": "code",
     "collapsed": false,
     "input": [
      "# print tree_kernel(tree1, tree2)\n",
      "# print tree_kernel_recursive(tree1, tree2)"
     ],
     "language": "python",
     "metadata": {},
     "outputs": [],
     "prompt_number": 24
    },
    {
     "cell_type": "code",
     "collapsed": false,
     "input": [
      "tree3 = nx.DiGraph()\n",
      "tree3.add_edges_from([('D', 'a')])\n",
      "\n",
      "# print tree_kernel(tree3, tree3)\n",
      "# print tree_kernel_recursive(tree3, tree3)"
     ],
     "language": "python",
     "metadata": {},
     "outputs": [],
     "prompt_number": 25
    },
    {
     "cell_type": "code",
     "collapsed": false,
     "input": [
      "[s.edges() for s in get_subtrees(tree1)]"
     ],
     "language": "python",
     "metadata": {},
     "outputs": [
      {
       "metadata": {},
       "output_type": "pyout",
       "prompt_number": 26,
       "text": [
        "[[('D', 'a')],\n",
        " [('N', 'dog')],\n",
        " [('NP', 'D'), ('NP', 'N')],\n",
        " [('NP', 'D'), ('NP', 'N'), ('D', 'a')],\n",
        " [('NP', 'D'), ('NP', 'N'), ('N', 'dog')],\n",
        " [('NP', 'D'), ('NP', 'N'), ('D', 'a'), ('N', 'dog')]]"
       ]
      }
     ],
     "prompt_number": 26
    },
    {
     "cell_type": "code",
     "collapsed": false,
     "input": [
      "draw(tree_jeff_ate_cookies, show='ipynb')"
     ],
     "language": "python",
     "metadata": {},
     "outputs": [
      {
       "metadata": {},
       "output_type": "pyout",
       "png": "[encoded data removed]",
       "prompt_number": 27,
       "text": [
        "<IPython.core.display.Image at 0x2536ad0>"
       ]
      }
     ],
     "prompt_number": 27
    },
    {
     "cell_type": "code",
     "collapsed": false,
     "input": [
      "draw(tree_steve_ate_bananas, show='ipynb')"
     ],
     "language": "python",
     "metadata": {},
     "outputs": [
      {
       "metadata": {},
       "output_type": "pyout",
       "png": "[encoded data removed]",
       "prompt_number": 28,
       "text": [
        "<IPython.core.display.Image at 0x42f4150>"
       ]
      }
     ],
     "prompt_number": 28
    },
    {
     "cell_type": "code",
     "collapsed": false,
     "input": [
      "draw(tree_alex_died, show='ipynb')"
     ],
     "language": "python",
     "metadata": {},
     "outputs": [
      {
       "metadata": {},
       "output_type": "pyout",
       "png": "[encoded data removed]",
       "prompt_number": 29,
       "text": [
        "<IPython.core.display.Image at 0x2c7ef10>"
       ]
      }
     ],
     "prompt_number": 29
    },
    {
     "cell_type": "code",
     "collapsed": false,
     "input": [
      "draw(tree_the_man_drank_wine, show='ipynb')"
     ],
     "language": "python",
     "metadata": {},
     "outputs": [
      {
       "metadata": {},
       "output_type": "pyout",
       "png": "[encoded data removed]",
       "prompt_number": 30,
       "text": [
        "<IPython.core.display.Image at 0x2c83950>"
       ]
      }
     ],
     "prompt_number": 30
    },
    {
     "cell_type": "code",
     "collapsed": false,
     "input": [
      "draw(tree_the_man_killed_the_woman, show='ipynb')"
     ],
     "language": "python",
     "metadata": {},
     "outputs": [
      {
       "metadata": {},
       "output_type": "pyout",
       "png": "[encoded data removed]",
       "prompt_number": 31,
       "text": [
        "<IPython.core.display.Image at 0x2711e90>"
       ]
      }
     ],
     "prompt_number": 31
    },
    {
     "cell_type": "markdown",
     "metadata": {},
     "source": [
      "# production rules from (syntax) node labels vs. production rules from node IDs\n",
      "\n",
      "* syntax production rules is what we want\n",
      "\n",
      "**caveat**: it might produce subtrees we don't want\n",
      "e.g. if tree contains both ``NP -> N`` and ``NP -> D N`` rules\n",
      "the algorithm will produce an ``NP -> N -> Noun`` subtree even from\n",
      "a ``NP -> D N`` subtree"
     ]
    },
    {
     "cell_type": "code",
     "collapsed": false,
     "input": [
      "get_production_rules(tree_the_man_drank_wine, node_attrib='label')"
     ],
     "language": "python",
     "metadata": {},
     "outputs": [
      {
       "metadata": {},
       "output_type": "pyout",
       "prompt_number": 32,
       "text": [
        "{('D', ('the',)),\n",
        " ('N', ('man',)),\n",
        " ('N', ('wine',)),\n",
        " ('NP', ('D', 'N')),\n",
        " ('NP', ('N',)),\n",
        " ('S', ('NP', 'VP')),\n",
        " ('V', ('drank',)),\n",
        " ('VP', ('V', 'NP'))}"
       ]
      }
     ],
     "prompt_number": 32
    },
    {
     "cell_type": "code",
     "collapsed": false,
     "input": [
      "len(list(get_subtrees(tree_the_man_drank_wine, node_attrib='label')))"
     ],
     "language": "python",
     "metadata": {},
     "outputs": [
      {
       "metadata": {},
       "output_type": "pyout",
       "prompt_number": 33,
       "text": [
        "67"
       ]
      }
     ],
     "prompt_number": 33
    },
    {
     "cell_type": "code",
     "collapsed": false,
     "input": [
      "len(list(get_subtrees(tree_the_man_drank_wine)))"
     ],
     "language": "python",
     "metadata": {},
     "outputs": [
      {
       "metadata": {},
       "output_type": "pyout",
       "prompt_number": 34,
       "text": [
        "51"
       ]
      }
     ],
     "prompt_number": 34
    },
    {
     "cell_type": "code",
     "collapsed": false,
     "input": [
      "print len(find_all_common_subtrees_bruteforce(tree_jeff_ate_cookies, tree_jeff_ate_cookies))\n",
      "print len(find_all_common_subtrees_bruteforce(tree_jeff_ate_cookies, tree_jeff_ate_cookies, node_attrib='label'))"
     ],
     "language": "python",
     "metadata": {},
     "outputs": [
      {
       "output_type": "stream",
       "stream": "stdout",
       "text": [
        "36\n",
        "36"
       ]
      },
      {
       "output_type": "stream",
       "stream": "stdout",
       "text": [
        "\n"
       ]
      }
     ],
     "prompt_number": 35
    },
    {
     "cell_type": "code",
     "collapsed": false,
     "input": [
      "print len(find_all_common_subtrees_bruteforce(tree_jeff_ate_cookies, tree_steve_ate_bananas))\n",
      "print len(find_all_common_subtrees_bruteforce(tree_jeff_ate_cookies, tree_steve_ate_bananas, node_attrib='label'))"
     ],
     "language": "python",
     "metadata": {},
     "outputs": [
      {
       "output_type": "stream",
       "stream": "stdout",
       "text": [
        "19\n",
        "19"
       ]
      },
      {
       "output_type": "stream",
       "stream": "stdout",
       "text": [
        "\n"
       ]
      }
     ],
     "prompt_number": 36
    },
    {
     "cell_type": "code",
     "collapsed": false,
     "input": [
      "print len(find_all_common_subtrees_bruteforce(tree_jeff_ate_cookies, tree_the_man_drank_wine))\n",
      "print len(find_all_common_subtrees_bruteforce(tree_jeff_ate_cookies, tree_the_man_drank_wine, node_attrib='label'))"
     ],
     "language": "python",
     "metadata": {},
     "outputs": [
      {
       "output_type": "stream",
       "stream": "stdout",
       "text": [
        "7\n",
        "12"
       ]
      },
      {
       "output_type": "stream",
       "stream": "stdout",
       "text": [
        "\n"
       ]
      }
     ],
     "prompt_number": 37
    }
   ],
   "metadata": {}
  }
 ]
}